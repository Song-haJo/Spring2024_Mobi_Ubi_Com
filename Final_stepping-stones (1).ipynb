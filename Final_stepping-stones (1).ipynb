{
 "cells": [
  {
   "cell_type": "markdown",
   "id": "cfd818fb-6293-4fdc-95da-915030eafbe1",
   "metadata": {},
   "source": [
    "# Before Pruning"
   ]
  },
  {
   "cell_type": "markdown",
   "id": "af8237da-d1d5-400e-9ead-bb5fdb3731d1",
   "metadata": {
    "jp-MarkdownHeadingCollapsed": true
   },
   "source": [
    "## Mistral 7B"
   ]
  },
  {
   "cell_type": "code",
   "execution_count": 2,
   "id": "eae483ef-c256-4b6f-b5bd-e40978b7d1c4",
   "metadata": {},
   "outputs": [
    {
     "data": {
      "application/vnd.jupyter.widget-view+json": {
       "model_id": "f3d9e497c94a46c380f19e0f82b24bd7",
       "version_major": 2,
       "version_minor": 0
      },
      "text/plain": [
       "Loading checkpoint shards:   0%|          | 0/6 [00:00<?, ?it/s]"
      ]
     },
     "metadata": {},
     "output_type": "display_data"
    },
    {
     "name": "stderr",
     "output_type": "stream",
     "text": [
      "WARNING:root:Some parameters are on the meta device device because they were offloaded to the cpu.\n"
     ]
    },
    {
     "data": {
      "text/plain": [
       "MistralForCausalLM(\n",
       "  (model): MistralModel(\n",
       "    (embed_tokens): Embedding(32000, 4096)\n",
       "    (layers): ModuleList(\n",
       "      (0-31): 32 x MistralDecoderLayer(\n",
       "        (self_attn): MistralSdpaAttention(\n",
       "          (q_proj): Linear(in_features=4096, out_features=4096, bias=False)\n",
       "          (k_proj): Linear(in_features=4096, out_features=1024, bias=False)\n",
       "          (v_proj): Linear(in_features=4096, out_features=1024, bias=False)\n",
       "          (o_proj): Linear(in_features=4096, out_features=4096, bias=False)\n",
       "          (rotary_emb): MistralRotaryEmbedding()\n",
       "        )\n",
       "        (mlp): MistralMLP(\n",
       "          (gate_proj): Linear(in_features=4096, out_features=14336, bias=False)\n",
       "          (up_proj): Linear(in_features=4096, out_features=14336, bias=False)\n",
       "          (down_proj): Linear(in_features=14336, out_features=4096, bias=False)\n",
       "          (act_fn): SiLU()\n",
       "        )\n",
       "        (input_layernorm): MistralRMSNorm()\n",
       "        (post_attention_layernorm): MistralRMSNorm()\n",
       "      )\n",
       "    )\n",
       "    (norm): MistralRMSNorm()\n",
       "  )\n",
       "  (lm_head): Linear(in_features=4096, out_features=32000, bias=False)\n",
       ")"
      ]
     },
     "execution_count": 2,
     "metadata": {},
     "output_type": "execute_result"
    }
   ],
   "source": [
    "import torch\n",
    "from transformers import MistralForCausalLM, AutoTokenizer\n",
    "\n",
    "directory = \"../model/mistral_7b_v01__MistralAI\"\n",
    "model = MistralForCausalLM.from_pretrained(directory, device_map=\"auto\")\n",
    "model"
   ]
  },
  {
   "cell_type": "code",
   "execution_count": 3,
   "id": "957f30f2-ce30-44fa-bb56-323247bbf78c",
   "metadata": {},
   "outputs": [
    {
     "data": {
      "application/vnd.jupyter.widget-view+json": {
       "model_id": "706e5bbda10043f7a4159a133b3fa9c6",
       "version_major": 2,
       "version_minor": 0
      },
      "text/plain": [
       "Loading checkpoint shards:   0%|          | 0/6 [00:00<?, ?it/s]"
      ]
     },
     "metadata": {},
     "output_type": "display_data"
    },
    {
     "name": "stderr",
     "output_type": "stream",
     "text": [
      "WARNING:root:Some parameters are on the meta device device because they were offloaded to the cpu.\n",
      "huggingface/tokenizers: The current process just got forked, after parallelism has already been used. Disabling parallelism to avoid deadlocks...\n",
      "To disable this warning, you can either:\n",
      "\t- Avoid using `tokenizers` before the fork if possible\n",
      "\t- Explicitly set the environment variable TOKENIZERS_PARALLELISM=(true | false)\n",
      "Processing: 100%|██████████| 17/17 [31:13<00:00, 110.19s/it]"
     ]
    },
    {
     "name": "stdout",
     "output_type": "stream",
     "text": [
      "Perplexity: 5.520888805389404\n",
      "Elapsed time: 1873.210417509079 seconds\n",
      "Total samples processed: 17\n",
      "Samples passed: 0\n"
     ]
    },
    {
     "name": "stderr",
     "output_type": "stream",
     "text": [
      "\n"
     ]
    }
   ],
   "source": [
    "import time\n",
    "from tqdm import tqdm\n",
    "import torch\n",
    "from transformers import MistralForCausalLM, AutoTokenizer\n",
    "from datasets import load_dataset\n",
    "import math\n",
    "\n",
    "directory = \"../model/mistral_7b_v01__MistralAI\"\n",
    "tokenizer = AutoTokenizer.from_pretrained(directory)\n",
    "model = MistralForCausalLM.from_pretrained(directory, device_map=\"auto\")\n",
    "\n",
    "dataset = load_dataset(\"wikitext\", \"wikitext-2-raw-v1\", split=\"test[:5%]\")  # 데이터셋의 5%만 사용\n",
    "max_length = model.config.max_position_embeddings\n",
    "stride = 32\n",
    "max_sample_length = 1024  # 설정 가능한 최대 샘플 길이\n",
    "\n",
    "# 데이터 전처리: 일정 크기가 넘는 샘플은 잘라서 처리\n",
    "texts = \"\\n\\n\".join(dataset[\"text\"])\n",
    "tokens = tokenizer(texts, return_tensors=\"pt\")\n",
    "input_ids = tokens.input_ids[0]\n",
    "\n",
    "# 최대 길이를 초과하는 텍스트 분할\n",
    "def split_long_text(input_ids, max_sample_length):\n",
    "    split_input_ids = []\n",
    "    for i in range(0, len(input_ids), max_sample_length):\n",
    "        split_input_ids.append(input_ids[i:i + max_sample_length])\n",
    "    return split_input_ids\n",
    "\n",
    "split_input_ids = split_long_text(input_ids, max_sample_length)\n",
    "\n",
    "# perplexity 계산: STRIDE = 32\n",
    "lls = []\n",
    "total_steps = len(split_input_ids)\n",
    "passed_samples = 0\n",
    "total_samples = 0\n",
    "\n",
    "# 시간 측정 시작\n",
    "start_time = time.time()\n",
    "for i, chunk in enumerate(tqdm(split_input_ids, total=total_steps, desc=\"Processing\")):\n",
    "    total_samples += 1\n",
    "\n",
    "    if chunk.size(0) > max_sample_length:\n",
    "        passed_samples += 1\n",
    "        print(f\"Skipping large sample at chunk {i}\")\n",
    "        continue\n",
    "\n",
    "    for j in range(0, chunk.size(0), stride):\n",
    "        begin_loc = max(j + stride - max_length, 0)\n",
    "        end_loc = min(j + stride, chunk.size(0))\n",
    "        trg_len = end_loc - j\n",
    "\n",
    "        input_ids_chunk = chunk[begin_loc:end_loc].unsqueeze(0).to('cuda')\n",
    "        target_ids = input_ids_chunk.clone()\n",
    "        target_ids[:, :-trg_len] = -100\n",
    "\n",
    "        with torch.no_grad():\n",
    "            outputs = model(input_ids_chunk)\n",
    "            shift_logits = outputs.logits[:, :-1, :].contiguous()\n",
    "            shift_labels = target_ids[:, 1:].contiguous()\n",
    "            loss_fct = torch.nn.CrossEntropyLoss(ignore_index=-100)\n",
    "            loss = loss_fct(shift_logits.view(-1, shift_logits.size(-1)), shift_labels.view(-1))\n",
    "            log_likelihood = loss * trg_len\n",
    "\n",
    "        lls.append(log_likelihood.cpu())\n",
    "\n",
    "ppl = torch.exp(torch.stack(lls).sum() / sum(len(chunk) for chunk in split_input_ids))\n",
    "print(f\"Perplexity: {ppl.item()}\")\n",
    "\n",
    "# 시간 측정 종료\n",
    "end_time = time.time()\n",
    "elapsed_time = end_time - start_time\n",
    "print(f\"Elapsed time: {elapsed_time} seconds\")\n",
    "\n",
    "# 패스된 샘플 수와 전체 샘플 수 출력\n",
    "print(f\"Total samples processed: {total_samples}\")\n",
    "print(f\"Samples passed: {passed_samples}\")\n"
   ]
  },
  {
   "cell_type": "code",
   "execution_count": 1,
   "id": "dada9511-eab8-4663-a4f5-aafe29c78245",
   "metadata": {},
   "outputs": [
    {
     "data": {
      "application/vnd.jupyter.widget-view+json": {
       "model_id": "0fb0c6f24eb646afb46a3ce61fb29887",
       "version_major": 2,
       "version_minor": 0
      },
      "text/plain": [
       "Loading checkpoint shards:   0%|          | 0/6 [00:00<?, ?it/s]"
      ]
     },
     "metadata": {},
     "output_type": "display_data"
    },
    {
     "name": "stderr",
     "output_type": "stream",
     "text": [
      "/usr/local/lib/python3.9/site-packages/datasets/load.py:1486: FutureWarning: The repository for ptb_text_only contains custom code which must be executed to correctly load the dataset. You can inspect the repository content at https://hf.co/datasets/ptb_text_only\n",
      "You can avoid this message in future by passing the argument `trust_remote_code=True`.\n",
      "Passing `trust_remote_code=True` will be mandatory to load this dataset from the next major release of `datasets`.\n",
      "  warnings.warn(\n",
      "Processing: 100%|██████████| 107/107 [53:05<00:00, 29.77s/it]"
     ]
    },
    {
     "name": "stdout",
     "output_type": "stream",
     "text": [
      "Perplexity: 27.74935531616211\n",
      "Elapsed time: 3185.6439678668976 seconds\n",
      "Total samples processed: 107\n",
      "Samples passed: 0\n"
     ]
    },
    {
     "name": "stderr",
     "output_type": "stream",
     "text": [
      "\n"
     ]
    }
   ],
   "source": [
    "import time\n",
    "from tqdm import tqdm\n",
    "import torch\n",
    "from transformers import MistralForCausalLM, AutoTokenizer\n",
    "from datasets import load_dataset\n",
    "import math\n",
    "\n",
    "directory = \"../model/mistral_7b_v01__MistralAI\"\n",
    "tokenizer = AutoTokenizer.from_pretrained(directory)\n",
    "model = MistralForCausalLM.from_pretrained(directory, device_map=\"auto\")\n",
    "\n",
    "# PTB 데이터셋 사용\n",
    "dataset = load_dataset(\"ptb_text_only\", split=\"test\")  # PTB 데이터셋의 테스트 split 사용\n",
    "max_length = model.config.max_position_embeddings\n",
    "stride = 32\n",
    "max_sample_length = 1024  # 설정 가능한 최대 샘플 길이\n",
    "\n",
    "# 데이터 전처리: 일정 크기가 넘는 샘플은 잘라서 처리\n",
    "texts = \"\\n\\n\".join(dataset[\"sentence\"])\n",
    "tokens = tokenizer(texts, return_tensors=\"pt\")\n",
    "input_ids = tokens.input_ids[0]\n",
    "\n",
    "# 최대 길이를 초과하는 텍스트 분할\n",
    "def split_long_text(input_ids, max_sample_length):\n",
    "    split_input_ids = []\n",
    "    for i in range(0, len(input_ids), max_sample_length):\n",
    "        split_input_ids.append(input_ids[i:i + max_sample_length])\n",
    "    return split_input_ids\n",
    "\n",
    "split_input_ids = split_long_text(input_ids, max_sample_length)\n",
    "\n",
    "# perplexity 계산: STRIDE = 32\n",
    "lls = []\n",
    "total_steps = len(split_input_ids)\n",
    "passed_samples = 0\n",
    "total_samples = 0\n",
    "\n",
    "# 시간 측정 시작\n",
    "start_time = time.time()\n",
    "for i, chunk in enumerate(tqdm(split_input_ids, total=total_steps, desc=\"Processing\")):\n",
    "    total_samples += 1\n",
    "\n",
    "    if chunk.size(0) > max_sample_length:\n",
    "        passed_samples += 1\n",
    "        print(f\"Skipping large sample at chunk {i}\")\n",
    "        continue\n",
    "\n",
    "    for j in range(0, chunk.size(0), stride):\n",
    "        begin_loc = max(j + stride - max_length, 0)\n",
    "        end_loc = min(j + stride, chunk.size(0))\n",
    "        trg_len = end_loc - j\n",
    "\n",
    "        input_ids_chunk = chunk[begin_loc:end_loc].unsqueeze(0).to('cuda')\n",
    "        target_ids = input_ids_chunk.clone()\n",
    "        target_ids[:, :-trg_len] = -100\n",
    "\n",
    "        with torch.no_grad():\n",
    "            outputs = model(input_ids_chunk)\n",
    "            shift_logits = outputs.logits[:, :-1, :].contiguous()\n",
    "            shift_labels = target_ids[:, 1:].contiguous()\n",
    "            loss_fct = torch.nn.CrossEntropyLoss(ignore_index=-100)\n",
    "            loss = loss_fct(shift_logits.view(-1, shift_logits.size(-1)), shift_labels.view(-1))\n",
    "            log_likelihood = loss * trg_len\n",
    "\n",
    "        lls.append(log_likelihood.cpu())\n",
    "\n",
    "ppl = torch.exp(torch.stack(lls).sum() / sum(len(chunk) for chunk in split_input_ids))\n",
    "print(f\"Perplexity: {ppl.item()}\")\n",
    "\n",
    "# 시간 측정 종료\n",
    "end_time = time.time()\n",
    "elapsed_time = end_time - start_time\n",
    "print(f\"Elapsed time: {elapsed_time} seconds\")\n",
    "\n",
    "# 패스된 샘플 수와 전체 샘플 수 출력\n",
    "print(f\"Total samples processed: {total_samples}\")\n",
    "print(f\"Samples passed: {passed_samples}\")\n"
   ]
  },
  {
   "cell_type": "code",
   "execution_count": 1,
   "id": "a89f15cc-febb-483f-9405-c75fa6caa83c",
   "metadata": {},
   "outputs": [
    {
     "data": {
      "application/vnd.jupyter.widget-view+json": {
       "model_id": "e2cdcd6107c04ffbada3867912f8b360",
       "version_major": 2,
       "version_minor": 0
      },
      "text/plain": [
       "Loading checkpoint shards:   0%|          | 0/6 [00:00<?, ?it/s]"
      ]
     },
     "metadata": {},
     "output_type": "display_data"
    },
    {
     "name": "stderr",
     "output_type": "stream",
     "text": [
      "Processing: 100%|██████████| 23/23 [10:54<00:00, 28.47s/it]"
     ]
    },
    {
     "name": "stdout",
     "output_type": "stream",
     "text": [
      "Perplexity: 20.437850952148438\n",
      "Elapsed time: 654.7533278465271 seconds\n",
      "Total samples processed: 23\n",
      "Samples passed: 0\n"
     ]
    },
    {
     "name": "stderr",
     "output_type": "stream",
     "text": [
      "\n"
     ]
    }
   ],
   "source": [
    "import time\n",
    "from tqdm import tqdm\n",
    "import torch\n",
    "from transformers import MistralForCausalLM, AutoTokenizer\n",
    "from datasets import load_dataset\n",
    "import math\n",
    "\n",
    "directory = \"../model/mistral_7b_v01__MistralAI\"\n",
    "tokenizer = AutoTokenizer.from_pretrained(directory)\n",
    "model = MistralForCausalLM.from_pretrained(directory, device_map=\"auto\")\n",
    "\n",
    "# PTB 데이터셋 사용\n",
    "dataset = load_dataset(\"ptb_text_only\", split=\"test[:20%]\", trust_remote_code=True)  # PTB 데이터셋의 테스트 split 사용\n",
    "max_length = model.config.max_position_embeddings\n",
    "stride = 32\n",
    "max_sample_length = 1024  # 설정 가능한 최대 샘플 길이\n",
    "\n",
    "# 데이터 전처리: 일정 크기가 넘는 샘플은 잘라서 처리\n",
    "texts = \"\\n\\n\".join(dataset[\"sentence\"])\n",
    "tokens = tokenizer(texts, return_tensors=\"pt\")\n",
    "input_ids = tokens.input_ids[0]\n",
    "\n",
    "# 최대 길이를 초과하는 텍스트 분할\n",
    "def split_long_text(input_ids, max_sample_length):\n",
    "    split_input_ids = []\n",
    "    for i in range(0, len(input_ids), max_sample_length):\n",
    "        split_input_ids.append(input_ids[i:i + max_sample_length])\n",
    "    return split_input_ids\n",
    "\n",
    "split_input_ids = split_long_text(input_ids, max_sample_length)\n",
    "\n",
    "# perplexity 계산: STRIDE = 32\n",
    "lls = []\n",
    "total_steps = len(split_input_ids)\n",
    "passed_samples = 0\n",
    "total_samples = 0\n",
    "total_length = 0\n",
    "\n",
    "# 시간 측정 시작\n",
    "start_time = time.time()\n",
    "for i, chunk in enumerate(tqdm(split_input_ids, total=total_steps, desc=\"Processing\")):\n",
    "    total_samples += 1\n",
    "\n",
    "    if chunk.size(0) > max_sample_length:\n",
    "        passed_samples += 1\n",
    "        print(f\"Skipping large sample at chunk {i}\")\n",
    "        continue\n",
    "\n",
    "    for j in range(0, chunk.size(0), stride):\n",
    "        begin_loc = max(j + stride - max_length, 0)\n",
    "        end_loc = min(j + stride, chunk.size(0))\n",
    "        trg_len = end_loc - j\n",
    "        total_length += trg_len\n",
    "\n",
    "        input_ids_chunk = chunk[begin_loc:end_loc].unsqueeze(0).to('cuda')\n",
    "        target_ids = input_ids_chunk.clone()\n",
    "        target_ids[:, :-trg_len] = -100\n",
    "\n",
    "        with torch.no_grad():\n",
    "            outputs = model(input_ids_chunk)\n",
    "            shift_logits = outputs.logits[:, :-1, :].contiguous()\n",
    "            shift_labels = target_ids[:, 1:].contiguous()\n",
    "            loss_fct = torch.nn.CrossEntropyLoss(ignore_index=-100)\n",
    "            loss = loss_fct(shift_logits.view(-1, shift_logits.size(-1)), shift_labels.view(-1))\n",
    "            log_likelihood = loss * trg_len\n",
    "\n",
    "        lls.append(log_likelihood.cpu())\n",
    "\n",
    "# 전체 로그 가능도의 합을 전체 토큰 수로 나누어 평균을 구함\n",
    "average_log_likelihood = torch.stack(lls).sum() / total_length\n",
    "ppl = torch.exp(average_log_likelihood)\n",
    "print(f\"Perplexity: {ppl.item()}\")\n",
    "\n",
    "# 시간 측정 종료\n",
    "end_time = time.time()\n",
    "elapsed_time = end_time - start_time\n",
    "print(f\"Elapsed time: {elapsed_time} seconds\")\n",
    "\n",
    "# 패스된 샘플 수와 전체 샘플 수 출력\n",
    "print(f\"Total samples processed: {total_samples}\")\n",
    "print(f\"Samples passed: {passed_samples}\")\n"
   ]
  },
  {
   "cell_type": "markdown",
   "id": "7129d556-dd5a-4983-952c-cdce81ed7cdf",
   "metadata": {},
   "source": [
    "## Llama-2 7B"
   ]
  },
  {
   "cell_type": "code",
   "execution_count": 1,
   "id": "94eb9b2a-0999-4cdf-aa2a-e974d5fb90e6",
   "metadata": {},
   "outputs": [
    {
     "data": {
      "application/vnd.jupyter.widget-view+json": {
       "model_id": "d5c2547aeecf4a88b8ef8da4f542ee37",
       "version_major": 2,
       "version_minor": 0
      },
      "text/plain": [
       "Loading checkpoint shards:   0%|          | 0/6 [00:00<?, ?it/s]"
      ]
     },
     "metadata": {},
     "output_type": "display_data"
    },
    {
     "data": {
      "text/plain": [
       "LlamaForCausalLM(\n",
       "  (model): LlamaModel(\n",
       "    (embed_tokens): Embedding(32000, 4096)\n",
       "    (layers): ModuleList(\n",
       "      (0-31): 32 x LlamaDecoderLayer(\n",
       "        (self_attn): LlamaSdpaAttention(\n",
       "          (q_proj): Linear(in_features=4096, out_features=4096, bias=False)\n",
       "          (k_proj): Linear(in_features=4096, out_features=4096, bias=False)\n",
       "          (v_proj): Linear(in_features=4096, out_features=4096, bias=False)\n",
       "          (o_proj): Linear(in_features=4096, out_features=4096, bias=False)\n",
       "          (rotary_emb): LlamaRotaryEmbedding()\n",
       "        )\n",
       "        (mlp): LlamaMLP(\n",
       "          (gate_proj): Linear(in_features=4096, out_features=11008, bias=False)\n",
       "          (up_proj): Linear(in_features=4096, out_features=11008, bias=False)\n",
       "          (down_proj): Linear(in_features=11008, out_features=4096, bias=False)\n",
       "          (act_fn): SiLU()\n",
       "        )\n",
       "        (input_layernorm): LlamaRMSNorm()\n",
       "        (post_attention_layernorm): LlamaRMSNorm()\n",
       "      )\n",
       "    )\n",
       "    (norm): LlamaRMSNorm()\n",
       "  )\n",
       "  (lm_head): Linear(in_features=4096, out_features=32000, bias=False)\n",
       ")"
      ]
     },
     "execution_count": 1,
     "metadata": {},
     "output_type": "execute_result"
    }
   ],
   "source": [
    "import torch\n",
    "from transformers import AutoModelForCausalLM, AutoTokenizer\n",
    "\n",
    "directory = \"../model/llama_2_7b_hf__meta_llama\"\n",
    "model = AutoModelForCausalLM.from_pretrained(directory, device_map=\"auto\")\n",
    "model"
   ]
  },
  {
   "cell_type": "code",
   "execution_count": 1,
   "id": "a98343f9-c9fa-4506-ab2a-e41e548cb100",
   "metadata": {},
   "outputs": [
    {
     "data": {
      "application/vnd.jupyter.widget-view+json": {
       "model_id": "6fae8f3d563a4bd6bc0ee927aced7fe3",
       "version_major": 2,
       "version_minor": 0
      },
      "text/plain": [
       "Loading checkpoint shards:   0%|          | 0/6 [00:00<?, ?it/s]"
      ]
     },
     "metadata": {},
     "output_type": "display_data"
    },
    {
     "name": "stderr",
     "output_type": "stream",
     "text": [
      "Processing: 100%|██████████| 17/17 [07:49<00:00, 27.59s/it]"
     ]
    },
    {
     "name": "stdout",
     "output_type": "stream",
     "text": [
      "Perplexity: 5.761183738708496\n",
      "Elapsed time: 469.0346462726593 seconds\n",
      "Total samples processed: 17\n",
      "Samples passed: 0\n"
     ]
    },
    {
     "name": "stderr",
     "output_type": "stream",
     "text": [
      "\n"
     ]
    }
   ],
   "source": [
    "import time\n",
    "from tqdm import tqdm\n",
    "import torch\n",
    "from transformers import AutoModelForCausalLM, AutoTokenizer\n",
    "from datasets import load_dataset\n",
    "import math\n",
    "\n",
    "directory = \"../model/llama_2_7b_hf__meta_llama\"\n",
    "tokenizer = AutoTokenizer.from_pretrained(directory)\n",
    "model = AutoModelForCausalLM.from_pretrained(directory, device_map=\"auto\")\n",
    "\n",
    "dataset = load_dataset(\"wikitext\", \"wikitext-2-raw-v1\", split=\"test[:5%]\")  # 데이터셋의 5%만 사용\n",
    "max_length = model.config.max_position_embeddings\n",
    "stride = 32\n",
    "max_sample_length = 1024  # 설정 가능한 최대 샘플 길이\n",
    "\n",
    "# 데이터 전처리: 일정 크기가 넘는 샘플은 잘라서 처리\n",
    "texts = \"\\n\\n\".join(dataset[\"text\"])\n",
    "tokens = tokenizer(texts, return_tensors=\"pt\")\n",
    "input_ids = tokens.input_ids[0]\n",
    "\n",
    "# 최대 길이를 초과하는 텍스트 분할\n",
    "def split_long_text(input_ids, max_sample_length):\n",
    "    split_input_ids = []\n",
    "    for i in range(0, len(input_ids), max_sample_length):\n",
    "        split_input_ids.append(input_ids[i:i + max_sample_length])\n",
    "    return split_input_ids\n",
    "\n",
    "split_input_ids = split_long_text(input_ids, max_sample_length)\n",
    "\n",
    "# perplexity 계산: STRIDE = 32\n",
    "lls = []\n",
    "total_steps = len(split_input_ids)\n",
    "passed_samples = 0\n",
    "total_samples = 0\n",
    "\n",
    "# 시간 측정 시작\n",
    "start_time = time.time()\n",
    "for i, chunk in enumerate(tqdm(split_input_ids, total=total_steps, desc=\"Processing\")):\n",
    "    total_samples += 1\n",
    "\n",
    "    if chunk.size(0) > max_sample_length:\n",
    "        passed_samples += 1\n",
    "        print(f\"Skipping large sample at chunk {i}\")\n",
    "        continue\n",
    "\n",
    "    for j in range(0, chunk.size(0), stride):\n",
    "        begin_loc = max(j + stride - max_length, 0)\n",
    "        end_loc = min(j + stride, chunk.size(0))\n",
    "        trg_len = end_loc - j\n",
    "\n",
    "        input_ids_chunk = chunk[begin_loc:end_loc].unsqueeze(0).to('cuda')\n",
    "        target_ids = input_ids_chunk.clone()\n",
    "        target_ids[:, :-trg_len] = -100\n",
    "\n",
    "        with torch.no_grad():\n",
    "            outputs = model(input_ids_chunk)\n",
    "            shift_logits = outputs.logits[:, :-1, :].contiguous()\n",
    "            shift_labels = target_ids[:, 1:].contiguous()\n",
    "            loss_fct = torch.nn.CrossEntropyLoss(ignore_index=-100)\n",
    "            loss = loss_fct(shift_logits.view(-1, shift_logits.size(-1)), shift_labels.view(-1))\n",
    "            log_likelihood = loss * trg_len\n",
    "\n",
    "        lls.append(log_likelihood.cpu())\n",
    "\n",
    "ppl = torch.exp(torch.stack(lls).sum() / sum(len(chunk) for chunk in split_input_ids))\n",
    "print(f\"Perplexity: {ppl.item()}\")\n",
    "\n",
    "# 시간 측정 종료\n",
    "end_time = time.time()\n",
    "elapsed_time = end_time - start_time\n",
    "print(f\"Elapsed time: {elapsed_time} seconds\")\n",
    "\n",
    "# 패스된 샘플 수와 전체 샘플 수 출력\n",
    "print(f\"Total samples processed: {total_samples}\")\n",
    "print(f\"Samples passed: {passed_samples}\")\n"
   ]
  },
  {
   "cell_type": "code",
   "execution_count": 1,
   "id": "34fc256b",
   "metadata": {},
   "outputs": [
    {
     "data": {
      "application/vnd.jupyter.widget-view+json": {
       "model_id": "6fae8f3d563a4bd6bc0ee927aced7fe3",
       "version_major": 2,
       "version_minor": 0
      },
      "text/plain": [
       "Loading checkpoint shards:   0%|          | 0/6 [00:00<?, ?it/s]"
      ]
     },
     "metadata": {},
     "output_type": "display_data"
    },
    {
     "name": "stderr",
     "output_type": "stream",
     "text": [
      "Processing: 100%|██████████| 17/17 [07:49<00:00, 27.59s/it]"
     ]
    },
    {
     "name": "stdout",
     "output_type": "stream",
     "text": [
      "Perplexity: 5.761183738708496\n",
      "Elapsed time: 469.0346462726593 seconds\n",
      "Total samples processed: 17\n",
      "Samples passed: 0\n"
     ]
    },
    {
     "name": "stderr",
     "output_type": "stream",
     "text": [
      "\n"
     ]
    }
   ],
   "source": [
    "import time\n",
    "from tqdm import tqdm\n",
    "import torch\n",
    "from transformers import AutoModelForCausalLM, AutoTokenizer\n",
    "from datasets import load_dataset\n",
    "import math\n",
    "\n",
    "directory = \"../model/llama_2_7b_hf__meta_llama\"\n",
    "tokenizer = AutoTokenizer.from_pretrained(directory)\n",
    "model = AutoModelForCausalLM.from_pretrained(directory, device_map=\"auto\")\n",
    "\n",
    "dataset = load_dataset(\"c4\", \"en\", split=\"train[:20%]\")  # 데이터셋의 5%만 사용\n",
    "max_length = model.config.max_position_embeddings\n",
    "stride = 32\n",
    "max_sample_length = 1024  # 설정 가능한 최대 샘플 길이\n",
    "\n",
    "# 데이터 전처리: 일정 크기가 넘는 샘플은 잘라서 처리\n",
    "texts = \"\\n\\n\".join(dataset[\"text\"])\n",
    "tokens = tokenizer(texts, return_tensors=\"pt\")\n",
    "input_ids = tokens.input_ids[0]\n",
    "\n",
    "# 최대 길이를 초과하는 텍스트 분할\n",
    "def split_long_text(input_ids, max_sample_length):\n",
    "    split_input_ids = []\n",
    "    for i in range(0, len(input_ids), max_sample_length):\n",
    "        split_input_ids.append(input_ids[i:i + max_sample_length])\n",
    "    return split_input_ids\n",
    "\n",
    "split_input_ids = split_long_text(input_ids, max_sample_length)\n",
    "\n",
    "# perplexity 계산: STRIDE = 32\n",
    "lls = []\n",
    "total_steps = len(split_input_ids)\n",
    "passed_samples = 0\n",
    "total_samples = 0\n",
    "\n",
    "# 시간 측정 시작\n",
    "start_time = time.time()\n",
    "for i, chunk in enumerate(tqdm(split_input_ids, total=total_steps, desc=\"Processing\")):\n",
    "    total_samples += 1\n",
    "\n",
    "    if chunk.size(0) > max_sample_length:\n",
    "        passed_samples += 1\n",
    "        print(f\"Skipping large sample at chunk {i}\")\n",
    "        continue\n",
    "\n",
    "    for j in range(0, chunk.size(0), stride):\n",
    "        begin_loc = max(j + stride - max_length, 0)\n",
    "        end_loc = min(j + stride, chunk.size(0))\n",
    "        trg_len = end_loc - j\n",
    "\n",
    "        input_ids_chunk = chunk[begin_loc:end_loc].unsqueeze(0).to('cuda')\n",
    "        target_ids = input_ids_chunk.clone()\n",
    "        target_ids[:, :-trg_len] = -100\n",
    "\n",
    "        with torch.no_grad():\n",
    "            outputs = model(input_ids_chunk)\n",
    "            shift_logits = outputs.logits[:, :-1, :].contiguous()\n",
    "            shift_labels = target_ids[:, 1:].contiguous()\n",
    "            loss_fct = torch.nn.CrossEntropyLoss(ignore_index=-100)\n",
    "            loss = loss_fct(shift_logits.view(-1, shift_logits.size(-1)), shift_labels.view(-1))\n",
    "            log_likelihood = loss * trg_len\n",
    "\n",
    "        lls.append(log_likelihood.cpu())\n",
    "\n",
    "ppl = torch.exp(torch.stack(lls).sum() / sum(len(chunk) for chunk in split_input_ids))\n",
    "print(f\"Perplexity: {ppl.item()}\")\n",
    "\n",
    "# 시간 측정 종료\n",
    "end_time = time.time()\n",
    "elapsed_time = end_time - start_time\n",
    "print(f\"Elapsed time: {elapsed_time} seconds\")\n",
    "\n",
    "# 패스된 샘플 수와 전체 샘플 수 출력\n",
    "print(f\"Total samples processed: {total_samples}\")\n",
    "print(f\"Samples passed: {passed_samples}\")\n"
   ]
  },
  {
   "cell_type": "code",
   "execution_count": 1,
   "id": "fd5a3673",
   "metadata": {},
   "outputs": [
    {
     "data": {
      "application/vnd.jupyter.widget-view+json": {
       "model_id": "9838e42d88e34a09a9e777ea07ac7c62",
       "version_major": 2,
       "version_minor": 0
      },
      "text/plain": [
       "Loading checkpoint shards:   0%|          | 0/6 [00:00<?, ?it/s]"
      ]
     },
     "metadata": {},
     "output_type": "display_data"
    },
    {
     "name": "stderr",
     "output_type": "stream",
     "text": [
      "Processing: 100%|██████████| 24/24 [10:48<00:00, 27.00s/it]"
     ]
    },
    {
     "name": "stdout",
     "output_type": "stream",
     "text": [
      "Perplexity: 19.79205894470215\n",
      "Elapsed time: 648.0248844623566 seconds\n",
      "Total samples processed: 24\n",
      "Samples passed: 0\n"
     ]
    },
    {
     "name": "stderr",
     "output_type": "stream",
     "text": [
      "\n"
     ]
    }
   ],
   "source": [
    "import time\n",
    "from tqdm import tqdm\n",
    "import torch\n",
    "from transformers import AutoModelForCausalLM, AutoTokenizer\n",
    "from datasets import load_dataset\n",
    "import math\n",
    "\n",
    "directory = \"../model/llama_2_7b_hf__meta_llama\"\n",
    "tokenizer = AutoTokenizer.from_pretrained(directory)\n",
    "model = AutoModelForCausalLM.from_pretrained(directory, device_map=\"auto\")\n",
    "\n",
    "# PTB 데이터셋 사용\n",
    "dataset = load_dataset(\"ptb_text_only\", split=\"test[:20%]\", trust_remote_code=True)  # PTB 데이터셋의 테스트 split 사용\n",
    "max_length = model.config.max_position_embeddings\n",
    "stride = 32\n",
    "max_sample_length = 1024  # 설정 가능한 최대 샘플 길이\n",
    "\n",
    "# 데이터 전처리: 일정 크기가 넘는 샘플은 잘라서 처리\n",
    "texts = \"\\n\\n\".join(dataset[\"sentence\"])\n",
    "tokens = tokenizer(texts, return_tensors=\"pt\")\n",
    "input_ids = tokens.input_ids[0]\n",
    "\n",
    "# 최대 길이를 초과하는 텍스트 분할\n",
    "def split_long_text(input_ids, max_sample_length):\n",
    "    split_input_ids = []\n",
    "    for i in range(0, len(input_ids), max_sample_length):\n",
    "        split_input_ids.append(input_ids[i:i + max_sample_length])\n",
    "    return split_input_ids\n",
    "\n",
    "split_input_ids = split_long_text(input_ids, max_sample_length)\n",
    "\n",
    "# perplexity 계산: STRIDE = 32\n",
    "lls = []\n",
    "total_steps = len(split_input_ids)\n",
    "passed_samples = 0\n",
    "total_samples = 0\n",
    "total_length = 0\n",
    "\n",
    "# 시간 측정 시작\n",
    "start_time = time.time()\n",
    "for i, chunk in enumerate(tqdm(split_input_ids, total=total_steps, desc=\"Processing\")):\n",
    "    total_samples += 1\n",
    "\n",
    "    if chunk.size(0) > max_sample_length:\n",
    "        passed_samples += 1\n",
    "        print(f\"Skipping large sample at chunk {i}\")\n",
    "        continue\n",
    "\n",
    "    for j in range(0, chunk.size(0), stride):\n",
    "        begin_loc = max(j + stride - max_length, 0)\n",
    "        end_loc = min(j + stride, chunk.size(0))\n",
    "        trg_len = end_loc - j\n",
    "        total_length += trg_len\n",
    "\n",
    "        input_ids_chunk = chunk[begin_loc:end_loc].unsqueeze(0).to('cuda')\n",
    "        target_ids = input_ids_chunk.clone()\n",
    "        target_ids[:, :-trg_len] = -100\n",
    "\n",
    "        with torch.no_grad():\n",
    "            outputs = model(input_ids_chunk)\n",
    "            shift_logits = outputs.logits[:, :-1, :].contiguous()\n",
    "            shift_labels = target_ids[:, 1:].contiguous()\n",
    "            loss_fct = torch.nn.CrossEntropyLoss(ignore_index=-100)\n",
    "            loss = loss_fct(shift_logits.view(-1, shift_logits.size(-1)), shift_labels.view(-1))\n",
    "            log_likelihood = loss * trg_len\n",
    "\n",
    "        lls.append(log_likelihood.cpu())\n",
    "\n",
    "# 전체 로그 가능도의 합을 전체 토큰 수로 나누어 평균을 구함\n",
    "average_log_likelihood = torch.stack(lls).sum() / total_length\n",
    "ppl = torch.exp(average_log_likelihood)\n",
    "print(f\"Perplexity: {ppl.item()}\")\n",
    "\n",
    "# 시간 측정 종료\n",
    "end_time = time.time()\n",
    "elapsed_time = end_time - start_time\n",
    "print(f\"Elapsed time: {elapsed_time} seconds\")\n",
    "\n",
    "# 패스된 샘플 수와 전체 샘플 수 출력\n",
    "print(f\"Total samples processed: {total_samples}\")\n",
    "print(f\"Samples passed: {passed_samples}\")\n"
   ]
  },
  {
   "cell_type": "markdown",
   "id": "12e14388-0703-447d-a270-766dcbee84c8",
   "metadata": {},
   "source": [
    "# Random"
   ]
  },
  {
   "cell_type": "markdown",
   "id": "be93a1e5-9be6-4b5a-bac1-e0f0a1ec0401",
   "metadata": {},
   "source": [
    "## Mistral"
   ]
  },
  {
   "cell_type": "code",
   "execution_count": 1,
   "id": "2919409d-9f92-458d-9c99-786c60d6ac46",
   "metadata": {},
   "outputs": [
    {
     "data": {
      "application/vnd.jupyter.widget-view+json": {
       "model_id": "c0629bd56ccb43ae90731c4dcb8ff1af",
       "version_major": 2,
       "version_minor": 0
      },
      "text/plain": [
       "Loading checkpoint shards:   0%|          | 0/6 [00:00<?, ?it/s]"
      ]
     },
     "metadata": {},
     "output_type": "display_data"
    }
   ],
   "source": [
    "import torch\n",
    "import random\n",
    "from transformers import MistralForCausalLM, AutoTokenizer\n",
    "from datasets import load_dataset\n",
    "import time\n",
    "from tqdm import tqdm\n",
    "import matplotlib.pyplot as plt\n",
    "\n",
    "class RandomPrunedModel(MistralForCausalLM):\n",
    "    def __init__(self, config):\n",
    "        super().__init__(config)\n",
    "        self.pruned_layers = set()\n",
    "    \n",
    "    def prune_layers(self, num_layers_to_prune):\n",
    "        total_layers = len(self.model.layers)\n",
    "        self.pruned_layers = set(random.sample(range(total_layers), num_layers_to_prune))\n",
    "\n",
    "    def forward(self, input_ids, **kwargs):\n",
    "        hidden_states = self.model.embed_tokens(input_ids)\n",
    "        \n",
    "        for i, layer_module in enumerate(self.model.layers):\n",
    "            if i in self.pruned_layers:\n",
    "                continue\n",
    "\n",
    "            hidden_states = layer_module(hidden_states, **kwargs)[0]\n",
    "\n",
    "        hidden_states = self.model.norm(hidden_states)\n",
    "        logits = self.lm_head(hidden_states)\n",
    "        return logits\n",
    "# 모델 로드\n",
    "directory = \"../model/mistral_7b_v01__MistralAI\"\n",
    "tokenizer = AutoTokenizer.from_pretrained(directory)\n",
    "model = RandomPrunedModel.from_pretrained(directory, device_map=\"auto\")\n"
   ]
  },
  {
   "cell_type": "code",
   "execution_count": 2,
   "id": "b3627777-0e13-4818-9cf6-abd3f1e1343a",
   "metadata": {},
   "outputs": [],
   "source": [
    "# PTB 데이터셋 사용\n",
    "dataset = load_dataset(\"ptb_text_only\", split=\"test[:15%]\", trust_remote_code=True)  # PTB 데이터셋의 테스트 split 사용\n",
    "max_length = model.config.max_position_embeddings\n",
    "stride = 32\n",
    "max_sample_length = 1024  # 설정 가능한 최대 샘플 길이\n",
    "\n",
    "# 데이터 전처리: 일정 크기가 넘는 샘플은 잘라서 처리\n",
    "texts = \"\\n\\n\".join(dataset[\"sentence\"])\n",
    "tokens = tokenizer(texts, return_tensors=\"pt\")\n",
    "input_ids = tokens.input_ids[0]\n",
    "\n",
    "# 최대 길이를 초과하는 텍스트 분할\n",
    "def split_long_text(input_ids, max_sample_length):\n",
    "    split_input_ids = []\n",
    "    for i in range(0, len(input_ids), max_sample_length):\n",
    "        split_input_ids.append(input_ids[i:i + max_sample_length])\n",
    "    return split_input_ids\n",
    "\n",
    "split_input_ids = split_long_text(input_ids, max_sample_length)\n"
   ]
  },
  {
   "cell_type": "code",
   "execution_count": 3,
   "id": "d5e775e2-e98b-43ab-8c5c-5c49f924b177",
   "metadata": {},
   "outputs": [],
   "source": [
    "def calculate_perplexity_and_latency(model, split_input_ids, max_sample_length, stride):\n",
    "    lls = []\n",
    "    total_steps = len(split_input_ids)\n",
    "    passed_samples = 0\n",
    "    total_samples = 0\n",
    "    total_length = 0\n",
    "    start_time = time.time()\n",
    "    \n",
    "    for i, chunk in enumerate(tqdm(split_input_ids, total=total_steps, desc=\"Processing\")):\n",
    "        total_samples += 1\n",
    "\n",
    "        if chunk.size(0) > max_sample_length:\n",
    "            passed_samples += 1\n",
    "            continue\n",
    "\n",
    "        for j in range(0, chunk.size(0), stride):\n",
    "            begin_loc = max(j + stride - max_length, 0)\n",
    "            end_loc = min(j + stride, chunk.size(0))\n",
    "            trg_len = end_loc - j\n",
    "            total_length += trg_len\n",
    "\n",
    "            input_ids_chunk = chunk[begin_loc:end_loc].unsqueeze(0).to('cuda')\n",
    "            target_ids = input_ids_chunk.clone()\n",
    "            target_ids[:, :-trg_len] = -100\n",
    "\n",
    "            with torch.no_grad():\n",
    "                outputs = model(input_ids_chunk)\n",
    "                # print(outputs)\n",
    "                # print(outputs.shape)\n",
    "                shift_logits = outputs[:, :-1, :].contiguous()\n",
    "                shift_labels = target_ids[:, 1:].contiguous()\n",
    "                loss_fct = torch.nn.CrossEntropyLoss(ignore_index=-100)\n",
    "                loss = loss_fct(shift_logits.view(-1, shift_logits.size(-1)), shift_labels.view(-1))\n",
    "                log_likelihood = loss * trg_len\n",
    "\n",
    "            lls.append(log_likelihood.cpu())\n",
    "    \n",
    "    average_log_likelihood = torch.stack(lls).sum() / total_length\n",
    "    ppl = torch.exp(average_log_likelihood)\n",
    "    end_time = time.time()\n",
    "    latency = end_time - start_time\n",
    "    \n",
    "    return ppl.item(), latency\n"
   ]
  },
  {
   "cell_type": "code",
   "execution_count": 4,
   "id": "3b5bd4ee-dd9b-4047-b5f9-fbe9b52a150c",
   "metadata": {},
   "outputs": [
    {
     "name": "stdout",
     "output_type": "stream",
     "text": [
      "Pruned 1 layers (sparsity: 3.12%)\n"
     ]
    },
    {
     "name": "stderr",
     "output_type": "stream",
     "text": [
      "Processing: 100%|██████████| 17/17 [07:41<00:00, 27.18s/it]\n"
     ]
    },
    {
     "name": "stdout",
     "output_type": "stream",
     "text": [
      "Perplexity: 21.284154891967773, Latency: 462.0262870788574 seconds\n",
      "Pruned 2 layers (sparsity: 6.25%)\n"
     ]
    },
    {
     "name": "stderr",
     "output_type": "stream",
     "text": [
      "Processing: 100%|██████████| 17/17 [07:32<00:00, 26.64s/it]\n"
     ]
    },
    {
     "name": "stdout",
     "output_type": "stream",
     "text": [
      "Perplexity: 23.04996681213379, Latency: 452.922082901001 seconds\n",
      "Pruned 3 layers (sparsity: 9.38%)\n"
     ]
    },
    {
     "name": "stderr",
     "output_type": "stream",
     "text": [
      "Processing: 100%|██████████| 17/17 [07:20<00:00, 25.88s/it]\n"
     ]
    },
    {
     "name": "stdout",
     "output_type": "stream",
     "text": [
      "Perplexity: 34.24939727783203, Latency: 440.00926423072815 seconds\n",
      "Pruned 4 layers (sparsity: 12.50%)\n"
     ]
    },
    {
     "name": "stderr",
     "output_type": "stream",
     "text": [
      "Processing: 100%|██████████| 17/17 [07:09<00:00, 25.25s/it]\n"
     ]
    },
    {
     "name": "stdout",
     "output_type": "stream",
     "text": [
      "Perplexity: 41.47211837768555, Latency: 429.31597995758057 seconds\n",
      "Pruned 5 layers (sparsity: 15.62%)\n"
     ]
    },
    {
     "name": "stderr",
     "output_type": "stream",
     "text": [
      "Processing: 100%|██████████| 17/17 [06:52<00:00, 24.26s/it]"
     ]
    },
    {
     "name": "stdout",
     "output_type": "stream",
     "text": [
      "Perplexity: 37.67332458496094, Latency: 412.3584249019623 seconds\n"
     ]
    },
    {
     "name": "stderr",
     "output_type": "stream",
     "text": [
      "\n"
     ]
    }
   ],
   "source": [
    "results = []\n",
    "\n",
    "for num_pruned_layers in range(1, 6):  # 0에서 5까지\n",
    "    model.prune_layers(num_pruned_layers)\n",
    "    sparsity = num_pruned_layers / len(model.model.layers)\n",
    "    print(f\"Pruned {num_pruned_layers} layers (sparsity: {sparsity*100:.2f}%)\")\n",
    "    \n",
    "    ppl, latency = calculate_perplexity_and_latency(model, split_input_ids, max_sample_length, stride)\n",
    "    results.append((num_pruned_layers, sparsity, ppl, latency))\n",
    "    print(f\"Perplexity: {ppl}, Latency: {latency} seconds\")\n",
    "    \n",
    "    # Reset the model to unpruned state\n",
    "    model.pruned_layers = set()\n"
   ]
  },
  {
   "cell_type": "code",
   "execution_count": 10,
   "id": "17e58f16-9727-4ec1-8eb0-0849db379225",
   "metadata": {},
   "outputs": [
    {
     "data": {
      "text/plain": [
       "[(1, 0.03125, 21.284154891967773, 462.0262870788574),\n",
       " (2, 0.0625, 23.04996681213379, 452.922082901001),\n",
       " (3, 0.09375, 34.24939727783203, 440.00926423072815),\n",
       " (4, 0.125, 41.47211837768555, 429.31597995758057),\n",
       " (5, 0.15625, 37.67332458496094, 412.3584249019623)]"
      ]
     },
     "execution_count": 10,
     "metadata": {},
     "output_type": "execute_result"
    }
   ],
   "source": [
    "results"
   ]
  },
  {
   "cell_type": "code",
   "execution_count": 19,
   "id": "3323e869-4a75-4f93-82ad-797cf9c03ba4",
   "metadata": {},
   "outputs": [],
   "source": [
    "dataset = load_dataset(\"wikitext\", \"wikitext-2-raw-v1\", split=\"test[:5%]\")  # 데이터셋의 5%만 사용\n",
    "\n",
    "# 데이터 전처리: 일정 크기가 넘는 샘플은 잘라서 처리\n",
    "texts = \"\\n\\n\".join(dataset[\"text\"])\n",
    "tokens = tokenizer(texts, return_tensors=\"pt\")\n",
    "input_ids = tokens.input_ids[0]\n",
    "\n",
    "# 최대 길이를 초과하는 텍스트 분할\n",
    "def split_long_text(input_ids, max_sample_length):\n",
    "    split_input_ids = []\n",
    "    for i in range(0, len(input_ids), max_sample_length):\n",
    "        split_input_ids.append(input_ids[i:i + max_sample_length])\n",
    "    return split_input_ids\n",
    "\n",
    "split_input_ids = split_long_text(input_ids, max_sample_length)\n"
   ]
  },
  {
   "cell_type": "code",
   "execution_count": 20,
   "id": "55bf479c-a530-4d34-aefb-c4f34658ad19",
   "metadata": {},
   "outputs": [
    {
     "name": "stdout",
     "output_type": "stream",
     "text": [
      "Pruned 1 layers (sparsity: 3.12%)\n"
     ]
    },
    {
     "name": "stderr",
     "output_type": "stream",
     "text": [
      "Processing: 100%|██████████| 17/17 [07:53<00:00, 27.85s/it]\n"
     ]
    },
    {
     "name": "stdout",
     "output_type": "stream",
     "text": [
      "Perplexity: 6.015398025512695, Latency: 473.50696063041687 seconds\n",
      "Pruned 2 layers (sparsity: 6.25%)\n"
     ]
    },
    {
     "name": "stderr",
     "output_type": "stream",
     "text": [
      "Processing: 100%|██████████| 17/17 [07:45<00:00, 27.36s/it]\n"
     ]
    },
    {
     "name": "stdout",
     "output_type": "stream",
     "text": [
      "Perplexity: 7.062404632568359, Latency: 465.1228108406067 seconds\n",
      "Pruned 3 layers (sparsity: 9.38%)\n"
     ]
    },
    {
     "name": "stderr",
     "output_type": "stream",
     "text": [
      "Processing: 100%|██████████| 17/17 [07:31<00:00, 26.56s/it]\n"
     ]
    },
    {
     "name": "stdout",
     "output_type": "stream",
     "text": [
      "Perplexity: 10.950662612915039, Latency: 451.51061606407166 seconds\n",
      "Pruned 4 layers (sparsity: 12.50%)\n"
     ]
    },
    {
     "name": "stderr",
     "output_type": "stream",
     "text": [
      "Processing: 100%|██████████| 17/17 [07:16<00:00, 25.70s/it]\n"
     ]
    },
    {
     "name": "stdout",
     "output_type": "stream",
     "text": [
      "Perplexity: 6787.62841796875, Latency: 436.8935739994049 seconds\n",
      "Pruned 5 layers (sparsity: 15.62%)\n"
     ]
    },
    {
     "name": "stderr",
     "output_type": "stream",
     "text": [
      "Processing: 100%|██████████| 17/17 [06:56<00:00, 24.49s/it]"
     ]
    },
    {
     "name": "stdout",
     "output_type": "stream",
     "text": [
      "Perplexity: 12.865921974182129, Latency: 416.32886576652527 seconds\n"
     ]
    },
    {
     "name": "stderr",
     "output_type": "stream",
     "text": [
      "\n"
     ]
    }
   ],
   "source": [
    "results_ = []\n",
    "\n",
    "for num_pruned_layers in range(1, 6):  # 0에서 5까지\n",
    "    model.prune_layers(num_pruned_layers)\n",
    "    sparsity = num_pruned_layers / len(model.model.layers)\n",
    "    print(f\"Pruned {num_pruned_layers} layers (sparsity: {sparsity*100:.2f}%)\")\n",
    "    \n",
    "    ppl, latency = calculate_perplexity_and_latency(model, split_input_ids, max_sample_length, stride)\n",
    "    results_.append((num_pruned_layers, sparsity, ppl, latency))\n",
    "    print(f\"Perplexity: {ppl}, Latency: {latency} seconds\")\n",
    "    \n",
    "    # Reset the model to unpruned state\n",
    "    model.pruned_layers = set()\n"
   ]
  },
  {
   "cell_type": "code",
   "execution_count": 22,
   "id": "68ef9649-2722-4f16-845a-be991db96889",
   "metadata": {},
   "outputs": [
    {
     "data": {
      "text/plain": [
       "[(1, 0.03125, 6.015398025512695, 473.50696063041687),\n",
       " (2, 0.0625, 7.062404632568359, 465.1228108406067),\n",
       " (3, 0.09375, 10.950662612915039, 451.51061606407166),\n",
       " (4, 0.125, 6787.62841796875, 436.8935739994049),\n",
       " (5, 0.15625, 12.865921974182129, 416.32886576652527)]"
      ]
     },
     "execution_count": 22,
     "metadata": {},
     "output_type": "execute_result"
    }
   ],
   "source": [
    "results_"
   ]
  },
  {
   "cell_type": "code",
   "execution_count": 35,
   "id": "5fdef9dc-db91-4a77-98d7-3c5f8d47e4b9",
   "metadata": {},
   "outputs": [
    {
     "data": {
      "image/png": "[encoded data removed]",
      "text/plain": [
       "<Figure size 700x700 with 4 Axes>"
      ]
     },
     "metadata": {},
     "output_type": "display_data"
    }
   ],
   "source": [
    "# PTB 데이터셋 결과\n",
    "num_pruned_layers_ptb = [r[0] for r in results]\n",
    "sparsities_ptb = [r[1] for r in results]\n",
    "ppls_ptb = [r[2] for r in results]\n",
    "latencies_ptb = [r[3] for r in results]\n",
    "\n",
    "# Wikitext2 데이터셋 결과\n",
    "num_pruned_layers_wikitext = [r[0] for r in results_]\n",
    "sparsities_wikitext = [r[1] for r in results_]\n",
    "ppls_wikitext = [r[2] for r in results_]\n",
    "latencies_wikitext = [r[3] for r in results_]\n",
    "\n",
    "plt.figure(figsize=(7, 7))\n",
    "\n",
    "# Perplexity\n",
    "plt.subplot(2, 2, 1)\n",
    "plt.plot(num_pruned_layers_wikitext, ppls_wikitext, marker='o', label=\"Wikitext2\", color='orange')\n",
    "plt.xlabel(\"Number of Pruned Layers\")\n",
    "plt.ylabel(\"Perplexity\")\n",
    "plt.ylim(0, 20)\n",
    "plt.title(\"Perplexity vs. Number of Pruned Layers\")\n",
    "plt.legend()\n",
    "\n",
    "plt.subplot(2, 2, 2)\n",
    "plt.plot(num_pruned_layers_ptb, ppls_ptb, marker='o', label=\"PTB\", color='b')\n",
    "plt.xlabel(\"Number of Pruned Layers\")\n",
    "plt.ylabel(\"Perplexity\")\n",
    "plt.ylim(0, 50)\n",
    "plt.title(\"Perplexity vs. Number of Pruned Layers\")\n",
    "plt.legend()\n",
    "\n",
    "# Latency\n",
    "plt.subplot(2, 2, 3)\n",
    "plt.plot(num_pruned_layers_ptb, latencies_ptb, marker='o', label=\"PTB\", color='b')\n",
    "plt.plot(num_pruned_layers_wikitext, latencies_wikitext, marker='o', label=\"Wikitext2\", color='orange')\n",
    "plt.xlabel(\"Number of Pruned Layers\")\n",
    "plt.ylabel(\"Latency (seconds)\")\n",
    "plt.title(\"Latency vs. Number of Pruned Layers\")\n",
    "plt.legend()\n",
    "\n",
    "# Sparsity\n",
    "plt.subplot(2, 2, 4)\n",
    "plt.plot(num_pruned_layers_ptb, sparsities_ptb, marker='o', label=\"PTB Sparsity\", color='b')\n",
    "plt.plot(num_pruned_layers_wikitext, sparsities_wikitext, marker='o', label=\"Wikitext2\", color='orange')\n",
    "plt.xlabel(\"Number of Pruned Layers\")\n",
    "plt.ylabel(\"Sparsity\")\n",
    "plt.title(\"Sparsity vs. Number of Pruned Layers\")\n",
    "plt.legend()\n",
    "\n",
    "plt.tight_layout()\n",
    "plt.show()"
   ]
  },
  {
   "cell_type": "code",
   "execution_count": null,
   "id": "30d3f1e5-e087-49f7-b983-e7a1bf3c70ef",
   "metadata": {},
   "outputs": [],
   "source": [
    "# 몇 번째 레이어가 prune됐는지 index를 표시"
   ]
  },
  {
   "cell_type": "markdown",
   "id": "3c6c1176-c8ca-4355-b6a4-8bf73ea2559c",
   "metadata": {},
   "source": [
    "## Llama-2"
   ]
  },
  {
   "cell_type": "code",
   "execution_count": 1,
   "id": "95c811ab-df64-4df9-8ac1-51873d868da6",
   "metadata": {},
   "outputs": [
    {
     "name": "stderr",
     "output_type": "stream",
     "text": [
      "You are using a model of type llama to instantiate a model of type mistral. This is not supported for all configurations of models and can yield errors.\n"
     ]
    },
    {
     "data": {
      "application/vnd.jupyter.widget-view+json": {
       "model_id": "bc976833c0f04a0595d998e5ccb1beaa",
       "version_major": 2,
       "version_minor": 0
      },
      "text/plain": [
       "Loading checkpoint shards:   0%|          | 0/6 [00:00<?, ?it/s]"
      ]
     },
     "metadata": {},
     "output_type": "display_data"
    }
   ],
   "source": [
    "import torch\n",
    "import random\n",
    "from transformers import AutoModelForCausalLM, AutoTokenizer\n",
    "from datasets import load_dataset\n",
    "import time\n",
    "from tqdm import tqdm\n",
    "import matplotlib.pyplot as plt\n",
    "\n",
    "class RandomPrunedModel(AutoModelForCausalLM):\n",
    "    def __init__(self, config):\n",
    "        super().__init__(config)\n",
    "        self.pruned_layers = set()\n",
    "    \n",
    "    def prune_layers(self, num_layers_to_prune):\n",
    "        total_layers = len(self.model.layers)\n",
    "        self.pruned_layers = set(random.sample(range(total_layers), num_layers_to_prune))\n",
    "\n",
    "    def forward(self, input_ids, **kwargs):\n",
    "        hidden_states = self.model.embed_tokens(input_ids)\n",
    "        \n",
    "        for i, layer_module in enumerate(self.model.layers):\n",
    "            if i in self.pruned_layers:\n",
    "                continue\n",
    "\n",
    "            hidden_states = layer_module(hidden_states, **kwargs)[0]\n",
    "\n",
    "        hidden_states = self.model.norm(hidden_states)\n",
    "        logits = self.lm_head(hidden_states)\n",
    "        return logits\n",
    "# 모델 로드\n",
    "directory = \"../model/llama_2_7b_hf__meta_llama\"\n",
    "tokenizer = AutoTokenizer.from_pretrained(directory)\n",
    "model = RandomPrunedModel.from_pretrained(directory, device_map=\"auto\")\n"
   ]
  },
  {
   "cell_type": "code",
   "execution_count": 2,
   "id": "a174cd69-6b73-4a20-96b3-a0242dd7fc68",
   "metadata": {},
   "outputs": [],
   "source": [
    "# PTB 데이터셋 사용\n",
    "dataset = load_dataset(\"ptb_text_only\", split=\"test[:15%]\", trust_remote_code=True)  # PTB 데이터셋의 테스트 split 사용\n",
    "max_length = model.config.max_position_embeddings\n",
    "stride = 32\n",
    "max_sample_length = 1024  # 설정 가능한 최대 샘플 길이\n",
    "\n",
    "# 데이터 전처리: 일정 크기가 넘는 샘플은 잘라서 처리\n",
    "texts = \"\\n\\n\".join(dataset[\"sentence\"])\n",
    "tokens = tokenizer(texts, return_tensors=\"pt\")\n",
    "input_ids = tokens.input_ids[0]\n",
    "\n",
    "# 최대 길이를 초과하는 텍스트 분할\n",
    "def split_long_text(input_ids, max_sample_length):\n",
    "    split_input_ids = []\n",
    "    for i in range(0, len(input_ids), max_sample_length):\n",
    "        split_input_ids.append(input_ids[i:i + max_sample_length])\n",
    "    return split_input_ids\n",
    "\n",
    "split_input_ids = split_long_text(input_ids, max_sample_length)\n"
   ]
  },
  {
   "cell_type": "code",
   "execution_count": 3,
   "id": "cda12b2e-2eb4-4ecc-87df-11ffc0d94172",
   "metadata": {},
   "outputs": [],
   "source": [
    "def calculate_perplexity_and_latency(model, split_input_ids, max_sample_length, stride):\n",
    "    lls = []\n",
    "    total_steps = len(split_input_ids)\n",
    "    passed_samples = 0\n",
    "    total_samples = 0\n",
    "    total_length = 0\n",
    "    start_time = time.time()\n",
    "    \n",
    "    for i, chunk in enumerate(tqdm(split_input_ids, total=total_steps, desc=\"Processing\")):\n",
    "        total_samples += 1\n",
    "\n",
    "        if chunk.size(0) > max_sample_length:\n",
    "            passed_samples += 1\n",
    "            continue\n",
    "\n",
    "        for j in range(0, chunk.size(0), stride):\n",
    "            begin_loc = max(j + stride - max_length, 0)\n",
    "            end_loc = min(j + stride, chunk.size(0))\n",
    "            trg_len = end_loc - j\n",
    "            total_length += trg_len\n",
    "\n",
    "            input_ids_chunk = chunk[begin_loc:end_loc].unsqueeze(0).to('cuda')\n",
    "            target_ids = input_ids_chunk.clone()\n",
    "            target_ids[:, :-trg_len] = -100\n",
    "\n",
    "            with torch.no_grad():\n",
    "                outputs = model(input_ids_chunk)\n",
    "                # print(outputs)\n",
    "                # print(outputs.shape)\n",
    "                shift_logits = outputs[:, :-1, :].contiguous()\n",
    "                shift_labels = target_ids[:, 1:].contiguous()\n",
    "                loss_fct = torch.nn.CrossEntropyLoss(ignore_index=-100)\n",
    "                loss = loss_fct(shift_logits.view(-1, shift_logits.size(-1)), shift_labels.view(-1))\n",
    "                log_likelihood = loss * trg_len\n",
    "\n",
    "            lls.append(log_likelihood.cpu())\n",
    "    \n",
    "    average_log_likelihood = torch.stack(lls).sum() / total_length\n",
    "    ppl = torch.exp(average_log_likelihood)\n",
    "    end_time = time.time()\n",
    "    latency = end_time - start_time\n",
    "    \n",
    "    return ppl.item(), latency\n"
   ]
  },
  {
   "cell_type": "code",
   "execution_count": 4,
   "id": "274d0dd4-b502-4af4-93f5-a88ce66bf940",
   "metadata": {},
   "outputs": [
    {
     "name": "stdout",
     "output_type": "stream",
     "text": [
      "Pruned 1 layers (sparsity: 3.12%)\n"
     ]
    },
    {
     "name": "stderr",
     "output_type": "stream",
     "text": [
      "Processing: 100%|██████████| 17/17 [07:30<00:00, 26.49s/it]\n"
     ]
    },
    {
     "name": "stdout",
     "output_type": "stream",
     "text": [
      "Perplexity: 20.941349029541016, Latency: 450.2723731994629 seconds\n",
      "Pruned 2 layers (sparsity: 6.25%)\n"
     ]
    },
    {
     "name": "stderr",
     "output_type": "stream",
     "text": [
      "Processing: 100%|██████████| 17/17 [07:25<00:00, 26.22s/it]\n"
     ]
    },
    {
     "name": "stdout",
     "output_type": "stream",
     "text": [
      "Perplexity: 24.049449920654297, Latency: 445.71300625801086 seconds\n",
      "Pruned 3 layers (sparsity: 9.38%)\n"
     ]
    },
    {
     "name": "stderr",
     "output_type": "stream",
     "text": [
      "Processing: 100%|██████████| 17/17 [07:13<00:00, 25.49s/it]\n"
     ]
    },
    {
     "name": "stdout",
     "output_type": "stream",
     "text": [
      "Perplexity: 26.312870025634766, Latency: 433.33492946624756 seconds\n",
      "Pruned 4 layers (sparsity: 12.50%)\n"
     ]
    },
    {
     "name": "stderr",
     "output_type": "stream",
     "text": [
      "Processing: 100%|██████████| 17/17 [06:53<00:00, 24.32s/it]\n"
     ]
    },
    {
     "name": "stdout",
     "output_type": "stream",
     "text": [
      "Perplexity: 26.687814712524414, Latency: 413.4717321395874 seconds\n",
      "Pruned 5 layers (sparsity: 15.62%)\n"
     ]
    },
    {
     "name": "stderr",
     "output_type": "stream",
     "text": [
      "Processing: 100%|██████████| 17/17 [06:46<00:00, 23.93s/it]"
     ]
    },
    {
     "name": "stdout",
     "output_type": "stream",
     "text": [
      "Perplexity: 88.3045425415039, Latency: 406.77405166625977 seconds\n"
     ]
    },
    {
     "name": "stderr",
     "output_type": "stream",
     "text": [
      "\n"
     ]
    }
   ],
   "source": [
    "results_lp = []\n",
    "\n",
    "for num_pruned_layers in range(1, 6):  # 0에서 5까지\n",
    "    model.prune_layers(num_pruned_layers)\n",
    "    sparsity = num_pruned_layers / len(model.model.layers)\n",
    "    print(f\"Pruned {num_pruned_layers} layers (sparsity: {sparsity*100:.2f}%)\")\n",
    "    \n",
    "    ppl, latency = calculate_perplexity_and_latency(model, split_input_ids, max_sample_length, stride)\n",
    "    results_lp.append((num_pruned_layers, sparsity, ppl, latency))\n",
    "    print(f\"Perplexity: {ppl}, Latency: {latency} seconds\")\n",
    "    \n",
    "    # Reset the model to unpruned state\n",
    "    model.pruned_layers = set()\n"
   ]
  },
  {
   "cell_type": "code",
   "execution_count": 6,
   "id": "69fe451b-1e55-4009-9ede-5e3e359e2978",
   "metadata": {},
   "outputs": [
    {
     "data": {
      "text/plain": [
       "[(1, 0.03125, 20.941349029541016, 450.2723731994629),\n",
       " (2, 0.0625, 24.049449920654297, 445.71300625801086),\n",
       " (3, 0.09375, 26.312870025634766, 433.33492946624756),\n",
       " (4, 0.125, 26.687814712524414, 413.4717321395874),\n",
       " (5, 0.15625, 88.3045425415039, 406.77405166625977)]"
      ]
     },
     "execution_count": 6,
     "metadata": {},
     "output_type": "execute_result"
    }
   ],
   "source": [
    "results_lp"
   ]
  },
  {
   "cell_type": "code",
   "execution_count": 7,
   "id": "da7b238c-7007-401f-96ad-4c9e0a614d55",
   "metadata": {},
   "outputs": [],
   "source": [
    "dataset = load_dataset(\"wikitext\", \"wikitext-2-raw-v1\", split=\"test[:5%]\")  # 데이터셋의 5%만 사용\n",
    "\n",
    "# 데이터 전처리: 일정 크기가 넘는 샘플은 잘라서 처리\n",
    "texts = \"\\n\\n\".join(dataset[\"text\"])\n",
    "tokens = tokenizer(texts, return_tensors=\"pt\")\n",
    "input_ids = tokens.input_ids[0]\n",
    "\n",
    "# 최대 길이를 초과하는 텍스트 분할\n",
    "def split_long_text(input_ids, max_sample_length):\n",
    "    split_input_ids = []\n",
    "    for i in range(0, len(input_ids), max_sample_length):\n",
    "        split_input_ids.append(input_ids[i:i + max_sample_length])\n",
    "    return split_input_ids\n",
    "\n",
    "split_input_ids = split_long_text(input_ids, max_sample_length)\n"
   ]
  },
  {
   "cell_type": "code",
   "execution_count": 8,
   "id": "7ff3c5ef-b095-4150-99f0-f3cddb702689",
   "metadata": {},
   "outputs": [
    {
     "name": "stdout",
     "output_type": "stream",
     "text": [
      "Pruned 1 layers (sparsity: 3.12%)\n"
     ]
    },
    {
     "name": "stderr",
     "output_type": "stream",
     "text": [
      "Processing: 100%|██████████| 17/17 [07:34<00:00, 26.71s/it]\n"
     ]
    },
    {
     "name": "stdout",
     "output_type": "stream",
     "text": [
      "Perplexity: 6.408919334411621, Latency: 454.1139419078827 seconds\n",
      "Pruned 2 layers (sparsity: 6.25%)\n"
     ]
    },
    {
     "name": "stderr",
     "output_type": "stream",
     "text": [
      "Processing: 100%|██████████| 17/17 [07:18<00:00, 25.80s/it]\n"
     ]
    },
    {
     "name": "stdout",
     "output_type": "stream",
     "text": [
      "Perplexity: 6.699614524841309, Latency: 438.602162361145 seconds\n",
      "Pruned 3 layers (sparsity: 9.38%)\n"
     ]
    },
    {
     "name": "stderr",
     "output_type": "stream",
     "text": [
      "Processing: 100%|██████████| 17/17 [07:05<00:00, 25.02s/it]\n"
     ]
    },
    {
     "name": "stdout",
     "output_type": "stream",
     "text": [
      "Perplexity: 8.182764053344727, Latency: 425.3496558666229 seconds\n",
      "Pruned 4 layers (sparsity: 12.50%)\n"
     ]
    },
    {
     "name": "stderr",
     "output_type": "stream",
     "text": [
      "Processing: 100%|██████████| 17/17 [06:45<00:00, 23.88s/it]\n"
     ]
    },
    {
     "name": "stdout",
     "output_type": "stream",
     "text": [
      "Perplexity: 8.465189933776855, Latency: 405.9547872543335 seconds\n",
      "Pruned 5 layers (sparsity: 15.62%)\n"
     ]
    },
    {
     "name": "stderr",
     "output_type": "stream",
     "text": [
      "Processing: 100%|██████████| 17/17 [06:35<00:00, 23.25s/it]"
     ]
    },
    {
     "name": "stdout",
     "output_type": "stream",
     "text": [
      "Perplexity: 9.312217712402344, Latency: 395.2152523994446 seconds\n"
     ]
    },
    {
     "name": "stderr",
     "output_type": "stream",
     "text": [
      "\n"
     ]
    }
   ],
   "source": [
    "results_lw = []\n",
    "\n",
    "for num_pruned_layers in range(1, 6):  # 0에서 5까지\n",
    "    model.prune_layers(num_pruned_layers)\n",
    "    sparsity = num_pruned_layers / len(model.model.layers)\n",
    "    print(f\"Pruned {num_pruned_layers} layers (sparsity: {sparsity*100:.2f}%)\")\n",
    "    \n",
    "    ppl, latency = calculate_perplexity_and_latency(model, split_input_ids, max_sample_length, stride)\n",
    "    results_lw.append((num_pruned_layers, sparsity, ppl, latency))\n",
    "    print(f\"Perplexity: {ppl}, Latency: {latency} seconds\")\n",
    "    \n",
    "    # Reset the model to unpruned state\n",
    "    model.pruned_layers = set()\n"
   ]
  },
  {
   "cell_type": "code",
   "execution_count": 11,
   "id": "bf42e746-8ad1-4d1b-89b1-7722f46698c4",
   "metadata": {},
   "outputs": [
    {
     "data": {
      "image/png": "[encoded data removed]",
      "text/plain": [
       "<Figure size 700x1000 with 3 Axes>"
      ]
     },
     "metadata": {},
     "output_type": "display_data"
    }
   ],
   "source": [
    "# PTB 데이터셋 결과\n",
    "num_pruned_layers_ptb = [r[0] for r in results_lp]\n",
    "sparsities_ptb = [r[1] for r in results_lp]\n",
    "ppls_ptb = [r[2] for r in results_lp]\n",
    "latencies_ptb = [r[3] for r in results_lp]\n",
    "\n",
    "# Wikitext2 데이터셋 결과\n",
    "num_pruned_layers_wikitext = [r[0] for r in results_lw]\n",
    "sparsities_wikitext = [r[1] for r in results_lw]\n",
    "ppls_wikitext = [r[2] for r in results_lw]\n",
    "latencies_wikitext = [r[3] for r in results_lw]\n",
    "\n",
    "plt.figure(figsize=(7, 10))\n",
    "\n",
    "# Perplexity\n",
    "plt.subplot(3, 1, 1)\n",
    "plt.plot(num_pruned_layers_wikitext, ppls_wikitext, marker='o', label=\"Wikitext2\", color='orange')\n",
    "plt.xlabel(\"Number of Pruned Layers\")\n",
    "plt.ylabel(\"Perplexity\")\n",
    "plt.ylim(0, 20)\n",
    "plt.title(\"Perplexity vs. # of Pruned Layers\")\n",
    "plt.legend()\n",
    "\n",
    "plt.subplot(3, 1, 2)\n",
    "plt.plot(num_pruned_layers_ptb, ppls_ptb, marker='o', label=\"PTB\", color='b')\n",
    "plt.xlabel(\"Number of Pruned Layers\")\n",
    "plt.ylabel(\"Perplexity\")\n",
    "plt.ylim(0, 50)\n",
    "plt.title(\"Perplexity vs. # of Pruned Layers\")\n",
    "plt.legend()\n",
    "\n",
    "# Latency\n",
    "plt.subplot(3, 1, 3)\n",
    "plt.plot(num_pruned_layers_ptb, latencies_ptb, marker='o', label=\"PTB\", color='b')\n",
    "plt.plot(num_pruned_layers_wikitext, latencies_wikitext, marker='o', label=\"Wikitext2\", color='orange')\n",
    "plt.xlabel(\"Number of Pruned Layers\")\n",
    "plt.ylabel(\"Latency (seconds)\")\n",
    "plt.title(\"Latency vs. # of Pruned Layers\")\n",
    "plt.legend()\n",
    "\n",
    "\n",
    "plt.tight_layout()\n",
    "plt.show()"
   ]
  },
  {
   "cell_type": "markdown",
   "id": "9afa2437-f3d8-4b4e-a483-efab485c978d",
   "metadata": {},
   "source": [
    "# Entropy-based"
   ]
  },
  {
   "cell_type": "markdown",
   "id": "c7c88363-2400-42cb-ad33-652bc300e366",
   "metadata": {},
   "source": [
    "## Mistral"
   ]
  },
  {
   "cell_type": "code",
   "execution_count": 1,
   "id": "a60dd34f-068f-44f3-8597-fbd5f99976e4",
   "metadata": {},
   "outputs": [
    {
     "data": {
      "application/vnd.jupyter.widget-view+json": {
       "model_id": "432197a1c0be4a3ba83b6f721f906b47",
       "version_major": 2,
       "version_minor": 0
      },
      "text/plain": [
       "Loading checkpoint shards:   0%|          | 0/6 [00:00<?, ?it/s]"
      ]
     },
     "metadata": {},
     "output_type": "display_data"
    }
   ],
   "source": [
    "import torch\n",
    "import random\n",
    "import torch.nn.functional as F\n",
    "from transformers import MistralForCausalLM, AutoTokenizer\n",
    "from datasets import load_dataset\n",
    "import time\n",
    "from tqdm import tqdm\n",
    "import matplotlib.pyplot as plt\n",
    "import numpy as np\n",
    "\n",
    "class EntropyPrunedModel(MistralForCausalLM):\n",
    "    def __init__(self, config):\n",
    "        super().__init__(config)\n",
    "        self.pruned_layers = set()\n",
    "        self.entropies = []\n",
    "\n",
    "    def calculate_entropies(self, input_ids):\n",
    "        self.entropies = []\n",
    "        hidden_states = self.model.embed_tokens(input_ids)\n",
    "        \n",
    "        with torch.no_grad():\n",
    "            for layer_module in self.model.layers:\n",
    "                hidden_states = layer_module(hidden_states)[0]\n",
    "                logits = self.lm_head(hidden_states[:, -1, :])\n",
    "                probs = F.softmax(logits, dim=-1)\n",
    "                top_probs, _ = torch.topk(probs, 10)\n",
    "                entropy = -torch.sum(top_probs * torch.log(top_probs)).item()\n",
    "                self.entropies.append(entropy)\n",
    "    \n",
    "    def prune_layers_by_entropy_diff(self, num_layers_to_prune):\n",
    "        if not self.entropies:\n",
    "            raise ValueError(\"Entropies not calculated. Please run entropy calculation before pruning.\")\n",
    "        print(np.ndim(self.entropies))\n",
    "        print(len(self.entropies))\n",
    "        # print(len(self.entropies[0]))\n",
    "        entropy_diffs = []\n",
    "        for i in range(1, len(self.entropies)):\n",
    "            entropy_diff = self.entropies[i - 1] - self.entropies[i]\n",
    "            entropy_diffs.append((i, entropy_diff))\n",
    "        \n",
    "        # Sort entropy differences in ascending order\n",
    "        sorted_entropy_diffs = sorted(entropy_diffs, key=lambda x: x[1], reverse=False)\n",
    "        \n",
    "        # Select layers with largest entropy difference\n",
    "        pruned_layers = []\n",
    "        for i in range(num_layers_to_prune):\n",
    "            layer_index, entropy_diff = sorted_entropy_diffs[i]\n",
    "            pruned_layers.append(layer_index)\n",
    "            print(f\"Layer {layer_index}: Entropy Difference = {entropy_diff}\")\n",
    "        \n",
    "        self.pruned_layers = set(pruned_layers)\n",
    "\n",
    "\n",
    "    def forward(self, input_ids, **kwargs):\n",
    "        hidden_states = self.model.embed_tokens(input_ids)\n",
    "        \n",
    "        for i, layer_module in enumerate(self.model.layers):\n",
    "            if i in self.pruned_layers:\n",
    "                continue\n",
    "            hidden_states = layer_module(hidden_states, **kwargs)[0]\n",
    "            \n",
    "        hidden_states = self.model.norm(hidden_states)\n",
    "        logits = self.lm_head(hidden_states)\n",
    "        \n",
    "        return logits\n",
    "\n",
    "# 모델 로드\n",
    "directory = \"../model/mistral_7b_v01__MistralAI\"\n",
    "tokenizer = AutoTokenizer.from_pretrained(directory)\n",
    "model = EntropyPrunedModel.from_pretrained(directory, device_map=\"auto\")\n",
    "\n",
    "# PTB 데이터셋 사용\n",
    "dataset = load_dataset(\"ptb_text_only\", split=\"test[:15%]\", trust_remote_code=True)  # PTB 데이터셋의 테스트 split 사용\n",
    "max_length = model.config.max_position_embeddings\n",
    "stride = 32\n",
    "max_sample_length = 1024  # 설정 가능한 최대 샘플 길이\n",
    "\n",
    "# 데이터 전처리: 일정 크기가 넘는 샘플은 잘라서 처리\n",
    "texts = \"\\n\\n\".join(dataset[\"sentence\"])\n",
    "tokens = tokenizer(texts, return_tensors=\"pt\")\n",
    "input_ids = tokens.input_ids[0]\n",
    "\n",
    "# 최대 길이를 초과하는 텍스트 분할\n",
    "def split_long_text(input_ids, max_sample_length):\n",
    "    split_input_ids = []\n",
    "    for i in range(0, len(input_ids), max_sample_length):\n",
    "        split_input_ids.append(input_ids[i:i + max_sample_length])\n",
    "    return split_input_ids\n",
    "\n",
    "split_input_ids = split_long_text(input_ids, max_sample_length)\n",
    "\n",
    "def calculate_perplexity_and_latency(model, split_input_ids, max_sample_length, stride):\n",
    "    lls = []\n",
    "    total_steps = len(split_input_ids)\n",
    "    passed_samples = 0\n",
    "    total_samples = 0\n",
    "    total_length = 0\n",
    "    start_time = time.time()\n",
    "    \n",
    "    for i, chunk in enumerate(tqdm(split_input_ids, total=total_steps, desc=\"Processing\")):\n",
    "        total_samples += 1\n",
    "\n",
    "        if chunk.size(0) > max_sample_length:\n",
    "            passed_samples += 1\n",
    "            continue\n",
    "\n",
    "        for j in range(0, chunk.size(0), stride):\n",
    "            begin_loc = max(j + stride - max_length, 0)\n",
    "            end_loc = min(j + stride, chunk.size(0))\n",
    "            trg_len = end_loc - j\n",
    "            total_length += trg_len\n",
    "\n",
    "            input_ids_chunk = chunk[begin_loc:end_loc].unsqueeze(0).to('cuda')\n",
    "            target_ids = input_ids_chunk.clone()\n",
    "            target_ids[:, :-trg_len] = -100\n",
    "\n",
    "            with torch.no_grad():\n",
    "                outputs = model(input_ids_chunk)\n",
    "                shift_logits = outputs[:, :-1, :].contiguous()\n",
    "                shift_labels = target_ids[:, 1:].contiguous()\n",
    "                loss_fct = torch.nn.CrossEntropyLoss(ignore_index=-100)\n",
    "                loss = loss_fct(shift_logits.view(-1, shift_logits.size(-1)), shift_labels.view(-1))\n",
    "                log_likelihood = loss * trg_len\n",
    "\n",
    "            lls.append(log_likelihood.cpu())\n",
    "    \n",
    "    average_log_likelihood = torch.stack(lls).sum() / total_length\n",
    "    ppl = torch.exp(average_log_likelihood)\n",
    "    end_time = time.time()\n",
    "    latency = end_time - start_time\n",
    "    \n",
    "    return ppl.item(), latency"
   ]
  },
  {
   "cell_type": "code",
   "execution_count": 2,
   "id": "a8fd11c5-29d8-42ae-a62a-81cb2adecef1",
   "metadata": {},
   "outputs": [
    {
     "name": "stdout",
     "output_type": "stream",
     "text": [
      "1\n",
      "32\n",
      "Layer 31: Entropy Difference = -0.007350441068410873\n",
      "Pruned 1 layers (sparsity: 3.12%)\n"
     ]
    },
    {
     "name": "stderr",
     "output_type": "stream",
     "text": [
      "Processing: 100%|██████████| 17/17 [07:39<00:00, 27.04s/it]\n"
     ]
    },
    {
     "name": "stdout",
     "output_type": "stream",
     "text": [
      "Perplexity: 28.084095001220703, Latency: 459.6184628009796 seconds\n",
      "1\n",
      "32\n",
      "Layer 31: Entropy Difference = -0.007350441068410873\n",
      "Layer 30: Entropy Difference = -0.003433710429817438\n",
      "Pruned 2 layers (sparsity: 6.25%)\n"
     ]
    },
    {
     "name": "stderr",
     "output_type": "stream",
     "text": [
      "Processing: 100%|██████████| 17/17 [07:30<00:00, 26.52s/it]\n"
     ]
    },
    {
     "name": "stdout",
     "output_type": "stream",
     "text": [
      "Perplexity: 60.770809173583984, Latency: 450.7812786102295 seconds\n",
      "1\n",
      "32\n",
      "Layer 31: Entropy Difference = -0.007350441068410873\n",
      "Layer 30: Entropy Difference = -0.003433710429817438\n",
      "Layer 29: Entropy Difference = -0.0013187737204134464\n",
      "Pruned 3 layers (sparsity: 9.38%)\n"
     ]
    },
    {
     "name": "stderr",
     "output_type": "stream",
     "text": [
      "Processing: 100%|██████████| 17/17 [07:17<00:00, 25.74s/it]\n"
     ]
    },
    {
     "name": "stdout",
     "output_type": "stream",
     "text": [
      "Perplexity: 135.5338134765625, Latency: 437.61810064315796 seconds\n",
      "1\n",
      "32\n",
      "Layer 31: Entropy Difference = -0.007350441068410873\n",
      "Layer 30: Entropy Difference = -0.003433710429817438\n",
      "Layer 29: Entropy Difference = -0.0013187737204134464\n",
      "Layer 28: Entropy Difference = -0.0007795109413564205\n",
      "Pruned 4 layers (sparsity: 12.50%)\n"
     ]
    },
    {
     "name": "stderr",
     "output_type": "stream",
     "text": [
      "Processing: 100%|██████████| 17/17 [07:03<00:00, 24.92s/it]\n"
     ]
    },
    {
     "name": "stdout",
     "output_type": "stream",
     "text": [
      "Perplexity: 238.9453582763672, Latency: 423.72305727005005 seconds\n",
      "1\n",
      "32\n",
      "Layer 31: Entropy Difference = -0.007350441068410873\n",
      "Layer 30: Entropy Difference = -0.003433710429817438\n",
      "Layer 29: Entropy Difference = -0.0013187737204134464\n",
      "Layer 28: Entropy Difference = -0.0007795109413564205\n",
      "Layer 27: Entropy Difference = -0.00036856113001704216\n",
      "Pruned 5 layers (sparsity: 15.62%)\n"
     ]
    },
    {
     "name": "stderr",
     "output_type": "stream",
     "text": [
      "Processing: 100%|██████████| 17/17 [06:49<00:00, 24.10s/it]"
     ]
    },
    {
     "name": "stdout",
     "output_type": "stream",
     "text": [
      "Perplexity: 387.9535217285156, Latency: 409.7166986465454 seconds\n"
     ]
    },
    {
     "name": "stderr",
     "output_type": "stream",
     "text": [
      "\n"
     ]
    }
   ],
   "source": [
    "results_emp = []\n",
    "\n",
    "# 초기 엔트로피 계산\n",
    "input_ids_sample = split_input_ids[0][:32].unsqueeze(0).to('cuda')  # 첫 번째 문장의 일부 사용\n",
    "model.calculate_entropies(input_ids_sample)\n",
    "\n",
    "for num_pruned_layers in range(1, 6):  # 1에서 5까지\n",
    "    model.prune_layers_by_entropy_diff(num_pruned_layers)\n",
    "    sparsity = num_pruned_layers / len(model.model.layers)\n",
    "    print(f\"Pruned {num_pruned_layers} layers (sparsity: {sparsity*100:.2f}%)\")\n",
    "    \n",
    "    ppl, latency = calculate_perplexity_and_latency(model, split_input_ids, max_sample_length, stride)\n",
    "    results_emp.append((num_pruned_layers, sparsity, ppl, latency))\n",
    "    print(f\"Perplexity: {ppl}, Latency: {latency} seconds\")\n",
    "    \n",
    "    # Reset the model to unpruned state\n",
    "    model.pruned_layers = set()"
   ]
  },
  {
   "cell_type": "code",
   "execution_count": 3,
   "id": "fc9931ec-e947-4fb8-b2b9-bd70819490a5",
   "metadata": {},
   "outputs": [
    {
     "data": {
      "text/plain": [
       "[(1, 0.03125, 28.084095001220703, 459.6184628009796),\n",
       " (2, 0.0625, 60.770809173583984, 450.7812786102295),\n",
       " (3, 0.09375, 135.5338134765625, 437.61810064315796),\n",
       " (4, 0.125, 238.9453582763672, 423.72305727005005),\n",
       " (5, 0.15625, 387.9535217285156, 409.7166986465454)]"
      ]
     },
     "execution_count": 3,
     "metadata": {},
     "output_type": "execute_result"
    }
   ],
   "source": [
    "results_emp"
   ]
  },
  {
   "cell_type": "code",
   "execution_count": 4,
   "id": "3545907e-f782-42e2-88fa-3db8d6c548e5",
   "metadata": {},
   "outputs": [],
   "source": [
    "dataset = load_dataset(\"wikitext\", \"wikitext-2-raw-v1\", split=\"test[:5%]\")  # 데이터셋의 5%만 사용\n",
    "max_length = model.config.max_position_embeddings\n",
    "stride = 32\n",
    "max_sample_length = 1024  # 설정 가능한 최대 샘플 길이\n",
    "\n",
    "# 데이터 전처리: 일정 크기가 넘는 샘플은 잘라서 처리\n",
    "texts = \"\\n\\n\".join(dataset[\"text\"])\n",
    "tokens = tokenizer(texts, return_tensors=\"pt\")\n",
    "input_ids = tokens.input_ids[0]\n",
    "\n",
    "split_input_ids = split_long_text(input_ids, max_sample_length)"
   ]
  },
  {
   "cell_type": "code",
   "execution_count": 5,
   "id": "76567c68-ce79-48b2-ad2e-a1d94a96f754",
   "metadata": {},
   "outputs": [
    {
     "name": "stdout",
     "output_type": "stream",
     "text": [
      "1\n",
      "32\n",
      "Layer 30: Entropy Difference = -0.001695806160569191\n",
      "Pruned 1 layers (sparsity: 3.12%)\n"
     ]
    },
    {
     "name": "stderr",
     "output_type": "stream",
     "text": [
      "Processing: 100%|██████████| 17/17 [07:50<00:00, 27.65s/it]\n"
     ]
    },
    {
     "name": "stdout",
     "output_type": "stream",
     "text": [
      "Perplexity: 6.604146480560303, Latency: 470.1005234718323 seconds\n",
      "1\n",
      "32\n",
      "Layer 30: Entropy Difference = -0.001695806160569191\n",
      "Layer 31: Entropy Difference = -0.001509152352809906\n",
      "Pruned 2 layers (sparsity: 6.25%)\n"
     ]
    },
    {
     "name": "stderr",
     "output_type": "stream",
     "text": [
      "Processing: 100%|██████████| 17/17 [07:36<00:00, 26.88s/it]\n"
     ]
    },
    {
     "name": "stdout",
     "output_type": "stream",
     "text": [
      "Perplexity: 13.645593643188477, Latency: 456.9097647666931 seconds\n",
      "1\n",
      "32\n",
      "Layer 30: Entropy Difference = -0.001695806160569191\n",
      "Layer 31: Entropy Difference = -0.001509152352809906\n",
      "Layer 29: Entropy Difference = -0.0014715008437633514\n",
      "Pruned 3 layers (sparsity: 9.38%)\n"
     ]
    },
    {
     "name": "stderr",
     "output_type": "stream",
     "text": [
      "Processing: 100%|██████████| 17/17 [07:22<00:00, 26.05s/it]\n"
     ]
    },
    {
     "name": "stdout",
     "output_type": "stream",
     "text": [
      "Perplexity: 31.336503982543945, Latency: 442.79918122291565 seconds\n",
      "1\n",
      "32\n",
      "Layer 30: Entropy Difference = -0.001695806160569191\n",
      "Layer 31: Entropy Difference = -0.001509152352809906\n",
      "Layer 29: Entropy Difference = -0.0014715008437633514\n",
      "Layer 28: Entropy Difference = -0.000628029927611351\n",
      "Pruned 4 layers (sparsity: 12.50%)\n"
     ]
    },
    {
     "name": "stderr",
     "output_type": "stream",
     "text": [
      "Processing: 100%|██████████| 17/17 [07:08<00:00, 25.22s/it]\n"
     ]
    },
    {
     "name": "stdout",
     "output_type": "stream",
     "text": [
      "Perplexity: 60.48569869995117, Latency: 428.6912679672241 seconds\n",
      "1\n",
      "32\n",
      "Layer 30: Entropy Difference = -0.001695806160569191\n",
      "Layer 31: Entropy Difference = -0.001509152352809906\n",
      "Layer 29: Entropy Difference = -0.0014715008437633514\n",
      "Layer 28: Entropy Difference = -0.000628029927611351\n",
      "Layer 27: Entropy Difference = -0.0006135432049632072\n",
      "Pruned 5 layers (sparsity: 15.62%)\n"
     ]
    },
    {
     "name": "stderr",
     "output_type": "stream",
     "text": [
      "Processing: 100%|██████████| 17/17 [06:54<00:00, 24.38s/it]"
     ]
    },
    {
     "name": "stdout",
     "output_type": "stream",
     "text": [
      "Perplexity: 104.01167297363281, Latency: 414.53049516677856 seconds\n"
     ]
    },
    {
     "name": "stderr",
     "output_type": "stream",
     "text": [
      "\n"
     ]
    }
   ],
   "source": [
    "results_emw = []\n",
    "\n",
    "# 초기 엔트로피 계산\n",
    "input_ids_sample = split_input_ids[0][:32].unsqueeze(0).to('cuda')  # 첫 번째 문장의 일부 사용\n",
    "model.calculate_entropies(input_ids_sample)\n",
    "\n",
    "for num_pruned_layers in range(1, 6):  # 1에서 5까지\n",
    "    model.prune_layers_by_entropy_diff(num_pruned_layers)\n",
    "    sparsity = num_pruned_layers / len(model.model.layers)\n",
    "    print(f\"Pruned {num_pruned_layers} layers (sparsity: {sparsity*100:.2f}%)\")\n",
    "    \n",
    "    ppl, latency = calculate_perplexity_and_latency(model, split_input_ids, max_sample_length, stride)\n",
    "    results_emw.append((num_pruned_layers, sparsity, ppl, latency))\n",
    "    print(f\"Perplexity: {ppl}, Latency: {latency} seconds\")\n",
    "    \n",
    "    # Reset the model to unpruned state\n",
    "    model.pruned_layers = set()"
   ]
  },
  {
   "cell_type": "code",
   "execution_count": 6,
   "id": "bcc83e3e-a92f-4f4c-8651-be58ec6c8364",
   "metadata": {},
   "outputs": [
    {
     "data": {
      "text/plain": [
       "[(1, 0.03125, 6.604146480560303, 470.1005234718323),\n",
       " (2, 0.0625, 13.645593643188477, 456.9097647666931),\n",
       " (3, 0.09375, 31.336503982543945, 442.79918122291565),\n",
       " (4, 0.125, 60.48569869995117, 428.6912679672241),\n",
       " (5, 0.15625, 104.01167297363281, 414.53049516677856)]"
      ]
     },
     "execution_count": 6,
     "metadata": {},
     "output_type": "execute_result"
    }
   ],
   "source": [
    "results_emw"
   ]
  },
  {
   "cell_type": "code",
   "execution_count": 9,
   "id": "ea1c5620-3d7c-4f99-befd-38ff9adb034b",
   "metadata": {},
   "outputs": [
    {
     "data": {
      "image/png": "[encoded data removed]",
      "text/plain": [
       "<Figure size 700x1000 with 3 Axes>"
      ]
     },
     "metadata": {},
     "output_type": "display_data"
    }
   ],
   "source": [
    "# PTB 데이터셋 결과\n",
    "num_pruned_layers_ptb = [r[0] for r in results_emp]\n",
    "sparsities_ptb = [r[1] for r in results_emp]\n",
    "ppls_ptb = [r[2] for r in results_emp]\n",
    "latencies_ptb = [r[3] for r in results_emp]\n",
    "\n",
    "# Wikitext2 데이터셋 결과\n",
    "num_pruned_layers_wikitext = [r[0] for r in results_emw]\n",
    "sparsities_wikitext = [r[1] for r in results_emw]\n",
    "ppls_wikitext = [r[2] for r in results_emw]\n",
    "latencies_wikitext = [r[3] for r in results_emw]\n",
    "\n",
    "plt.figure(figsize=(7, 10))\n",
    "\n",
    "# Wikitext2 Perplexity\n",
    "plt.subplot(3, 1, 1)\n",
    "plt.plot(num_pruned_layers_wikitext, ppls_wikitext, marker='o', label=\"Wikitext2\", color='orange')\n",
    "plt.xlabel(\"Number of Pruned Layers\")\n",
    "plt.ylabel(\"Wikitext2 Perplexity\")\n",
    "plt.title(\"Wikitext2 Perplexity vs. # of Pruned Layers\")\n",
    "plt.legend()\n",
    "\n",
    "# PTB Perplexity\n",
    "plt.subplot(3, 1, 2)\n",
    "plt.plot(num_pruned_layers_ptb, ppls_ptb, marker='o', label=\"PTB\", color='b')\n",
    "plt.xlabel(\"Number of Pruned Layers\")\n",
    "plt.ylabel(\"PTB Perplexity\")\n",
    "plt.legend()\n",
    "\n",
    "# Latency\n",
    "plt.subplot(3, 1, 3)\n",
    "plt.plot(num_pruned_layers_ptb, latencies_ptb, marker='o', label=\"PTB\", color='b')\n",
    "plt.plot(num_pruned_layers_wikitext, latencies_wikitext, marker='o', label=\"Wikitext2\", color='orange')\n",
    "plt.xlabel(\"Number of Pruned Layers\")\n",
    "plt.ylabel(\"Latency (seconds)\")\n",
    "plt.title(\"Latency vs. # of Pruned Layers\")\n",
    "plt.legend()\n",
    "\n",
    "plt.tight_layout()\n",
    "plt.show()\n"
   ]
  },
  {
   "cell_type": "code",
   "execution_count": 5,
   "id": "a3263d30-c587-48a9-9d55-2352c9ab97e8",
   "metadata": {},
   "outputs": [
    {
     "data": {
      "image/png": "[encoded data removed]",
      "text/plain": [
       "<Figure size 700x700 with 2 Axes>"
      ]
     },
     "metadata": {},
     "output_type": "display_data"
    }
   ],
   "source": [
    "results_emp = [\n",
    "    (1, 0.03125, 28.084095001220703, 459.6184628009796),\n",
    "    (2, 0.0625, 60.770809173583984, 450.7812786102295),\n",
    "    (3, 0.09375, 135.5338134765625, 437.61810064315796),\n",
    "    (4, 0.125, 238.9453582763672, 423.72305727005005),\n",
    "    (5, 0.15625, 387.9535217285156, 409.7166986465454)\n",
    "]\n",
    "\n",
    "results_emw = [\n",
    "    (1, 0.03125, 6.604146480560303, 470.1005234718323),\n",
    "    (2, 0.0625, 13.645593643188477, 456.9097647666931),\n",
    "    (3, 0.09375, 31.336503982543945, 442.79918122291565),\n",
    "    (4, 0.125, 60.48569869995117, 428.6912679672241),\n",
    "    (5, 0.15625, 104.01167297363281, 414.53049516677856)\n",
    "]\n",
    "\n",
    "# PTB 데이터셋 결과\n",
    "num_pruned_layers_ptb = [r[0] for r in results_emp]\n",
    "sparsities_ptb = [r[1] for r in results_emp]\n",
    "ppls_ptb = [r[2] for r in results_emp]\n",
    "latencies_ptb = [r[3] for r in results_emp]\n",
    "\n",
    "# Wikitext2 데이터셋 결과\n",
    "num_pruned_layers_wikitext = [r[0] for r in results_emw]\n",
    "sparsities_wikitext = [r[1] for r in results_emw]\n",
    "ppls_wikitext = [r[2] for r in results_emw]\n",
    "latencies_wikitext = [r[3] for r in results_emw]\n",
    "\n",
    "plt.figure(figsize=(7, 7))\n",
    "\n",
    "plt.subplot(2, 1, 1)\n",
    "plt.plot(num_pruned_layers_wikitext, ppls_wikitext, marker='o', label=\"Wikitext2\", color='orange')\n",
    "plt.plot(num_pruned_layers_ptb, ppls_ptb, marker='o', label=\"PTB\", color='b')\n",
    "plt.xlabel(\"Number of Pruned Layers\")\n",
    "plt.ylabel(\"PTB Perplexity\")\n",
    "plt.title(\"Perplexity vs. # of Pruned Layers\")\n",
    "plt.legend()\n",
    "\n",
    "# Latency\n",
    "plt.subplot(2, 1, 2)\n",
    "plt.plot(num_pruned_layers_ptb, latencies_ptb, marker='o', label=\"PTB\", color='b')\n",
    "plt.plot(num_pruned_layers_wikitext, latencies_wikitext, marker='o', label=\"Wikitext2\", color='orange')\n",
    "plt.xlabel(\"Number of Pruned Layers\")\n",
    "plt.ylabel(\"Latency (seconds)\")\n",
    "plt.title(\"Latency vs. # of Pruned Layers\")\n",
    "plt.legend()\n",
    "\n",
    "plt.tight_layout()\n",
    "plt.show()\n"
   ]
  },
  {
   "cell_type": "markdown",
   "id": "763a4afb-c4df-46e0-9562-00724879c015",
   "metadata": {},
   "source": [
    "## Llama-2"
   ]
  },
  {
   "cell_type": "code",
   "execution_count": 1,
   "id": "dd28e2da-024b-4b30-b9a9-ef9fa0f6d6fa",
   "metadata": {},
   "outputs": [
    {
     "name": "stderr",
     "output_type": "stream",
     "text": [
      "You are using a model of type llama to instantiate a model of type mistral. This is not supported for all configurations of models and can yield errors.\n"
     ]
    },
    {
     "data": {
      "application/vnd.jupyter.widget-view+json": {
       "model_id": "56f26fbc4d0041d0b38c5781e764e7a9",
       "version_major": 2,
       "version_minor": 0
      },
      "text/plain": [
       "Loading checkpoint shards:   0%|          | 0/6 [00:00<?, ?it/s]"
      ]
     },
     "metadata": {},
     "output_type": "display_data"
    }
   ],
   "source": [
    "import torch\n",
    "import random\n",
    "import torch.nn.functional as F\n",
    "from transformers import AutoModelForCausalLM, MistralForCausalLM, AutoTokenizer\n",
    "from datasets import load_dataset\n",
    "import time\n",
    "from tqdm import tqdm\n",
    "import matplotlib.pyplot as plt\n",
    "import numpy as np\n",
    "\n",
    "class EntropyPrunedModel(MistralForCausalLM):\n",
    "    def __init__(self, config):\n",
    "        super().__init__(config)\n",
    "        self.pruned_layers = set()\n",
    "        self.entropies = []\n",
    "\n",
    "    def calculate_entropies(self, input_ids):\n",
    "        self.entropies = []\n",
    "        hidden_states = self.model.embed_tokens(input_ids)\n",
    "        \n",
    "        with torch.no_grad():\n",
    "            for layer_module in self.model.layers:\n",
    "                hidden_states = layer_module(hidden_states)[0]\n",
    "                logits = self.lm_head(hidden_states[:, -1, :])\n",
    "                probs = F.softmax(logits, dim=-1)\n",
    "                top_probs, _ = torch.topk(probs, 10)\n",
    "                entropy = -torch.sum(top_probs * torch.log(top_probs)).item()\n",
    "                self.entropies.append(entropy)\n",
    "    \n",
    "    def prune_layers_by_entropy_diff(self, num_layers_to_prune):\n",
    "        if not self.entropies:\n",
    "            raise ValueError(\"Entropies not calculated. Please run entropy calculation before pruning.\")\n",
    "        print(np.ndim(self.entropies))\n",
    "        print(len(self.entropies))\n",
    "        # print(len(self.entropies[0]))\n",
    "        entropy_diffs = []\n",
    "        for i in range(1, len(self.entropies)):\n",
    "            entropy_diff = self.entropies[i - 1] - self.entropies[i]\n",
    "            entropy_diffs.append((i, entropy_diff))\n",
    "        \n",
    "        # Sort entropy differences in ascending order\n",
    "        sorted_entropy_diffs = sorted(entropy_diffs, key=lambda x: x[1], reverse=False)\n",
    "        \n",
    "        # Select layers with largest entropy difference\n",
    "        pruned_layers = []\n",
    "        for i in range(num_layers_to_prune):\n",
    "            layer_index, entropy_diff = sorted_entropy_diffs[i]\n",
    "            pruned_layers.append(layer_index)\n",
    "            print(f\"Layer {layer_index}: Entropy Difference = {entropy_diff}\")\n",
    "        \n",
    "        self.pruned_layers = set(pruned_layers)\n",
    "    \n",
    "    def forward(self, input_ids, **kwargs):\n",
    "        hidden_states = self.model.embed_tokens(input_ids)\n",
    "        \n",
    "        for i, layer_module in enumerate(self.model.layers):\n",
    "            if i in self.pruned_layers:\n",
    "                continue\n",
    "            hidden_states = layer_module(hidden_states, **kwargs)[0]\n",
    "            \n",
    "        hidden_states = self.model.norm(hidden_states)\n",
    "        logits = self.lm_head(hidden_states)\n",
    "        \n",
    "        return logits\n",
    "\n",
    "# 모델 로드\n",
    "directory = \"../model/llama_2_7b_hf__meta_llama\"\n",
    "tokenizer = AutoTokenizer.from_pretrained(directory)\n",
    "model = EntropyPrunedModel.from_pretrained(directory, device_map=\"auto\")\n",
    "\n",
    "dataset = load_dataset(\"ptb_text_only\", split=\"test[:15%]\", trust_remote_code=True)  # PTB 데이터셋의 테스트 split 사용\n",
    "max_length = model.config.max_position_embeddings\n",
    "stride = 32\n",
    "max_sample_length = 1024  # 설정 가능한 최대 샘플 길이\n",
    "\n",
    "# 데이터 전처리: 일정 크기가 넘는 샘플은 잘라서 처리\n",
    "texts = \"\\n\\n\".join(dataset[\"sentence\"])\n",
    "tokens = tokenizer(texts, return_tensors=\"pt\")\n",
    "input_ids = tokens.input_ids[0]\n",
    "\n",
    "# 최대 길이를 초과하는 텍스트 분할\n",
    "def split_long_text(input_ids, max_sample_length):\n",
    "    split_input_ids = []\n",
    "    for i in range(0, len(input_ids), max_sample_length):\n",
    "        split_input_ids.append(input_ids[i:i + max_sample_length])\n",
    "    return split_input_ids\n",
    "\n",
    "split_input_ids = split_long_text(input_ids, max_sample_length)\n",
    "\n",
    "def calculate_perplexity_and_latency(model, split_input_ids, max_sample_length, stride):\n",
    "    lls = []\n",
    "    total_steps = len(split_input_ids)\n",
    "    passed_samples = 0\n",
    "    total_samples = 0\n",
    "    total_length = 0\n",
    "    start_time = time.time()\n",
    "    \n",
    "    for i, chunk in enumerate(tqdm(split_input_ids, total=total_steps, desc=\"Processing\")):\n",
    "        total_samples += 1\n",
    "\n",
    "        if chunk.size(0) > max_sample_length:\n",
    "            passed_samples += 1\n",
    "            continue\n",
    "\n",
    "        for j in range(0, chunk.size(0), stride):\n",
    "            begin_loc = max(j + stride - max_length, 0)\n",
    "            end_loc = min(j + stride, chunk.size(0))\n",
    "            trg_len = end_loc - j\n",
    "            total_length += trg_len\n",
    "\n",
    "            input_ids_chunk = chunk[begin_loc:end_loc].unsqueeze(0).to('cuda')\n",
    "            target_ids = input_ids_chunk.clone()\n",
    "            target_ids[:, :-trg_len] = -100\n",
    "\n",
    "            with torch.no_grad():\n",
    "                outputs = model(input_ids_chunk)\n",
    "                shift_logits = outputs[:, :-1, :].contiguous()\n",
    "                shift_labels = target_ids[:, 1:].contiguous()\n",
    "                loss_fct = torch.nn.CrossEntropyLoss(ignore_index=-100)\n",
    "                loss = loss_fct(shift_logits.view(-1, shift_logits.size(-1)), shift_labels.view(-1))\n",
    "                log_likelihood = loss * trg_len\n",
    "\n",
    "            lls.append(log_likelihood.cpu())\n",
    "    \n",
    "    average_log_likelihood = torch.stack(lls).sum() / total_length\n",
    "    ppl = torch.exp(average_log_likelihood)\n",
    "    end_time = time.time()\n",
    "    latency = end_time - start_time\n",
    "    \n",
    "    return ppl.item(), latency"
   ]
  },
  {
   "cell_type": "code",
   "execution_count": 2,
   "id": "cf96c184-9aed-41eb-9e47-a76c88259aa3",
   "metadata": {
    "scrolled": true
   },
   "outputs": [
    {
     "name": "stdout",
     "output_type": "stream",
     "text": [
      "1\n",
      "32\n",
      "Layer 27: Entropy Difference = -0.19051611423492432\n",
      "Pruned 1 layers (sparsity: 3.12%)\n"
     ]
    },
    {
     "name": "stderr",
     "output_type": "stream",
     "text": [
      "Processing: 100%|██████████| 17/17 [07:42<00:00, 27.20s/it]\n"
     ]
    },
    {
     "name": "stdout",
     "output_type": "stream",
     "text": [
      "Perplexity: 20.50360107421875, Latency: 462.44361996650696 seconds\n",
      "1\n",
      "32\n",
      "Layer 27: Entropy Difference = -0.19051611423492432\n",
      "Layer 26: Entropy Difference = -0.18809711933135986\n",
      "Pruned 2 layers (sparsity: 6.25%)\n"
     ]
    },
    {
     "name": "stderr",
     "output_type": "stream",
     "text": [
      "Processing: 100%|██████████| 17/17 [07:30<00:00, 26.50s/it]\n"
     ]
    },
    {
     "name": "stdout",
     "output_type": "stream",
     "text": [
      "Perplexity: 21.534778594970703, Latency: 450.4682619571686 seconds\n",
      "1\n",
      "32\n",
      "Layer 27: Entropy Difference = -0.19051611423492432\n",
      "Layer 26: Entropy Difference = -0.18809711933135986\n",
      "Layer 25: Entropy Difference = -0.10183906555175781\n",
      "Pruned 3 layers (sparsity: 9.38%)\n"
     ]
    },
    {
     "name": "stderr",
     "output_type": "stream",
     "text": [
      "Processing: 100%|██████████| 17/17 [07:16<00:00, 25.70s/it]\n"
     ]
    },
    {
     "name": "stdout",
     "output_type": "stream",
     "text": [
      "Perplexity: 23.4315242767334, Latency: 436.8283896446228 seconds\n",
      "1\n",
      "32\n",
      "Layer 27: Entropy Difference = -0.19051611423492432\n",
      "Layer 26: Entropy Difference = -0.18809711933135986\n",
      "Layer 25: Entropy Difference = -0.10183906555175781\n",
      "Layer 22: Entropy Difference = -0.06608928740024567\n",
      "Pruned 4 layers (sparsity: 12.50%)\n"
     ]
    },
    {
     "name": "stderr",
     "output_type": "stream",
     "text": [
      "Processing: 100%|██████████| 17/17 [06:59<00:00, 24.69s/it]\n"
     ]
    },
    {
     "name": "stdout",
     "output_type": "stream",
     "text": [
      "Perplexity: 25.465028762817383, Latency: 419.6826310157776 seconds\n",
      "1\n",
      "32\n",
      "Layer 27: Entropy Difference = -0.19051611423492432\n",
      "Layer 26: Entropy Difference = -0.18809711933135986\n",
      "Layer 25: Entropy Difference = -0.10183906555175781\n",
      "Layer 22: Entropy Difference = -0.06608928740024567\n",
      "Layer 23: Entropy Difference = -0.048822835087776184\n",
      "Pruned 5 layers (sparsity: 15.62%)\n"
     ]
    },
    {
     "name": "stderr",
     "output_type": "stream",
     "text": [
      "Processing: 100%|██████████| 17/17 [06:42<00:00, 23.71s/it]"
     ]
    },
    {
     "name": "stdout",
     "output_type": "stream",
     "text": [
      "Perplexity: 27.819957733154297, Latency: 402.9953737258911 seconds\n"
     ]
    },
    {
     "name": "stderr",
     "output_type": "stream",
     "text": [
      "\n"
     ]
    }
   ],
   "source": [
    "results_elp = []\n",
    "\n",
    "# 초기 엔트로피 계산\n",
    "input_ids_sample = split_input_ids[0][:32].unsqueeze(0).to('cuda')  # 첫 번째 문장의 일부 사용\n",
    "model.calculate_entropies(input_ids_sample)\n",
    "\n",
    "for num_pruned_layers in range(1, 6):  # 1에서 5까지\n",
    "    model.prune_layers_by_entropy_diff(num_pruned_layers)\n",
    "    sparsity = num_pruned_layers / len(model.model.layers)\n",
    "    print(f\"Pruned {num_pruned_layers} layers (sparsity: {sparsity*100:.2f}%)\")\n",
    "    \n",
    "    ppl, latency = calculate_perplexity_and_latency(model, split_input_ids, max_sample_length, stride)\n",
    "    results_elp.append((num_pruned_layers, sparsity, ppl, latency))\n",
    "    print(f\"Perplexity: {ppl}, Latency: {latency} seconds\")\n",
    "    \n",
    "    # Reset the model to unpruned state\n",
    "    model.pruned_layers = set()"
   ]
  },
  {
   "cell_type": "code",
   "execution_count": 3,
   "id": "0d048973-cb94-420d-90fa-66b4ce001774",
   "metadata": {},
   "outputs": [
    {
     "data": {
      "text/plain": [
       "[(1, 0.03125, 20.50360107421875, 462.44361996650696),\n",
       " (2, 0.0625, 21.534778594970703, 450.4682619571686),\n",
       " (3, 0.09375, 23.4315242767334, 436.8283896446228),\n",
       " (4, 0.125, 25.465028762817383, 419.6826310157776),\n",
       " (5, 0.15625, 27.819957733154297, 402.9953737258911)]"
      ]
     },
     "execution_count": 3,
     "metadata": {},
     "output_type": "execute_result"
    }
   ],
   "source": [
    "results_elp"
   ]
  },
  {
   "cell_type": "code",
   "execution_count": 4,
   "id": "19128178-19fc-4b9c-a2b0-be1abe2f66b4",
   "metadata": {},
   "outputs": [],
   "source": [
    "dataset = load_dataset(\"wikitext\", \"wikitext-2-raw-v1\", split=\"test[:5%]\")  # 데이터셋의 5%만 사용\n",
    "max_length = model.config.max_position_embeddings\n",
    "stride = 32\n",
    "max_sample_length = 1024  # 설정 가능한 최대 샘플 길이\n",
    "\n",
    "# 데이터 전처리: 일정 크기가 넘는 샘플은 잘라서 처리\n",
    "texts = \"\\n\\n\".join(dataset[\"text\"])\n",
    "tokens = tokenizer(texts, return_tensors=\"pt\")\n",
    "input_ids = tokens.input_ids[0]\n",
    "\n",
    "split_input_ids = split_long_text(input_ids, max_sample_length)"
   ]
  },
  {
   "cell_type": "code",
   "execution_count": 5,
   "id": "90c917ae-adbe-43f0-b5b2-2c196a480e59",
   "metadata": {},
   "outputs": [
    {
     "name": "stdout",
     "output_type": "stream",
     "text": [
      "1\n",
      "32\n",
      "Layer 29: Entropy Difference = -0.6603612899780273\n",
      "Pruned 1 layers (sparsity: 3.12%)\n"
     ]
    },
    {
     "name": "stderr",
     "output_type": "stream",
     "text": [
      "Processing: 100%|██████████| 17/17 [07:37<00:00, 26.94s/it]\n"
     ]
    },
    {
     "name": "stdout",
     "output_type": "stream",
     "text": [
      "Perplexity: 6.5146002769470215, Latency: 457.90588760375977 seconds\n",
      "1\n",
      "32\n",
      "Layer 29: Entropy Difference = -0.6603612899780273\n",
      "Layer 28: Entropy Difference = -0.559985838830471\n",
      "Pruned 2 layers (sparsity: 6.25%)\n"
     ]
    },
    {
     "name": "stderr",
     "output_type": "stream",
     "text": [
      "Processing: 100%|██████████| 17/17 [07:24<00:00, 26.17s/it]\n"
     ]
    },
    {
     "name": "stdout",
     "output_type": "stream",
     "text": [
      "Perplexity: 7.472212314605713, Latency: 444.96508264541626 seconds\n",
      "1\n",
      "32\n",
      "Layer 29: Entropy Difference = -0.6603612899780273\n",
      "Layer 28: Entropy Difference = -0.559985838830471\n",
      "Layer 20: Entropy Difference = -0.270833820104599\n",
      "Pruned 3 layers (sparsity: 9.38%)\n"
     ]
    },
    {
     "name": "stderr",
     "output_type": "stream",
     "text": [
      "Processing: 100%|██████████| 17/17 [07:08<00:00, 25.19s/it]\n"
     ]
    },
    {
     "name": "stdout",
     "output_type": "stream",
     "text": [
      "Perplexity: 8.191120147705078, Latency: 428.2281594276428 seconds\n",
      "1\n",
      "32\n",
      "Layer 29: Entropy Difference = -0.6603612899780273\n",
      "Layer 28: Entropy Difference = -0.559985838830471\n",
      "Layer 20: Entropy Difference = -0.270833820104599\n",
      "Layer 31: Entropy Difference = -0.20107871294021606\n",
      "Pruned 4 layers (sparsity: 12.50%)\n"
     ]
    },
    {
     "name": "stderr",
     "output_type": "stream",
     "text": [
      "Processing: 100%|██████████| 17/17 [06:54<00:00, 24.40s/it]\n"
     ]
    },
    {
     "name": "stdout",
     "output_type": "stream",
     "text": [
      "Perplexity: 15.921226501464844, Latency: 414.8356816768646 seconds\n",
      "1\n",
      "32\n",
      "Layer 29: Entropy Difference = -0.6603612899780273\n",
      "Layer 28: Entropy Difference = -0.559985838830471\n",
      "Layer 20: Entropy Difference = -0.270833820104599\n",
      "Layer 31: Entropy Difference = -0.20107871294021606\n",
      "Layer 19: Entropy Difference = -0.09159867465496063\n",
      "Pruned 5 layers (sparsity: 15.62%)\n"
     ]
    },
    {
     "name": "stderr",
     "output_type": "stream",
     "text": [
      "Processing: 100%|██████████| 17/17 [06:37<00:00, 23.41s/it]"
     ]
    },
    {
     "name": "stdout",
     "output_type": "stream",
     "text": [
      "Perplexity: 17.96168327331543, Latency: 397.94642782211304 seconds\n"
     ]
    },
    {
     "name": "stderr",
     "output_type": "stream",
     "text": [
      "\n"
     ]
    }
   ],
   "source": [
    "results_elw = []\n",
    "\n",
    "# 초기 엔트로피 계산\n",
    "input_ids_sample = split_input_ids[0][:32].unsqueeze(0).to('cuda')  # 첫 번째 문장의 일부 사용\n",
    "model.calculate_entropies(input_ids_sample)\n",
    "\n",
    "for num_pruned_layers in range(1, 6):  # 1에서 5까지\n",
    "    model.prune_layers_by_entropy_diff(num_pruned_layers)\n",
    "    sparsity = num_pruned_layers / len(model.model.layers)\n",
    "    print(f\"Pruned {num_pruned_layers} layers (sparsity: {sparsity*100:.2f}%)\")\n",
    "    \n",
    "    ppl, latency = calculate_perplexity_and_latency(model, split_input_ids, max_sample_length, stride)\n",
    "    results_elw.append((num_pruned_layers, sparsity, ppl, latency))\n",
    "    print(f\"Perplexity: {ppl}, Latency: {latency} seconds\")\n",
    "    \n",
    "    # Reset the model to unpruned state\n",
    "    model.pruned_layers = set()"
   ]
  },
  {
   "cell_type": "code",
   "execution_count": 6,
   "id": "b76ea271-4ea0-48af-aa32-07ddd60f136a",
   "metadata": {},
   "outputs": [
    {
     "data": {
      "text/plain": [
       "[(1, 0.03125, 6.5146002769470215, 457.90588760375977),\n",
       " (2, 0.0625, 7.472212314605713, 444.96508264541626),\n",
       " (3, 0.09375, 8.191120147705078, 428.2281594276428),\n",
       " (4, 0.125, 15.921226501464844, 414.8356816768646),\n",
       " (5, 0.15625, 17.96168327331543, 397.94642782211304)]"
      ]
     },
     "execution_count": 6,
     "metadata": {},
     "output_type": "execute_result"
    }
   ],
   "source": [
    "results_elw"
   ]
  },
  {
   "cell_type": "code",
   "execution_count": 7,
   "id": "8c47aa59-54da-41fd-8d0e-55d08f27acdf",
   "metadata": {},
   "outputs": [
    {
     "data": {
      "image/png": "[encoded data removed]",
      "text/plain": [
       "<Figure size 700x700 with 2 Axes>"
      ]
     },
     "metadata": {},
     "output_type": "display_data"
    }
   ],
   "source": [
    "# PTB 데이터셋 결과\n",
    "num_pruned_layers_ptb = [r[0] for r in results_elp]\n",
    "sparsities_ptb = [r[1] for r in results_elp]\n",
    "ppls_ptb = [r[2] for r in results_elp]\n",
    "latencies_ptb = [r[3] for r in results_elp]\n",
    "\n",
    "# Wikitext2 데이터셋 결과\n",
    "num_pruned_layers_wikitext = [r[0] for r in results_elw]\n",
    "sparsities_wikitext = [r[1] for r in results_elw]\n",
    "ppls_wikitext = [r[2] for r in results_elw]\n",
    "latencies_wikitext = [r[3] for r in results_elw]\n",
    "\n",
    "plt.figure(figsize=(7, 7))\n",
    "\n",
    "plt.subplot(2, 1, 1)\n",
    "plt.plot(num_pruned_layers_wikitext, ppls_wikitext, marker='o', label=\"Wikitext2\", color='orange')\n",
    "plt.plot(num_pruned_layers_ptb, ppls_ptb, marker='o', label=\"PTB\", color='b')\n",
    "plt.xlabel(\"Number of Pruned Layers\")\n",
    "plt.ylabel(\"PTB Perplexity\")\n",
    "plt.title(\"Perplexity vs. # of Pruned Layers\")\n",
    "plt.legend()\n",
    "\n",
    "# Latency\n",
    "plt.subplot(2, 1, 2)\n",
    "plt.plot(num_pruned_layers_ptb, latencies_ptb, marker='o', label=\"PTB\", color='b')\n",
    "plt.plot(num_pruned_layers_wikitext, latencies_wikitext, marker='o', label=\"Wikitext2\", color='orange')\n",
    "plt.xlabel(\"Number of Pruned Layers\")\n",
    "plt.ylabel(\"Latency (seconds)\")\n",
    "plt.title(\"Latency vs. # of Pruned Layers\")\n",
    "plt.legend()\n",
    "\n",
    "plt.tight_layout()\n",
    "plt.show()\n"
   ]
  },
  {
   "cell_type": "markdown",
   "id": "4afc8abd-fa26-4a94-9dc0-92c3c1733773",
   "metadata": {},
   "source": [
    "# Confidence-based"
   ]
  },
  {
   "cell_type": "markdown",
   "id": "8efaa22c-b396-48f6-91c1-4323f7b55ea1",
   "metadata": {},
   "source": [
    "## Mistral"
   ]
  },
  {
   "cell_type": "code",
   "execution_count": 1,
   "id": "45926eed-78f2-48ff-9232-72dfff014cbb",
   "metadata": {
    "collapsed": true,
    "jupyter": {
     "outputs_hidden": true
    }
   },
   "outputs": [
    {
     "data": {
      "application/vnd.jupyter.widget-view+json": {
       "model_id": "b72c9999b34a4c8c916ac000210743b4",
       "version_major": 2,
       "version_minor": 0
      },
      "text/plain": [
       "Loading checkpoint shards:   0%|          | 0/6 [00:00<?, ?it/s]"
      ]
     },
     "metadata": {},
     "output_type": "display_data"
    },
    {
     "name": "stdout",
     "output_type": "stream",
     "text": [
      "Sorted confidence differences and corresponding layer indices:\n",
      "Layer 19: Confidence Difference = -1.2696546036750078e-06\n",
      "Layer 24: Confidence Difference = -3.5175253287889063e-07\n",
      "Layer 1: Confidence Difference = 6.289701559580863e-08\n",
      "Layer 6: Confidence Difference = 6.93617039360106e-08\n",
      "Layer 0: Confidence Difference = 7.417838787660003e-08\n",
      "Layer 8: Confidence Difference = 9.164068615064025e-08\n",
      "Layer 3: Confidence Difference = 9.711948223412037e-08\n",
      "Layer 4: Confidence Difference = 1.301195879932493e-07\n",
      "Layer 11: Confidence Difference = 1.4054967323318124e-07\n",
      "Layer 2: Confidence Difference = 1.776570570655167e-07\n",
      "Layer 10: Confidence Difference = 2.1202504285611212e-07\n",
      "Layer 14: Confidence Difference = 3.0024239094927907e-07\n",
      "Layer 5: Confidence Difference = 3.53076757164672e-07\n",
      "Layer 7: Confidence Difference = 3.9787482819519937e-07\n",
      "Layer 15: Confidence Difference = 5.67040842724964e-07\n",
      "Layer 13: Confidence Difference = 5.852234608028084e-07\n",
      "Layer 23: Confidence Difference = 5.8917430578731e-07\n",
      "Layer 9: Confidence Difference = 7.08809238858521e-07\n",
      "Layer 20: Confidence Difference = 8.614042599219829e-07\n",
      "Layer 12: Confidence Difference = 9.297291398979723e-07\n",
      "Layer 21: Confidence Difference = 1.6751182556618005e-06\n",
      "Layer 17: Confidence Difference = 1.9724247977137566e-06\n",
      "Layer 25: Confidence Difference = 2.5951521820388734e-06\n",
      "Layer 18: Confidence Difference = 2.8919930628035218e-06\n",
      "Layer 16: Confidence Difference = 2.964832674479112e-06\n",
      "Layer 22: Confidence Difference = 3.5182965802960098e-06\n",
      "Layer 26: Confidence Difference = 4.099591023987159e-06\n",
      "Layer 27: Confidence Difference = 1.1984291631961241e-05\n",
      "Layer 28: Confidence Difference = 4.667647590395063e-05\n",
      "Layer 29: Confidence Difference = 0.0001209298861795105\n",
      "Layer 30: Confidence Difference = 0.0002627675421535969\n",
      "Pruned layers: {19}\n",
      "Pruned 1 layers (sparsity: 3.12%)\n"
     ]
    },
    {
     "name": "stderr",
     "output_type": "stream",
     "text": [
      "Processing: 100%|██████████| 17/17 [07:43<00:00, 27.24s/it]\n"
     ]
    },
    {
     "name": "stdout",
     "output_type": "stream",
     "text": [
      "Perplexity: 27.487770080566406, Latency: 463.1498849391937 seconds\n",
      "Sorted confidence differences and corresponding layer indices:\n",
      "Layer 19: Confidence Difference = -1.2696546036750078e-06\n",
      "Layer 24: Confidence Difference = -3.5175253287889063e-07\n",
      "Layer 1: Confidence Difference = 6.289701559580863e-08\n",
      "Layer 6: Confidence Difference = 6.93617039360106e-08\n",
      "Layer 0: Confidence Difference = 7.417838787660003e-08\n",
      "Layer 8: Confidence Difference = 9.164068615064025e-08\n",
      "Layer 3: Confidence Difference = 9.711948223412037e-08\n",
      "Layer 4: Confidence Difference = 1.301195879932493e-07\n",
      "Layer 11: Confidence Difference = 1.4054967323318124e-07\n",
      "Layer 2: Confidence Difference = 1.776570570655167e-07\n",
      "Layer 10: Confidence Difference = 2.1202504285611212e-07\n",
      "Layer 14: Confidence Difference = 3.0024239094927907e-07\n",
      "Layer 5: Confidence Difference = 3.53076757164672e-07\n",
      "Layer 7: Confidence Difference = 3.9787482819519937e-07\n",
      "Layer 15: Confidence Difference = 5.67040842724964e-07\n",
      "Layer 13: Confidence Difference = 5.852234608028084e-07\n",
      "Layer 23: Confidence Difference = 5.8917430578731e-07\n",
      "Layer 9: Confidence Difference = 7.08809238858521e-07\n",
      "Layer 20: Confidence Difference = 8.614042599219829e-07\n",
      "Layer 12: Confidence Difference = 9.297291398979723e-07\n",
      "Layer 21: Confidence Difference = 1.6751182556618005e-06\n",
      "Layer 17: Confidence Difference = 1.9724247977137566e-06\n",
      "Layer 25: Confidence Difference = 2.5951521820388734e-06\n",
      "Layer 18: Confidence Difference = 2.8919930628035218e-06\n",
      "Layer 16: Confidence Difference = 2.964832674479112e-06\n",
      "Layer 22: Confidence Difference = 3.5182965802960098e-06\n",
      "Layer 26: Confidence Difference = 4.099591023987159e-06\n",
      "Layer 27: Confidence Difference = 1.1984291631961241e-05\n",
      "Layer 28: Confidence Difference = 4.667647590395063e-05\n",
      "Layer 29: Confidence Difference = 0.0001209298861795105\n",
      "Layer 30: Confidence Difference = 0.0002627675421535969\n",
      "Pruned layers: {24, 19}\n",
      "Pruned 2 layers (sparsity: 6.25%)\n"
     ]
    },
    {
     "name": "stderr",
     "output_type": "stream",
     "text": [
      "Processing: 100%|██████████| 17/17 [07:29<00:00, 26.45s/it]\n"
     ]
    },
    {
     "name": "stdout",
     "output_type": "stream",
     "text": [
      "Perplexity: 29.539669036865234, Latency: 449.6867744922638 seconds\n",
      "Sorted confidence differences and corresponding layer indices:\n",
      "Layer 19: Confidence Difference = -1.2696546036750078e-06\n",
      "Layer 24: Confidence Difference = -3.5175253287889063e-07\n",
      "Layer 1: Confidence Difference = 6.289701559580863e-08\n",
      "Layer 6: Confidence Difference = 6.93617039360106e-08\n",
      "Layer 0: Confidence Difference = 7.417838787660003e-08\n",
      "Layer 8: Confidence Difference = 9.164068615064025e-08\n",
      "Layer 3: Confidence Difference = 9.711948223412037e-08\n",
      "Layer 4: Confidence Difference = 1.301195879932493e-07\n",
      "Layer 11: Confidence Difference = 1.4054967323318124e-07\n",
      "Layer 2: Confidence Difference = 1.776570570655167e-07\n",
      "Layer 10: Confidence Difference = 2.1202504285611212e-07\n",
      "Layer 14: Confidence Difference = 3.0024239094927907e-07\n",
      "Layer 5: Confidence Difference = 3.53076757164672e-07\n",
      "Layer 7: Confidence Difference = 3.9787482819519937e-07\n",
      "Layer 15: Confidence Difference = 5.67040842724964e-07\n",
      "Layer 13: Confidence Difference = 5.852234608028084e-07\n",
      "Layer 23: Confidence Difference = 5.8917430578731e-07\n",
      "Layer 9: Confidence Difference = 7.08809238858521e-07\n",
      "Layer 20: Confidence Difference = 8.614042599219829e-07\n",
      "Layer 12: Confidence Difference = 9.297291398979723e-07\n",
      "Layer 21: Confidence Difference = 1.6751182556618005e-06\n",
      "Layer 17: Confidence Difference = 1.9724247977137566e-06\n",
      "Layer 25: Confidence Difference = 2.5951521820388734e-06\n",
      "Layer 18: Confidence Difference = 2.8919930628035218e-06\n",
      "Layer 16: Confidence Difference = 2.964832674479112e-06\n",
      "Layer 22: Confidence Difference = 3.5182965802960098e-06\n",
      "Layer 26: Confidence Difference = 4.099591023987159e-06\n",
      "Layer 27: Confidence Difference = 1.1984291631961241e-05\n",
      "Layer 28: Confidence Difference = 4.667647590395063e-05\n",
      "Layer 29: Confidence Difference = 0.0001209298861795105\n",
      "Layer 30: Confidence Difference = 0.0002627675421535969\n",
      "Pruned layers: {24, 1, 19}\n",
      "Pruned 3 layers (sparsity: 9.38%)\n"
     ]
    },
    {
     "name": "stderr",
     "output_type": "stream",
     "text": [
      "Processing: 100%|██████████| 17/17 [07:16<00:00, 25.66s/it]\n"
     ]
    },
    {
     "name": "stdout",
     "output_type": "stream",
     "text": [
      "Perplexity: 260.2650146484375, Latency: 436.2645494937897 seconds\n",
      "Sorted confidence differences and corresponding layer indices:\n",
      "Layer 19: Confidence Difference = -1.2696546036750078e-06\n",
      "Layer 24: Confidence Difference = -3.5175253287889063e-07\n",
      "Layer 1: Confidence Difference = 6.289701559580863e-08\n",
      "Layer 6: Confidence Difference = 6.93617039360106e-08\n",
      "Layer 0: Confidence Difference = 7.417838787660003e-08\n",
      "Layer 8: Confidence Difference = 9.164068615064025e-08\n",
      "Layer 3: Confidence Difference = 9.711948223412037e-08\n",
      "Layer 4: Confidence Difference = 1.301195879932493e-07\n",
      "Layer 11: Confidence Difference = 1.4054967323318124e-07\n",
      "Layer 2: Confidence Difference = 1.776570570655167e-07\n",
      "Layer 10: Confidence Difference = 2.1202504285611212e-07\n",
      "Layer 14: Confidence Difference = 3.0024239094927907e-07\n",
      "Layer 5: Confidence Difference = 3.53076757164672e-07\n",
      "Layer 7: Confidence Difference = 3.9787482819519937e-07\n",
      "Layer 15: Confidence Difference = 5.67040842724964e-07\n",
      "Layer 13: Confidence Difference = 5.852234608028084e-07\n",
      "Layer 23: Confidence Difference = 5.8917430578731e-07\n",
      "Layer 9: Confidence Difference = 7.08809238858521e-07\n",
      "Layer 20: Confidence Difference = 8.614042599219829e-07\n",
      "Layer 12: Confidence Difference = 9.297291398979723e-07\n",
      "Layer 21: Confidence Difference = 1.6751182556618005e-06\n",
      "Layer 17: Confidence Difference = 1.9724247977137566e-06\n",
      "Layer 25: Confidence Difference = 2.5951521820388734e-06\n",
      "Layer 18: Confidence Difference = 2.8919930628035218e-06\n",
      "Layer 16: Confidence Difference = 2.964832674479112e-06\n",
      "Layer 22: Confidence Difference = 3.5182965802960098e-06\n",
      "Layer 26: Confidence Difference = 4.099591023987159e-06\n",
      "Layer 27: Confidence Difference = 1.1984291631961241e-05\n",
      "Layer 28: Confidence Difference = 4.667647590395063e-05\n",
      "Layer 29: Confidence Difference = 0.0001209298861795105\n",
      "Layer 30: Confidence Difference = 0.0002627675421535969\n",
      "Pruned layers: {24, 1, 19, 6}\n",
      "Pruned 4 layers (sparsity: 12.50%)\n"
     ]
    },
    {
     "name": "stderr",
     "output_type": "stream",
     "text": [
      "Processing: 100%|██████████| 17/17 [07:02<00:00, 24.86s/it]\n"
     ]
    },
    {
     "name": "stdout",
     "output_type": "stream",
     "text": [
      "Perplexity: 234.7811737060547, Latency: 422.54423356056213 seconds\n",
      "Sorted confidence differences and corresponding layer indices:\n",
      "Layer 19: Confidence Difference = -1.2696546036750078e-06\n",
      "Layer 24: Confidence Difference = -3.5175253287889063e-07\n",
      "Layer 1: Confidence Difference = 6.289701559580863e-08\n",
      "Layer 6: Confidence Difference = 6.93617039360106e-08\n",
      "Layer 0: Confidence Difference = 7.417838787660003e-08\n",
      "Layer 8: Confidence Difference = 9.164068615064025e-08\n",
      "Layer 3: Confidence Difference = 9.711948223412037e-08\n",
      "Layer 4: Confidence Difference = 1.301195879932493e-07\n",
      "Layer 11: Confidence Difference = 1.4054967323318124e-07\n",
      "Layer 2: Confidence Difference = 1.776570570655167e-07\n",
      "Layer 10: Confidence Difference = 2.1202504285611212e-07\n",
      "Layer 14: Confidence Difference = 3.0024239094927907e-07\n",
      "Layer 5: Confidence Difference = 3.53076757164672e-07\n",
      "Layer 7: Confidence Difference = 3.9787482819519937e-07\n",
      "Layer 15: Confidence Difference = 5.67040842724964e-07\n",
      "Layer 13: Confidence Difference = 5.852234608028084e-07\n",
      "Layer 23: Confidence Difference = 5.8917430578731e-07\n",
      "Layer 9: Confidence Difference = 7.08809238858521e-07\n",
      "Layer 20: Confidence Difference = 8.614042599219829e-07\n",
      "Layer 12: Confidence Difference = 9.297291398979723e-07\n",
      "Layer 21: Confidence Difference = 1.6751182556618005e-06\n",
      "Layer 17: Confidence Difference = 1.9724247977137566e-06\n",
      "Layer 25: Confidence Difference = 2.5951521820388734e-06\n",
      "Layer 18: Confidence Difference = 2.8919930628035218e-06\n",
      "Layer 16: Confidence Difference = 2.964832674479112e-06\n",
      "Layer 22: Confidence Difference = 3.5182965802960098e-06\n",
      "Layer 26: Confidence Difference = 4.099591023987159e-06\n",
      "Layer 27: Confidence Difference = 1.1984291631961241e-05\n",
      "Layer 28: Confidence Difference = 4.667647590395063e-05\n",
      "Layer 29: Confidence Difference = 0.0001209298861795105\n",
      "Layer 30: Confidence Difference = 0.0002627675421535969\n",
      "Pruned layers: {0, 1, 6, 19, 24}\n",
      "Pruned 5 layers (sparsity: 15.62%)\n"
     ]
    },
    {
     "name": "stderr",
     "output_type": "stream",
     "text": [
      "Processing: 100%|██████████| 17/17 [06:48<00:00, 24.01s/it]"
     ]
    },
    {
     "name": "stdout",
     "output_type": "stream",
     "text": [
      "Perplexity: 6770.55419921875, Latency: 408.1932923793793 seconds\n"
     ]
    },
    {
     "name": "stderr",
     "output_type": "stream",
     "text": [
      "\n"
     ]
    }
   ],
   "source": [
    "import torch\n",
    "import random\n",
    "import torch.nn.functional as F\n",
    "from transformers import MistralForCausalLM, AutoTokenizer\n",
    "from datasets import load_dataset\n",
    "import time\n",
    "from tqdm import tqdm\n",
    "import matplotlib.pyplot as plt\n",
    "import numpy as np\n",
    "\n",
    "class ConfidencePrunedModel(MistralForCausalLM):\n",
    "    def __init__(self, config):\n",
    "        super().__init__(config)\n",
    "        self.pruned_layers = set()\n",
    "        self.confidences = []\n",
    "\n",
    "    def calculate_confidences(self, input_ids):\n",
    "        self.confidences = []\n",
    "        hidden_states = self.model.embed_tokens(input_ids)\n",
    "        \n",
    "        with torch.no_grad():\n",
    "            for layer_module in self.model.layers:\n",
    "                hidden_states = layer_module(hidden_states)[0]\n",
    "                logits = self.lm_head(hidden_states[:, -1, :])\n",
    "                probs = F.softmax(logits, dim=-1)\n",
    "                top_confidence, _ = torch.max(probs, dim=-1)\n",
    "                confidence = top_confidence.mean().item()\n",
    "                self.confidences.append(confidence)\n",
    "\n",
    "    def prune_layers_by_confidence(self, num_layers_to_prune):\n",
    "        if not self.confidences:\n",
    "            raise ValueError(\"Confidences not calculated. Please run confidence calculation before pruning.\")\n",
    "        \n",
    "        # Calculate confidence differences\n",
    "        confidence_diffs = [self.confidences[i] - self.confidences[i - 1] for i in range(1, len(self.confidences))]\n",
    "        \n",
    "        # Display sorted confidence differences and corresponding layers\n",
    "        sorted_indices = np.argsort(confidence_diffs)  # asc\n",
    "        \n",
    "        print(\"Sorted confidence differences and corresponding layer indices:\")\n",
    "        for idx in sorted_indices:\n",
    "            print(f\"Layer {idx}: Confidence Difference = {confidence_diffs[idx]}\")\n",
    "        \n",
    "        # Select layers with smallest confidence difference\n",
    "        layers_to_prune = sorted_indices[:num_layers_to_prune]\n",
    "        self.pruned_layers = set(layers_to_prune)\n",
    "        \n",
    "        # Display pruned layers\n",
    "        print(f\"Pruned layers: {self.pruned_layers}\")\n",
    "\n",
    "    def forward(self, input_ids, **kwargs):\n",
    "        hidden_states = self.model.embed_tokens(input_ids)\n",
    "        \n",
    "        for i, layer_module in enumerate(self.model.layers):\n",
    "            if i in self.pruned_layers:\n",
    "                continue\n",
    "            hidden_states = layer_module(hidden_states, **kwargs)[0]\n",
    "            \n",
    "        hidden_states = self.model.norm(hidden_states)\n",
    "        logits = self.lm_head(hidden_states)\n",
    "        \n",
    "        return logits\n",
    "\n",
    "# 모델 로드\n",
    "directory = \"../model/mistral_7b_v01__MistralAI\"\n",
    "tokenizer = AutoTokenizer.from_pretrained(directory)\n",
    "model = ConfidencePrunedModel.from_pretrained(directory, device_map=\"auto\")\n",
    "\n",
    "# PTB 데이터셋 사용\n",
    "dataset = load_dataset(\"ptb_text_only\", split=\"test[:15%]\", trust_remote_code=True)  # PTB 데이터셋의 테스트 split 사용\n",
    "max_length = model.config.max_position_embeddings\n",
    "stride = 32\n",
    "max_sample_length = 1024  # 설정 가능한 최대 샘플 길이\n",
    "\n",
    "# 데이터 전처리: 일정 크기가 넘는 샘플은 잘라서 처리\n",
    "texts = \"\\n\\n\".join(dataset[\"sentence\"])\n",
    "tokens = tokenizer(texts, return_tensors=\"pt\")\n",
    "input_ids = tokens.input_ids[0]\n",
    "\n",
    "# 최대 길이를 초과하는 텍스트 분할\n",
    "def split_long_text(input_ids, max_sample_length):\n",
    "    split_input_ids = []\n",
    "    for i in range(0, len(input_ids), max_sample_length):\n",
    "        split_input_ids.append(input_ids[i:i + max_sample_length])\n",
    "    return split_input_ids\n",
    "\n",
    "split_input_ids = split_long_text(input_ids, max_sample_length)\n",
    "\n",
    "def calculate_perplexity_and_latency(model, split_input_ids, max_sample_length, stride):\n",
    "    lls = []\n",
    "    total_steps = len(split_input_ids)\n",
    "    passed_samples = 0\n",
    "    total_samples = 0\n",
    "    total_length = 0\n",
    "    start_time = time.time()\n",
    "    \n",
    "    for i, chunk in enumerate(tqdm(split_input_ids, total=total_steps, desc=\"Processing\")):\n",
    "        total_samples += 1\n",
    "\n",
    "        if chunk.size(0) > max_sample_length:\n",
    "            passed_samples += 1\n",
    "            continue\n",
    "\n",
    "        for j in range(0, chunk.size(0), stride):\n",
    "            begin_loc = max(j + stride - max_length, 0)\n",
    "            end_loc = min(j + stride, chunk.size(0))\n",
    "            trg_len = end_loc - j\n",
    "            total_length += trg_len\n",
    "\n",
    "            input_ids_chunk = chunk[begin_loc:end_loc].unsqueeze(0).to('cuda')\n",
    "            target_ids = input_ids_chunk.clone()\n",
    "            target_ids[:, :-trg_len] = -100\n",
    "\n",
    "            with torch.no_grad():\n",
    "                outputs = model(input_ids_chunk)\n",
    "                shift_logits = outputs[:, :-1, :].contiguous()\n",
    "                shift_labels = target_ids[:, 1:].contiguous()\n",
    "                loss_fct = torch.nn.CrossEntropyLoss(ignore_index=-100)\n",
    "                loss = loss_fct(shift_logits.view(-1, shift_logits.size(-1)), shift_labels.view(-1))\n",
    "                log_likelihood = loss * trg_len\n",
    "\n",
    "            lls.append(log_likelihood.cpu())\n",
    "    \n",
    "    average_log_likelihood = torch.stack(lls).sum() / total_length\n",
    "    ppl = torch.exp(average_log_likelihood)\n",
    "    end_time = time.time()\n",
    "    latency = end_time - start_time\n",
    "    \n",
    "    return ppl.item(), latency\n",
    "\n",
    "results_cmp = []\n",
    "\n",
    "# 초기 confidence 계산\n",
    "input_ids_sample = split_input_ids[0][:32].unsqueeze(0).to('cuda')  # 첫 번째 문장의 일부 사용\n",
    "model.calculate_confidences(input_ids_sample)\n",
    "\n",
    "for num_pruned_layers in range(1, 6):  # 1에서 5까지\n",
    "    model.prune_layers_by_confidence(num_pruned_layers)\n",
    "    sparsity = num_pruned_layers / len(model.model.layers)\n",
    "    print(f\"Pruned {num_pruned_layers} layers (sparsity: {sparsity*100:.2f}%)\")\n",
    "    \n",
    "    ppl, latency = calculate_perplexity_and_latency(model, split_input_ids, max_sample_length, stride)\n",
    "    results_cmp.append((num_pruned_layers, sparsity, ppl, latency))\n",
    "    print(f\"Perplexity: {ppl}, Latency: {latency} seconds\")\n",
    "    \n",
    "    # Reset the model to unpruned state\n",
    "    model.pruned_layers = set()\n"
   ]
  },
  {
   "cell_type": "code",
   "execution_count": 3,
   "id": "dce8ed55-56e6-4b02-8718-f5857ebd10af",
   "metadata": {},
   "outputs": [
    {
     "name": "stdout",
     "output_type": "stream",
     "text": [
      "Sorted confidence differences and corresponding layer indices:\n",
      "Layer 25: Confidence Difference = -4.2708488763310015e-06\n",
      "Layer 14: Confidence Difference = -3.287095751147717e-07\n",
      "Layer 7: Confidence Difference = 5.687979864887893e-08\n",
      "Layer 4: Confidence Difference = 8.933056960813701e-08\n",
      "Layer 3: Confidence Difference = 1.1713927960954607e-07\n",
      "Layer 0: Confidence Difference = 1.3548560673370957e-07\n",
      "Layer 5: Confidence Difference = 1.922417141031474e-07\n",
      "Layer 6: Confidence Difference = 2.004926500376314e-07\n",
      "Layer 8: Confidence Difference = 2.3147003958001733e-07\n",
      "Layer 1: Confidence Difference = 2.621636667754501e-07\n",
      "Layer 2: Confidence Difference = 2.713968569878489e-07\n",
      "Layer 11: Confidence Difference = 2.903943823184818e-07\n",
      "Layer 9: Confidence Difference = 4.276262188795954e-07\n",
      "Layer 17: Confidence Difference = 4.490830178838223e-07\n",
      "Layer 10: Confidence Difference = 5.779256753157824e-07\n",
      "Layer 12: Confidence Difference = 7.688577170483768e-07\n",
      "Layer 13: Confidence Difference = 8.705937943886966e-07\n",
      "Layer 15: Confidence Difference = 1.4028155419509858e-06\n",
      "Layer 16: Confidence Difference = 1.8608916434459388e-06\n",
      "Layer 20: Confidence Difference = 3.147499228361994e-06\n",
      "Layer 19: Confidence Difference = 4.371042450657114e-06\n",
      "Layer 18: Confidence Difference = 4.527766577666625e-06\n",
      "Layer 21: Confidence Difference = 4.863974027102813e-06\n",
      "Layer 24: Confidence Difference = 6.030684744473547e-06\n",
      "Layer 27: Confidence Difference = 7.698487024754286e-06\n",
      "Layer 26: Confidence Difference = 9.966221114154905e-06\n",
      "Layer 22: Confidence Difference = 1.1255546269239858e-05\n",
      "Layer 29: Confidence Difference = 1.7020167433656752e-05\n",
      "Layer 23: Confidence Difference = 1.9072576833423227e-05\n",
      "Layer 28: Confidence Difference = 1.9939740013796836e-05\n",
      "Layer 30: Confidence Difference = 3.4485405194573104e-05\n",
      "Pruned layers: {25}\n",
      "Pruned 1 layers (sparsity: 3.12%)\n"
     ]
    },
    {
     "name": "stderr",
     "output_type": "stream",
     "text": [
      "Processing: 100%|██████████| 17/17 [07:53<00:00, 27.87s/it]\n"
     ]
    },
    {
     "name": "stdout",
     "output_type": "stream",
     "text": [
      "Perplexity: 5.936453819274902, Latency: 473.7537519931793 seconds\n",
      "Sorted confidence differences and corresponding layer indices:\n",
      "Layer 25: Confidence Difference = -4.2708488763310015e-06\n",
      "Layer 14: Confidence Difference = -3.287095751147717e-07\n",
      "Layer 7: Confidence Difference = 5.687979864887893e-08\n",
      "Layer 4: Confidence Difference = 8.933056960813701e-08\n",
      "Layer 3: Confidence Difference = 1.1713927960954607e-07\n",
      "Layer 0: Confidence Difference = 1.3548560673370957e-07\n",
      "Layer 5: Confidence Difference = 1.922417141031474e-07\n",
      "Layer 6: Confidence Difference = 2.004926500376314e-07\n",
      "Layer 8: Confidence Difference = 2.3147003958001733e-07\n",
      "Layer 1: Confidence Difference = 2.621636667754501e-07\n",
      "Layer 2: Confidence Difference = 2.713968569878489e-07\n",
      "Layer 11: Confidence Difference = 2.903943823184818e-07\n",
      "Layer 9: Confidence Difference = 4.276262188795954e-07\n",
      "Layer 17: Confidence Difference = 4.490830178838223e-07\n",
      "Layer 10: Confidence Difference = 5.779256753157824e-07\n",
      "Layer 12: Confidence Difference = 7.688577170483768e-07\n",
      "Layer 13: Confidence Difference = 8.705937943886966e-07\n",
      "Layer 15: Confidence Difference = 1.4028155419509858e-06\n",
      "Layer 16: Confidence Difference = 1.8608916434459388e-06\n",
      "Layer 20: Confidence Difference = 3.147499228361994e-06\n",
      "Layer 19: Confidence Difference = 4.371042450657114e-06\n",
      "Layer 18: Confidence Difference = 4.527766577666625e-06\n",
      "Layer 21: Confidence Difference = 4.863974027102813e-06\n",
      "Layer 24: Confidence Difference = 6.030684744473547e-06\n",
      "Layer 27: Confidence Difference = 7.698487024754286e-06\n",
      "Layer 26: Confidence Difference = 9.966221114154905e-06\n",
      "Layer 22: Confidence Difference = 1.1255546269239858e-05\n",
      "Layer 29: Confidence Difference = 1.7020167433656752e-05\n",
      "Layer 23: Confidence Difference = 1.9072576833423227e-05\n",
      "Layer 28: Confidence Difference = 1.9939740013796836e-05\n",
      "Layer 30: Confidence Difference = 3.4485405194573104e-05\n",
      "Pruned layers: {25, 14}\n",
      "Pruned 2 layers (sparsity: 6.25%)\n"
     ]
    },
    {
     "name": "stderr",
     "output_type": "stream",
     "text": [
      "Processing: 100%|██████████| 17/17 [07:44<00:00, 27.30s/it]\n"
     ]
    },
    {
     "name": "stdout",
     "output_type": "stream",
     "text": [
      "Perplexity: 6.30670166015625, Latency: 464.18192887306213 seconds\n",
      "Sorted confidence differences and corresponding layer indices:\n",
      "Layer 25: Confidence Difference = -4.2708488763310015e-06\n",
      "Layer 14: Confidence Difference = -3.287095751147717e-07\n",
      "Layer 7: Confidence Difference = 5.687979864887893e-08\n",
      "Layer 4: Confidence Difference = 8.933056960813701e-08\n",
      "Layer 3: Confidence Difference = 1.1713927960954607e-07\n",
      "Layer 0: Confidence Difference = 1.3548560673370957e-07\n",
      "Layer 5: Confidence Difference = 1.922417141031474e-07\n",
      "Layer 6: Confidence Difference = 2.004926500376314e-07\n",
      "Layer 8: Confidence Difference = 2.3147003958001733e-07\n",
      "Layer 1: Confidence Difference = 2.621636667754501e-07\n",
      "Layer 2: Confidence Difference = 2.713968569878489e-07\n",
      "Layer 11: Confidence Difference = 2.903943823184818e-07\n",
      "Layer 9: Confidence Difference = 4.276262188795954e-07\n",
      "Layer 17: Confidence Difference = 4.490830178838223e-07\n",
      "Layer 10: Confidence Difference = 5.779256753157824e-07\n",
      "Layer 12: Confidence Difference = 7.688577170483768e-07\n",
      "Layer 13: Confidence Difference = 8.705937943886966e-07\n",
      "Layer 15: Confidence Difference = 1.4028155419509858e-06\n",
      "Layer 16: Confidence Difference = 1.8608916434459388e-06\n",
      "Layer 20: Confidence Difference = 3.147499228361994e-06\n",
      "Layer 19: Confidence Difference = 4.371042450657114e-06\n",
      "Layer 18: Confidence Difference = 4.527766577666625e-06\n",
      "Layer 21: Confidence Difference = 4.863974027102813e-06\n",
      "Layer 24: Confidence Difference = 6.030684744473547e-06\n",
      "Layer 27: Confidence Difference = 7.698487024754286e-06\n",
      "Layer 26: Confidence Difference = 9.966221114154905e-06\n",
      "Layer 22: Confidence Difference = 1.1255546269239858e-05\n",
      "Layer 29: Confidence Difference = 1.7020167433656752e-05\n",
      "Layer 23: Confidence Difference = 1.9072576833423227e-05\n",
      "Layer 28: Confidence Difference = 1.9939740013796836e-05\n",
      "Layer 30: Confidence Difference = 3.4485405194573104e-05\n",
      "Pruned layers: {25, 14, 7}\n",
      "Pruned 3 layers (sparsity: 9.38%)\n"
     ]
    },
    {
     "name": "stderr",
     "output_type": "stream",
     "text": [
      "Processing: 100%|██████████| 17/17 [07:30<00:00, 26.50s/it]\n"
     ]
    },
    {
     "name": "stdout",
     "output_type": "stream",
     "text": [
      "Perplexity: 6.8461594581604, Latency: 450.43216490745544 seconds\n",
      "Sorted confidence differences and corresponding layer indices:\n",
      "Layer 25: Confidence Difference = -4.2708488763310015e-06\n",
      "Layer 14: Confidence Difference = -3.287095751147717e-07\n",
      "Layer 7: Confidence Difference = 5.687979864887893e-08\n",
      "Layer 4: Confidence Difference = 8.933056960813701e-08\n",
      "Layer 3: Confidence Difference = 1.1713927960954607e-07\n",
      "Layer 0: Confidence Difference = 1.3548560673370957e-07\n",
      "Layer 5: Confidence Difference = 1.922417141031474e-07\n",
      "Layer 6: Confidence Difference = 2.004926500376314e-07\n",
      "Layer 8: Confidence Difference = 2.3147003958001733e-07\n",
      "Layer 1: Confidence Difference = 2.621636667754501e-07\n",
      "Layer 2: Confidence Difference = 2.713968569878489e-07\n",
      "Layer 11: Confidence Difference = 2.903943823184818e-07\n",
      "Layer 9: Confidence Difference = 4.276262188795954e-07\n",
      "Layer 17: Confidence Difference = 4.490830178838223e-07\n",
      "Layer 10: Confidence Difference = 5.779256753157824e-07\n",
      "Layer 12: Confidence Difference = 7.688577170483768e-07\n",
      "Layer 13: Confidence Difference = 8.705937943886966e-07\n",
      "Layer 15: Confidence Difference = 1.4028155419509858e-06\n",
      "Layer 16: Confidence Difference = 1.8608916434459388e-06\n",
      "Layer 20: Confidence Difference = 3.147499228361994e-06\n",
      "Layer 19: Confidence Difference = 4.371042450657114e-06\n",
      "Layer 18: Confidence Difference = 4.527766577666625e-06\n",
      "Layer 21: Confidence Difference = 4.863974027102813e-06\n",
      "Layer 24: Confidence Difference = 6.030684744473547e-06\n",
      "Layer 27: Confidence Difference = 7.698487024754286e-06\n",
      "Layer 26: Confidence Difference = 9.966221114154905e-06\n",
      "Layer 22: Confidence Difference = 1.1255546269239858e-05\n",
      "Layer 29: Confidence Difference = 1.7020167433656752e-05\n",
      "Layer 23: Confidence Difference = 1.9072576833423227e-05\n",
      "Layer 28: Confidence Difference = 1.9939740013796836e-05\n",
      "Layer 30: Confidence Difference = 3.4485405194573104e-05\n",
      "Pruned layers: {25, 4, 14, 7}\n",
      "Pruned 4 layers (sparsity: 12.50%)\n"
     ]
    },
    {
     "name": "stderr",
     "output_type": "stream",
     "text": [
      "Processing: 100%|██████████| 17/17 [07:16<00:00, 25.67s/it]\n"
     ]
    },
    {
     "name": "stdout",
     "output_type": "stream",
     "text": [
      "Perplexity: 8.195504188537598, Latency: 436.3672342300415 seconds\n",
      "Sorted confidence differences and corresponding layer indices:\n",
      "Layer 25: Confidence Difference = -4.2708488763310015e-06\n",
      "Layer 14: Confidence Difference = -3.287095751147717e-07\n",
      "Layer 7: Confidence Difference = 5.687979864887893e-08\n",
      "Layer 4: Confidence Difference = 8.933056960813701e-08\n",
      "Layer 3: Confidence Difference = 1.1713927960954607e-07\n",
      "Layer 0: Confidence Difference = 1.3548560673370957e-07\n",
      "Layer 5: Confidence Difference = 1.922417141031474e-07\n",
      "Layer 6: Confidence Difference = 2.004926500376314e-07\n",
      "Layer 8: Confidence Difference = 2.3147003958001733e-07\n",
      "Layer 1: Confidence Difference = 2.621636667754501e-07\n",
      "Layer 2: Confidence Difference = 2.713968569878489e-07\n",
      "Layer 11: Confidence Difference = 2.903943823184818e-07\n",
      "Layer 9: Confidence Difference = 4.276262188795954e-07\n",
      "Layer 17: Confidence Difference = 4.490830178838223e-07\n",
      "Layer 10: Confidence Difference = 5.779256753157824e-07\n",
      "Layer 12: Confidence Difference = 7.688577170483768e-07\n",
      "Layer 13: Confidence Difference = 8.705937943886966e-07\n",
      "Layer 15: Confidence Difference = 1.4028155419509858e-06\n",
      "Layer 16: Confidence Difference = 1.8608916434459388e-06\n",
      "Layer 20: Confidence Difference = 3.147499228361994e-06\n",
      "Layer 19: Confidence Difference = 4.371042450657114e-06\n",
      "Layer 18: Confidence Difference = 4.527766577666625e-06\n",
      "Layer 21: Confidence Difference = 4.863974027102813e-06\n",
      "Layer 24: Confidence Difference = 6.030684744473547e-06\n",
      "Layer 27: Confidence Difference = 7.698487024754286e-06\n",
      "Layer 26: Confidence Difference = 9.966221114154905e-06\n",
      "Layer 22: Confidence Difference = 1.1255546269239858e-05\n",
      "Layer 29: Confidence Difference = 1.7020167433656752e-05\n",
      "Layer 23: Confidence Difference = 1.9072576833423227e-05\n",
      "Layer 28: Confidence Difference = 1.9939740013796836e-05\n",
      "Layer 30: Confidence Difference = 3.4485405194573104e-05\n",
      "Pruned layers: {3, 4, 7, 14, 25}\n",
      "Pruned 5 layers (sparsity: 15.62%)\n"
     ]
    },
    {
     "name": "stderr",
     "output_type": "stream",
     "text": [
      "Processing: 100%|██████████| 17/17 [07:02<00:00, 24.83s/it]"
     ]
    },
    {
     "name": "stdout",
     "output_type": "stream",
     "text": [
      "Perplexity: 12.885787010192871, Latency: 422.13383173942566 seconds\n"
     ]
    },
    {
     "name": "stderr",
     "output_type": "stream",
     "text": [
      "\n"
     ]
    }
   ],
   "source": [
    "dataset = load_dataset(\"wikitext\", \"wikitext-2-raw-v1\", split=\"test[:5%]\")  # 데이터셋의 5%만 사용\n",
    "max_length = model.config.max_position_embeddings\n",
    "stride = 32\n",
    "max_sample_length = 1024  # 설정 가능한 최대 샘플 길이\n",
    "\n",
    "# 데이터 전처리: 일정 크기가 넘는 샘플은 잘라서 처리\n",
    "texts = \"\\n\\n\".join(dataset[\"text\"])\n",
    "tokens = tokenizer(texts, return_tensors=\"pt\")\n",
    "input_ids = tokens.input_ids[0]\n",
    "\n",
    "split_input_ids = split_long_text(input_ids, max_sample_length)\n",
    "\n",
    "results_cmw = []\n",
    "\n",
    "# 초기 엔트로피 계산\n",
    "input_ids_sample = split_input_ids[0][:32].unsqueeze(0).to('cuda')  # 첫 번째 문장의 일부 사용\n",
    "model.calculate_confidences(input_ids_sample)\n",
    "\n",
    "for num_pruned_layers in range(1, 6):  # 1에서 5까지\n",
    "    model.prune_layers_by_confidence(num_pruned_layers)\n",
    "    sparsity = num_pruned_layers / len(model.model.layers)\n",
    "    print(f\"Pruned {num_pruned_layers} layers (sparsity: {sparsity*100:.2f}%)\")\n",
    "    \n",
    "    ppl, latency = calculate_perplexity_and_latency(model, split_input_ids, max_sample_length, stride)\n",
    "    results_cmw.append((num_pruned_layers, sparsity, ppl, latency))\n",
    "    print(f\"Perplexity: {ppl}, Latency: {latency} seconds\")\n",
    "    \n",
    "    # Reset the model to unpruned state\n",
    "    model.pruned_layers = set()"
   ]
  },
  {
   "cell_type": "code",
   "execution_count": 4,
   "id": "abb1d450-c24e-4664-8280-8ae34739feb6",
   "metadata": {},
   "outputs": [
    {
     "data": {
      "text/plain": [
       "[(1, 0.03125, 27.487770080566406, 463.1498849391937),\n",
       " (2, 0.0625, 29.539669036865234, 449.6867744922638),\n",
       " (3, 0.09375, 260.2650146484375, 436.2645494937897),\n",
       " (4, 0.125, 234.7811737060547, 422.54423356056213),\n",
       " (5, 0.15625, 6770.55419921875, 408.1932923793793)]"
      ]
     },
     "execution_count": 4,
     "metadata": {},
     "output_type": "execute_result"
    }
   ],
   "source": [
    "results_cmp"
   ]
  },
  {
   "cell_type": "code",
   "execution_count": 5,
   "id": "23660f66-f7cb-473f-aa86-70c63d9361d5",
   "metadata": {},
   "outputs": [
    {
     "data": {
      "text/plain": [
       "[(1, 0.03125, 5.936453819274902, 473.7537519931793),\n",
       " (2, 0.0625, 6.30670166015625, 464.18192887306213),\n",
       " (3, 0.09375, 6.8461594581604, 450.43216490745544),\n",
       " (4, 0.125, 8.195504188537598, 436.3672342300415),\n",
       " (5, 0.15625, 12.885787010192871, 422.13383173942566)]"
      ]
     },
     "execution_count": 5,
     "metadata": {},
     "output_type": "execute_result"
    }
   ],
   "source": [
    "results_cmw"
   ]
  },
  {
   "cell_type": "code",
   "execution_count": 7,
   "id": "5653e8dd-8368-4735-8835-7ce6dd03090c",
   "metadata": {},
   "outputs": [
    {
     "data": {
      "image/png": "[encoded data removed]",
      "text/plain": [
       "<Figure size 700x400 with 2 Axes>"
      ]
     },
     "metadata": {},
     "output_type": "display_data"
    }
   ],
   "source": [
    "# PTB 데이터셋 결과\n",
    "num_pruned_layers_ptb = [r[0] for r in results_cmp]\n",
    "sparsities_ptb = [r[1] for r in results_cmp]\n",
    "ppls_ptb = [r[2] for r in results_cmp]\n",
    "latencies_ptb = [r[3] for r in results_cmp]\n",
    "\n",
    "# Wikitext2 데이터셋 결과\n",
    "num_pruned_layers_wikitext = [r[0] for r in results_cmw]\n",
    "sparsities_wikitext = [r[1] for r in results_cmw]\n",
    "ppls_wikitext = [r[2] for r in results_cmw]\n",
    "latencies_wikitext = [r[3] for r in results_cmw]\n",
    "\n",
    "plt.figure(figsize=(7, 4))\n",
    "\n",
    "plt.subplot(1, 2, 1)\n",
    "plt.plot(num_pruned_layers_wikitext, ppls_wikitext, marker='o', label=\"Wikitext2\", color='orange')\n",
    "plt.plot(num_pruned_layers_ptb, ppls_ptb, marker='o', label=\"PTB\", color='b')\n",
    "plt.xlabel(\"Number of Pruned Layers\")\n",
    "plt.ylabel(\"PTB Perplexity\")\n",
    "plt.ylim(0, 300)\n",
    "plt.title(\"Perplexity vs. # of Pruned Layers\")\n",
    "plt.legend()\n",
    "\n",
    "# Latency\n",
    "plt.subplot(1, 2, 2)\n",
    "plt.plot(num_pruned_layers_ptb, latencies_ptb, marker='o', label=\"PTB\", color='b')\n",
    "plt.plot(num_pruned_layers_wikitext, latencies_wikitext, marker='o', label=\"Wikitext2\", color='orange')\n",
    "plt.xlabel(\"Number of Pruned Layers\")\n",
    "plt.ylabel(\"Latency (seconds)\")\n",
    "plt.title(\"Latency vs. # of Pruned Layers\")\n",
    "plt.legend()\n",
    "\n",
    "plt.tight_layout()\n",
    "plt.show()\n"
   ]
  },
  {
   "cell_type": "markdown",
   "id": "3bf6af02-59e2-40ca-867e-8a714ca69e17",
   "metadata": {},
   "source": [
    "## Llama-2"
   ]
  },
  {
   "cell_type": "code",
   "execution_count": 1,
   "id": "e723a7c6-4f8e-4439-975f-e90f5bf438b3",
   "metadata": {},
   "outputs": [
    {
     "name": "stderr",
     "output_type": "stream",
     "text": [
      "You are using a model of type llama to instantiate a model of type mistral. This is not supported for all configurations of models and can yield errors.\n"
     ]
    },
    {
     "data": {
      "application/vnd.jupyter.widget-view+json": {
       "model_id": "c6a6d55b90074b98bcd6480e19fdac4b",
       "version_major": 2,
       "version_minor": 0
      },
      "text/plain": [
       "Loading checkpoint shards:   0%|          | 0/6 [00:00<?, ?it/s]"
      ]
     },
     "metadata": {},
     "output_type": "display_data"
    },
    {
     "name": "stdout",
     "output_type": "stream",
     "text": [
      "Sorted confidence differences and corresponding layer indices:\n",
      "Layer 30: Confidence Difference = -0.0009275674819946289\n",
      "Layer 20: Confidence Difference = -0.0004476672038435936\n",
      "Layer 13: Confidence Difference = -9.885930921882391e-06\n",
      "Layer 3: Confidence Difference = -4.374269337859005e-07\n",
      "Layer 0: Confidence Difference = 6.846421456430107e-07\n",
      "Layer 7: Confidence Difference = 1.400680048391223e-06\n",
      "Layer 1: Confidence Difference = 3.3649666875135154e-06\n",
      "Layer 6: Confidence Difference = 3.833927621599287e-06\n",
      "Layer 9: Confidence Difference = 5.130255885887891e-06\n",
      "Layer 2: Confidence Difference = 5.819027137476951e-06\n",
      "Layer 5: Confidence Difference = 7.3775700002443045e-06\n",
      "Layer 4: Confidence Difference = 8.693943527759984e-06\n",
      "Layer 8: Confidence Difference = 1.546991552459076e-05\n",
      "Layer 10: Confidence Difference = 1.909127604449168e-05\n",
      "Layer 11: Confidence Difference = 2.703563222894445e-05\n",
      "Layer 12: Confidence Difference = 3.969950194004923e-05\n",
      "Layer 14: Confidence Difference = 4.822704067919403e-05\n",
      "Layer 15: Confidence Difference = 7.128082506824285e-05\n",
      "Layer 16: Confidence Difference = 7.58738606236875e-05\n",
      "Layer 17: Confidence Difference = 0.00018840027041733265\n",
      "Layer 18: Confidence Difference = 0.00105989386793226\n",
      "Layer 19: Confidence Difference = 0.003169229021295905\n",
      "Layer 24: Confidence Difference = 0.0038274768739938736\n",
      "Layer 22: Confidence Difference = 0.004069904796779156\n",
      "Layer 21: Confidence Difference = 0.005669952370226383\n",
      "Layer 23: Confidence Difference = 0.008612489327788353\n",
      "Layer 25: Confidence Difference = 0.028564948588609695\n",
      "Layer 29: Confidence Difference = 0.035072267055511475\n",
      "Layer 26: Confidence Difference = 0.11606093868613243\n",
      "Layer 28: Confidence Difference = 0.31966960430145264\n",
      "Layer 27: Confidence Difference = 0.4721294492483139\n",
      "Pruned layers: {30}\n",
      "Pruned 1 layers (sparsity: 3.12%)\n"
     ]
    },
    {
     "name": "stderr",
     "output_type": "stream",
     "text": [
      "Processing: 100%|██████████| 17/17 [07:34<00:00, 26.72s/it]\n"
     ]
    },
    {
     "name": "stdout",
     "output_type": "stream",
     "text": [
      "Perplexity: 21.972270965576172, Latency: 454.26698565483093 seconds\n",
      "Sorted confidence differences and corresponding layer indices:\n",
      "Layer 30: Confidence Difference = -0.0009275674819946289\n",
      "Layer 20: Confidence Difference = -0.0004476672038435936\n",
      "Layer 13: Confidence Difference = -9.885930921882391e-06\n",
      "Layer 3: Confidence Difference = -4.374269337859005e-07\n",
      "Layer 0: Confidence Difference = 6.846421456430107e-07\n",
      "Layer 7: Confidence Difference = 1.400680048391223e-06\n",
      "Layer 1: Confidence Difference = 3.3649666875135154e-06\n",
      "Layer 6: Confidence Difference = 3.833927621599287e-06\n",
      "Layer 9: Confidence Difference = 5.130255885887891e-06\n",
      "Layer 2: Confidence Difference = 5.819027137476951e-06\n",
      "Layer 5: Confidence Difference = 7.3775700002443045e-06\n",
      "Layer 4: Confidence Difference = 8.693943527759984e-06\n",
      "Layer 8: Confidence Difference = 1.546991552459076e-05\n",
      "Layer 10: Confidence Difference = 1.909127604449168e-05\n",
      "Layer 11: Confidence Difference = 2.703563222894445e-05\n",
      "Layer 12: Confidence Difference = 3.969950194004923e-05\n",
      "Layer 14: Confidence Difference = 4.822704067919403e-05\n",
      "Layer 15: Confidence Difference = 7.128082506824285e-05\n",
      "Layer 16: Confidence Difference = 7.58738606236875e-05\n",
      "Layer 17: Confidence Difference = 0.00018840027041733265\n",
      "Layer 18: Confidence Difference = 0.00105989386793226\n",
      "Layer 19: Confidence Difference = 0.003169229021295905\n",
      "Layer 24: Confidence Difference = 0.0038274768739938736\n",
      "Layer 22: Confidence Difference = 0.004069904796779156\n",
      "Layer 21: Confidence Difference = 0.005669952370226383\n",
      "Layer 23: Confidence Difference = 0.008612489327788353\n",
      "Layer 25: Confidence Difference = 0.028564948588609695\n",
      "Layer 29: Confidence Difference = 0.035072267055511475\n",
      "Layer 26: Confidence Difference = 0.11606093868613243\n",
      "Layer 28: Confidence Difference = 0.31966960430145264\n",
      "Layer 27: Confidence Difference = 0.4721294492483139\n",
      "Pruned layers: {20, 30}\n",
      "Pruned 2 layers (sparsity: 6.25%)\n"
     ]
    },
    {
     "name": "stderr",
     "output_type": "stream",
     "text": [
      "Processing: 100%|██████████| 17/17 [07:23<00:00, 26.10s/it]\n"
     ]
    },
    {
     "name": "stdout",
     "output_type": "stream",
     "text": [
      "Perplexity: 23.231170654296875, Latency: 443.6237030029297 seconds\n",
      "Sorted confidence differences and corresponding layer indices:\n",
      "Layer 30: Confidence Difference = -0.0009275674819946289\n",
      "Layer 20: Confidence Difference = -0.0004476672038435936\n",
      "Layer 13: Confidence Difference = -9.885930921882391e-06\n",
      "Layer 3: Confidence Difference = -4.374269337859005e-07\n",
      "Layer 0: Confidence Difference = 6.846421456430107e-07\n",
      "Layer 7: Confidence Difference = 1.400680048391223e-06\n",
      "Layer 1: Confidence Difference = 3.3649666875135154e-06\n",
      "Layer 6: Confidence Difference = 3.833927621599287e-06\n",
      "Layer 9: Confidence Difference = 5.130255885887891e-06\n",
      "Layer 2: Confidence Difference = 5.819027137476951e-06\n",
      "Layer 5: Confidence Difference = 7.3775700002443045e-06\n",
      "Layer 4: Confidence Difference = 8.693943527759984e-06\n",
      "Layer 8: Confidence Difference = 1.546991552459076e-05\n",
      "Layer 10: Confidence Difference = 1.909127604449168e-05\n",
      "Layer 11: Confidence Difference = 2.703563222894445e-05\n",
      "Layer 12: Confidence Difference = 3.969950194004923e-05\n",
      "Layer 14: Confidence Difference = 4.822704067919403e-05\n",
      "Layer 15: Confidence Difference = 7.128082506824285e-05\n",
      "Layer 16: Confidence Difference = 7.58738606236875e-05\n",
      "Layer 17: Confidence Difference = 0.00018840027041733265\n",
      "Layer 18: Confidence Difference = 0.00105989386793226\n",
      "Layer 19: Confidence Difference = 0.003169229021295905\n",
      "Layer 24: Confidence Difference = 0.0038274768739938736\n",
      "Layer 22: Confidence Difference = 0.004069904796779156\n",
      "Layer 21: Confidence Difference = 0.005669952370226383\n",
      "Layer 23: Confidence Difference = 0.008612489327788353\n",
      "Layer 25: Confidence Difference = 0.028564948588609695\n",
      "Layer 29: Confidence Difference = 0.035072267055511475\n",
      "Layer 26: Confidence Difference = 0.11606093868613243\n",
      "Layer 28: Confidence Difference = 0.31966960430145264\n",
      "Layer 27: Confidence Difference = 0.4721294492483139\n",
      "Pruned layers: {20, 13, 30}\n",
      "Pruned 3 layers (sparsity: 9.38%)\n"
     ]
    },
    {
     "name": "stderr",
     "output_type": "stream",
     "text": [
      "Processing: 100%|██████████| 17/17 [07:10<00:00, 25.33s/it]\n"
     ]
    },
    {
     "name": "stdout",
     "output_type": "stream",
     "text": [
      "Perplexity: 25.440210342407227, Latency: 430.69585371017456 seconds\n",
      "Sorted confidence differences and corresponding layer indices:\n",
      "Layer 30: Confidence Difference = -0.0009275674819946289\n",
      "Layer 20: Confidence Difference = -0.0004476672038435936\n",
      "Layer 13: Confidence Difference = -9.885930921882391e-06\n",
      "Layer 3: Confidence Difference = -4.374269337859005e-07\n",
      "Layer 0: Confidence Difference = 6.846421456430107e-07\n",
      "Layer 7: Confidence Difference = 1.400680048391223e-06\n",
      "Layer 1: Confidence Difference = 3.3649666875135154e-06\n",
      "Layer 6: Confidence Difference = 3.833927621599287e-06\n",
      "Layer 9: Confidence Difference = 5.130255885887891e-06\n",
      "Layer 2: Confidence Difference = 5.819027137476951e-06\n",
      "Layer 5: Confidence Difference = 7.3775700002443045e-06\n",
      "Layer 4: Confidence Difference = 8.693943527759984e-06\n",
      "Layer 8: Confidence Difference = 1.546991552459076e-05\n",
      "Layer 10: Confidence Difference = 1.909127604449168e-05\n",
      "Layer 11: Confidence Difference = 2.703563222894445e-05\n",
      "Layer 12: Confidence Difference = 3.969950194004923e-05\n",
      "Layer 14: Confidence Difference = 4.822704067919403e-05\n",
      "Layer 15: Confidence Difference = 7.128082506824285e-05\n",
      "Layer 16: Confidence Difference = 7.58738606236875e-05\n",
      "Layer 17: Confidence Difference = 0.00018840027041733265\n",
      "Layer 18: Confidence Difference = 0.00105989386793226\n",
      "Layer 19: Confidence Difference = 0.003169229021295905\n",
      "Layer 24: Confidence Difference = 0.0038274768739938736\n",
      "Layer 22: Confidence Difference = 0.004069904796779156\n",
      "Layer 21: Confidence Difference = 0.005669952370226383\n",
      "Layer 23: Confidence Difference = 0.008612489327788353\n",
      "Layer 25: Confidence Difference = 0.028564948588609695\n",
      "Layer 29: Confidence Difference = 0.035072267055511475\n",
      "Layer 26: Confidence Difference = 0.11606093868613243\n",
      "Layer 28: Confidence Difference = 0.31966960430145264\n",
      "Layer 27: Confidence Difference = 0.4721294492483139\n",
      "Pruned layers: {3, 20, 13, 30}\n",
      "Pruned 4 layers (sparsity: 12.50%)\n"
     ]
    },
    {
     "name": "stderr",
     "output_type": "stream",
     "text": [
      "Processing: 100%|██████████| 17/17 [06:57<00:00, 24.54s/it]\n"
     ]
    },
    {
     "name": "stdout",
     "output_type": "stream",
     "text": [
      "Perplexity: 36.3902702331543, Latency: 417.228351354599 seconds\n",
      "Sorted confidence differences and corresponding layer indices:\n",
      "Layer 30: Confidence Difference = -0.0009275674819946289\n",
      "Layer 20: Confidence Difference = -0.0004476672038435936\n",
      "Layer 13: Confidence Difference = -9.885930921882391e-06\n",
      "Layer 3: Confidence Difference = -4.374269337859005e-07\n",
      "Layer 0: Confidence Difference = 6.846421456430107e-07\n",
      "Layer 7: Confidence Difference = 1.400680048391223e-06\n",
      "Layer 1: Confidence Difference = 3.3649666875135154e-06\n",
      "Layer 6: Confidence Difference = 3.833927621599287e-06\n",
      "Layer 9: Confidence Difference = 5.130255885887891e-06\n",
      "Layer 2: Confidence Difference = 5.819027137476951e-06\n",
      "Layer 5: Confidence Difference = 7.3775700002443045e-06\n",
      "Layer 4: Confidence Difference = 8.693943527759984e-06\n",
      "Layer 8: Confidence Difference = 1.546991552459076e-05\n",
      "Layer 10: Confidence Difference = 1.909127604449168e-05\n",
      "Layer 11: Confidence Difference = 2.703563222894445e-05\n",
      "Layer 12: Confidence Difference = 3.969950194004923e-05\n",
      "Layer 14: Confidence Difference = 4.822704067919403e-05\n",
      "Layer 15: Confidence Difference = 7.128082506824285e-05\n",
      "Layer 16: Confidence Difference = 7.58738606236875e-05\n",
      "Layer 17: Confidence Difference = 0.00018840027041733265\n",
      "Layer 18: Confidence Difference = 0.00105989386793226\n",
      "Layer 19: Confidence Difference = 0.003169229021295905\n",
      "Layer 24: Confidence Difference = 0.0038274768739938736\n",
      "Layer 22: Confidence Difference = 0.004069904796779156\n",
      "Layer 21: Confidence Difference = 0.005669952370226383\n",
      "Layer 23: Confidence Difference = 0.008612489327788353\n",
      "Layer 25: Confidence Difference = 0.028564948588609695\n",
      "Layer 29: Confidence Difference = 0.035072267055511475\n",
      "Layer 26: Confidence Difference = 0.11606093868613243\n",
      "Layer 28: Confidence Difference = 0.31966960430145264\n",
      "Layer 27: Confidence Difference = 0.4721294492483139\n",
      "Pruned layers: {0, 3, 13, 20, 30}\n",
      "Pruned 5 layers (sparsity: 15.62%)\n"
     ]
    },
    {
     "name": "stderr",
     "output_type": "stream",
     "text": [
      "Processing: 100%|██████████| 17/17 [06:43<00:00, 23.72s/it]"
     ]
    },
    {
     "name": "stdout",
     "output_type": "stream",
     "text": [
      "Perplexity: 24279.306640625, Latency: 403.2637720108032 seconds\n"
     ]
    },
    {
     "name": "stderr",
     "output_type": "stream",
     "text": [
      "\n"
     ]
    }
   ],
   "source": [
    "import torch\n",
    "import random\n",
    "import torch.nn.functional as F\n",
    "from transformers import AutoModelForCausalLM, MistralForCausalLM, AutoTokenizer\n",
    "from datasets import load_dataset\n",
    "import time\n",
    "from tqdm import tqdm\n",
    "import matplotlib.pyplot as plt\n",
    "import numpy as np\n",
    "\n",
    "class ConfidencePrunedModel(MistralForCausalLM):\n",
    "    def __init__(self, config):\n",
    "        super().__init__(config)\n",
    "        self.pruned_layers = set()\n",
    "        self.confidences = []\n",
    "\n",
    "    def calculate_confidences(self, input_ids):\n",
    "        self.confidences = []\n",
    "        hidden_states = self.model.embed_tokens(input_ids)\n",
    "        \n",
    "        with torch.no_grad():\n",
    "            for layer_module in self.model.layers:\n",
    "                hidden_states = layer_module(hidden_states)[0]\n",
    "                logits = self.lm_head(hidden_states[:, -1, :])\n",
    "                probs = F.softmax(logits, dim=-1)\n",
    "                top_confidence, _ = torch.max(probs, dim=-1)\n",
    "                confidence = top_confidence.mean().item()\n",
    "                self.confidences.append(confidence)\n",
    "\n",
    "    def prune_layers_by_confidence(self, num_layers_to_prune):\n",
    "        if not self.confidences:\n",
    "            raise ValueError(\"Confidences not calculated. Please run confidence calculation before pruning.\")\n",
    "        \n",
    "        # Calculate confidence differences\n",
    "        confidence_diffs = [self.confidences[i] - self.confidences[i - 1] for i in range(1, len(self.confidences))]\n",
    "        \n",
    "        # Display sorted confidence differences and corresponding layers\n",
    "        sorted_indices = np.argsort(confidence_diffs)  # asc\n",
    "        \n",
    "        print(\"Sorted confidence differences and corresponding layer indices:\")\n",
    "        for idx in sorted_indices:\n",
    "            print(f\"Layer {idx}: Confidence Difference = {confidence_diffs[idx]}\")\n",
    "        \n",
    "        # Select layers with smallest confidence difference\n",
    "        layers_to_prune = sorted_indices[:num_layers_to_prune]\n",
    "        self.pruned_layers = set(layers_to_prune)\n",
    "        \n",
    "        # Display pruned layers\n",
    "        print(f\"Pruned layers: {self.pruned_layers}\")\n",
    "\n",
    "    def forward(self, input_ids, **kwargs):\n",
    "        hidden_states = self.model.embed_tokens(input_ids)\n",
    "        \n",
    "        for i, layer_module in enumerate(self.model.layers):\n",
    "            if i in self.pruned_layers:\n",
    "                continue\n",
    "            hidden_states = layer_module(hidden_states, **kwargs)[0]\n",
    "            \n",
    "        hidden_states = self.model.norm(hidden_states)\n",
    "        logits = self.lm_head(hidden_states)\n",
    "        \n",
    "        return logits\n",
    "\n",
    "# 모델 로드\n",
    "directory = \"../model/llama_2_7b_hf__meta_llama\"\n",
    "tokenizer = AutoTokenizer.from_pretrained(directory)\n",
    "model = ConfidencePrunedModel.from_pretrained(directory, device_map=\"auto\")\n",
    "\n",
    "# PTB 데이터셋 사용\n",
    "dataset = load_dataset(\"ptb_text_only\", split=\"test[:15%]\", trust_remote_code=True)  # PTB 데이터셋의 테스트 split 사용\n",
    "max_length = model.config.max_position_embeddings\n",
    "stride = 32\n",
    "max_sample_length = 1024  # 설정 가능한 최대 샘플 길이\n",
    "\n",
    "# 데이터 전처리: 일정 크기가 넘는 샘플은 잘라서 처리\n",
    "texts = \"\\n\\n\".join(dataset[\"sentence\"])\n",
    "tokens = tokenizer(texts, return_tensors=\"pt\")\n",
    "input_ids = tokens.input_ids[0]\n",
    "\n",
    "# 최대 길이를 초과하는 텍스트 분할\n",
    "def split_long_text(input_ids, max_sample_length):\n",
    "    split_input_ids = []\n",
    "    for i in range(0, len(input_ids), max_sample_length):\n",
    "        split_input_ids.append(input_ids[i:i + max_sample_length])\n",
    "    return split_input_ids\n",
    "\n",
    "split_input_ids = split_long_text(input_ids, max_sample_length)\n",
    "\n",
    "def calculate_perplexity_and_latency(model, split_input_ids, max_sample_length, stride):\n",
    "    lls = []\n",
    "    total_steps = len(split_input_ids)\n",
    "    passed_samples = 0\n",
    "    total_samples = 0\n",
    "    total_length = 0\n",
    "    start_time = time.time()\n",
    "    \n",
    "    for i, chunk in enumerate(tqdm(split_input_ids, total=total_steps, desc=\"Processing\")):\n",
    "        total_samples += 1\n",
    "\n",
    "        if chunk.size(0) > max_sample_length:\n",
    "            passed_samples += 1\n",
    "            continue\n",
    "\n",
    "        for j in range(0, chunk.size(0), stride):\n",
    "            begin_loc = max(j + stride - max_length, 0)\n",
    "            end_loc = min(j + stride, chunk.size(0))\n",
    "            trg_len = end_loc - j\n",
    "            total_length += trg_len\n",
    "\n",
    "            input_ids_chunk = chunk[begin_loc:end_loc].unsqueeze(0).to('cuda')\n",
    "            target_ids = input_ids_chunk.clone()\n",
    "            target_ids[:, :-trg_len] = -100\n",
    "\n",
    "            with torch.no_grad():\n",
    "                outputs = model(input_ids_chunk)\n",
    "                shift_logits = outputs[:, :-1, :].contiguous()\n",
    "                shift_labels = target_ids[:, 1:].contiguous()\n",
    "                loss_fct = torch.nn.CrossEntropyLoss(ignore_index=-100)\n",
    "                loss = loss_fct(shift_logits.view(-1, shift_logits.size(-1)), shift_labels.view(-1))\n",
    "                log_likelihood = loss * trg_len\n",
    "\n",
    "            lls.append(log_likelihood.cpu())\n",
    "    \n",
    "    average_log_likelihood = torch.stack(lls).sum() / total_length\n",
    "    ppl = torch.exp(average_log_likelihood)\n",
    "    end_time = time.time()\n",
    "    latency = end_time - start_time\n",
    "    \n",
    "    return ppl.item(), latency\n",
    "\n",
    "results_clp = []\n",
    "\n",
    "# 초기 confidence 계산\n",
    "input_ids_sample = split_input_ids[0][:32].unsqueeze(0).to('cuda')  # 첫 번째 문장의 일부 사용\n",
    "model.calculate_confidences(input_ids_sample)\n",
    "\n",
    "for num_pruned_layers in range(1, 6):  # 1에서 5까지\n",
    "    model.prune_layers_by_confidence(num_pruned_layers)\n",
    "    sparsity = num_pruned_layers / len(model.model.layers)\n",
    "    print(f\"Pruned {num_pruned_layers} layers (sparsity: {sparsity*100:.2f}%)\")\n",
    "    \n",
    "    ppl, latency = calculate_perplexity_and_latency(model, split_input_ids, max_sample_length, stride)\n",
    "    results_clp.append((num_pruned_layers, sparsity, ppl, latency))\n",
    "    print(f\"Perplexity: {ppl}, Latency: {latency} seconds\")\n",
    "    \n",
    "    # Reset the model to unpruned state\n",
    "    model.pruned_layers = set()\n"
   ]
  },
  {
   "cell_type": "code",
   "execution_count": 2,
   "id": "21795138-6087-466a-ba03-8f52bfdfbcf4",
   "metadata": {},
   "outputs": [
    {
     "name": "stdout",
     "output_type": "stream",
     "text": [
      "Sorted confidence differences and corresponding layer indices:\n",
      "Layer 28: Confidence Difference = -0.27245575189590454\n",
      "Layer 27: Confidence Difference = -0.12961095571517944\n",
      "Layer 30: Confidence Difference = -0.04082375764846802\n",
      "Layer 26: Confidence Difference = -0.0026807188987731934\n",
      "Layer 24: Confidence Difference = -0.002172708511352539\n",
      "Layer 11: Confidence Difference = -1.02266640169546e-05\n",
      "Layer 9: Confidence Difference = -5.865156708750874e-06\n",
      "Layer 4: Confidence Difference = -4.911027644993737e-06\n",
      "Layer 0: Confidence Difference = 2.528497134335339e-06\n",
      "Layer 5: Confidence Difference = 4.260557034285739e-06\n",
      "Layer 2: Confidence Difference = 5.329737177817151e-06\n",
      "Layer 1: Confidence Difference = 6.110480171628296e-06\n",
      "Layer 7: Confidence Difference = 8.224968041758984e-06\n",
      "Layer 6: Confidence Difference = 8.651364623801783e-06\n",
      "Layer 3: Confidence Difference = 8.906274160835892e-06\n",
      "Layer 10: Confidence Difference = 2.0298502931836993e-05\n",
      "Layer 13: Confidence Difference = 2.11149308597669e-05\n",
      "Layer 8: Confidence Difference = 2.924430009443313e-05\n",
      "Layer 12: Confidence Difference = 3.1590556318406016e-05\n",
      "Layer 14: Confidence Difference = 8.555287786293775e-05\n",
      "Layer 15: Confidence Difference = 0.00021523074246942997\n",
      "Layer 16: Confidence Difference = 0.0002880477113649249\n",
      "Layer 17: Confidence Difference = 0.0017956780502572656\n",
      "Layer 25: Confidence Difference = 0.002627432346343994\n",
      "Layer 23: Confidence Difference = 0.0047553181648254395\n",
      "Layer 18: Confidence Difference = 0.0062693769577890635\n",
      "Layer 22: Confidence Difference = 0.015832722187042236\n",
      "Layer 21: Confidence Difference = 0.042887330055236816\n",
      "Layer 19: Confidence Difference = 0.07287785038352013\n",
      "Layer 29: Confidence Difference = 0.3960084915161133\n",
      "Layer 20: Confidence Difference = 0.8513924404978752\n",
      "Pruned layers: {28}\n",
      "Pruned 1 layers (sparsity: 3.12%)\n"
     ]
    },
    {
     "name": "stderr",
     "output_type": "stream",
     "text": [
      "Processing: 100%|██████████| 17/17 [07:34<00:00, 26.75s/it]\n"
     ]
    },
    {
     "name": "stdout",
     "output_type": "stream",
     "text": [
      "Perplexity: 6.276174545288086, Latency: 454.70400404930115 seconds\n",
      "Sorted confidence differences and corresponding layer indices:\n",
      "Layer 28: Confidence Difference = -0.27245575189590454\n",
      "Layer 27: Confidence Difference = -0.12961095571517944\n",
      "Layer 30: Confidence Difference = -0.04082375764846802\n",
      "Layer 26: Confidence Difference = -0.0026807188987731934\n",
      "Layer 24: Confidence Difference = -0.002172708511352539\n",
      "Layer 11: Confidence Difference = -1.02266640169546e-05\n",
      "Layer 9: Confidence Difference = -5.865156708750874e-06\n",
      "Layer 4: Confidence Difference = -4.911027644993737e-06\n",
      "Layer 0: Confidence Difference = 2.528497134335339e-06\n",
      "Layer 5: Confidence Difference = 4.260557034285739e-06\n",
      "Layer 2: Confidence Difference = 5.329737177817151e-06\n",
      "Layer 1: Confidence Difference = 6.110480171628296e-06\n",
      "Layer 7: Confidence Difference = 8.224968041758984e-06\n",
      "Layer 6: Confidence Difference = 8.651364623801783e-06\n",
      "Layer 3: Confidence Difference = 8.906274160835892e-06\n",
      "Layer 10: Confidence Difference = 2.0298502931836993e-05\n",
      "Layer 13: Confidence Difference = 2.11149308597669e-05\n",
      "Layer 8: Confidence Difference = 2.924430009443313e-05\n",
      "Layer 12: Confidence Difference = 3.1590556318406016e-05\n",
      "Layer 14: Confidence Difference = 8.555287786293775e-05\n",
      "Layer 15: Confidence Difference = 0.00021523074246942997\n",
      "Layer 16: Confidence Difference = 0.0002880477113649249\n",
      "Layer 17: Confidence Difference = 0.0017956780502572656\n",
      "Layer 25: Confidence Difference = 0.002627432346343994\n",
      "Layer 23: Confidence Difference = 0.0047553181648254395\n",
      "Layer 18: Confidence Difference = 0.0062693769577890635\n",
      "Layer 22: Confidence Difference = 0.015832722187042236\n",
      "Layer 21: Confidence Difference = 0.042887330055236816\n",
      "Layer 19: Confidence Difference = 0.07287785038352013\n",
      "Layer 29: Confidence Difference = 0.3960084915161133\n",
      "Layer 20: Confidence Difference = 0.8513924404978752\n",
      "Pruned layers: {27, 28}\n",
      "Pruned 2 layers (sparsity: 6.25%)\n"
     ]
    },
    {
     "name": "stderr",
     "output_type": "stream",
     "text": [
      "Processing: 100%|██████████| 17/17 [07:22<00:00, 26.01s/it]\n"
     ]
    },
    {
     "name": "stdout",
     "output_type": "stream",
     "text": [
      "Perplexity: 6.827230453491211, Latency: 442.13317704200745 seconds\n",
      "Sorted confidence differences and corresponding layer indices:\n",
      "Layer 28: Confidence Difference = -0.27245575189590454\n",
      "Layer 27: Confidence Difference = -0.12961095571517944\n",
      "Layer 30: Confidence Difference = -0.04082375764846802\n",
      "Layer 26: Confidence Difference = -0.0026807188987731934\n",
      "Layer 24: Confidence Difference = -0.002172708511352539\n",
      "Layer 11: Confidence Difference = -1.02266640169546e-05\n",
      "Layer 9: Confidence Difference = -5.865156708750874e-06\n",
      "Layer 4: Confidence Difference = -4.911027644993737e-06\n",
      "Layer 0: Confidence Difference = 2.528497134335339e-06\n",
      "Layer 5: Confidence Difference = 4.260557034285739e-06\n",
      "Layer 2: Confidence Difference = 5.329737177817151e-06\n",
      "Layer 1: Confidence Difference = 6.110480171628296e-06\n",
      "Layer 7: Confidence Difference = 8.224968041758984e-06\n",
      "Layer 6: Confidence Difference = 8.651364623801783e-06\n",
      "Layer 3: Confidence Difference = 8.906274160835892e-06\n",
      "Layer 10: Confidence Difference = 2.0298502931836993e-05\n",
      "Layer 13: Confidence Difference = 2.11149308597669e-05\n",
      "Layer 8: Confidence Difference = 2.924430009443313e-05\n",
      "Layer 12: Confidence Difference = 3.1590556318406016e-05\n",
      "Layer 14: Confidence Difference = 8.555287786293775e-05\n",
      "Layer 15: Confidence Difference = 0.00021523074246942997\n",
      "Layer 16: Confidence Difference = 0.0002880477113649249\n",
      "Layer 17: Confidence Difference = 0.0017956780502572656\n",
      "Layer 25: Confidence Difference = 0.002627432346343994\n",
      "Layer 23: Confidence Difference = 0.0047553181648254395\n",
      "Layer 18: Confidence Difference = 0.0062693769577890635\n",
      "Layer 22: Confidence Difference = 0.015832722187042236\n",
      "Layer 21: Confidence Difference = 0.042887330055236816\n",
      "Layer 19: Confidence Difference = 0.07287785038352013\n",
      "Layer 29: Confidence Difference = 0.3960084915161133\n",
      "Layer 20: Confidence Difference = 0.8513924404978752\n",
      "Pruned layers: {27, 28, 30}\n",
      "Pruned 3 layers (sparsity: 9.38%)\n"
     ]
    },
    {
     "name": "stderr",
     "output_type": "stream",
     "text": [
      "Processing: 100%|██████████| 17/17 [07:08<00:00, 25.21s/it]\n"
     ]
    },
    {
     "name": "stdout",
     "output_type": "stream",
     "text": [
      "Perplexity: 9.135659217834473, Latency: 428.5693485736847 seconds\n",
      "Sorted confidence differences and corresponding layer indices:\n",
      "Layer 28: Confidence Difference = -0.27245575189590454\n",
      "Layer 27: Confidence Difference = -0.12961095571517944\n",
      "Layer 30: Confidence Difference = -0.04082375764846802\n",
      "Layer 26: Confidence Difference = -0.0026807188987731934\n",
      "Layer 24: Confidence Difference = -0.002172708511352539\n",
      "Layer 11: Confidence Difference = -1.02266640169546e-05\n",
      "Layer 9: Confidence Difference = -5.865156708750874e-06\n",
      "Layer 4: Confidence Difference = -4.911027644993737e-06\n",
      "Layer 0: Confidence Difference = 2.528497134335339e-06\n",
      "Layer 5: Confidence Difference = 4.260557034285739e-06\n",
      "Layer 2: Confidence Difference = 5.329737177817151e-06\n",
      "Layer 1: Confidence Difference = 6.110480171628296e-06\n",
      "Layer 7: Confidence Difference = 8.224968041758984e-06\n",
      "Layer 6: Confidence Difference = 8.651364623801783e-06\n",
      "Layer 3: Confidence Difference = 8.906274160835892e-06\n",
      "Layer 10: Confidence Difference = 2.0298502931836993e-05\n",
      "Layer 13: Confidence Difference = 2.11149308597669e-05\n",
      "Layer 8: Confidence Difference = 2.924430009443313e-05\n",
      "Layer 12: Confidence Difference = 3.1590556318406016e-05\n",
      "Layer 14: Confidence Difference = 8.555287786293775e-05\n",
      "Layer 15: Confidence Difference = 0.00021523074246942997\n",
      "Layer 16: Confidence Difference = 0.0002880477113649249\n",
      "Layer 17: Confidence Difference = 0.0017956780502572656\n",
      "Layer 25: Confidence Difference = 0.002627432346343994\n",
      "Layer 23: Confidence Difference = 0.0047553181648254395\n",
      "Layer 18: Confidence Difference = 0.0062693769577890635\n",
      "Layer 22: Confidence Difference = 0.015832722187042236\n",
      "Layer 21: Confidence Difference = 0.042887330055236816\n",
      "Layer 19: Confidence Difference = 0.07287785038352013\n",
      "Layer 29: Confidence Difference = 0.3960084915161133\n",
      "Layer 20: Confidence Difference = 0.8513924404978752\n",
      "Pruned layers: {26, 27, 28, 30}\n",
      "Pruned 4 layers (sparsity: 12.50%)\n"
     ]
    },
    {
     "name": "stderr",
     "output_type": "stream",
     "text": [
      "Processing: 100%|██████████| 17/17 [06:55<00:00, 24.43s/it]\n"
     ]
    },
    {
     "name": "stdout",
     "output_type": "stream",
     "text": [
      "Perplexity: 11.471914291381836, Latency: 415.3347804546356 seconds\n",
      "Sorted confidence differences and corresponding layer indices:\n",
      "Layer 28: Confidence Difference = -0.27245575189590454\n",
      "Layer 27: Confidence Difference = -0.12961095571517944\n",
      "Layer 30: Confidence Difference = -0.04082375764846802\n",
      "Layer 26: Confidence Difference = -0.0026807188987731934\n",
      "Layer 24: Confidence Difference = -0.002172708511352539\n",
      "Layer 11: Confidence Difference = -1.02266640169546e-05\n",
      "Layer 9: Confidence Difference = -5.865156708750874e-06\n",
      "Layer 4: Confidence Difference = -4.911027644993737e-06\n",
      "Layer 0: Confidence Difference = 2.528497134335339e-06\n",
      "Layer 5: Confidence Difference = 4.260557034285739e-06\n",
      "Layer 2: Confidence Difference = 5.329737177817151e-06\n",
      "Layer 1: Confidence Difference = 6.110480171628296e-06\n",
      "Layer 7: Confidence Difference = 8.224968041758984e-06\n",
      "Layer 6: Confidence Difference = 8.651364623801783e-06\n",
      "Layer 3: Confidence Difference = 8.906274160835892e-06\n",
      "Layer 10: Confidence Difference = 2.0298502931836993e-05\n",
      "Layer 13: Confidence Difference = 2.11149308597669e-05\n",
      "Layer 8: Confidence Difference = 2.924430009443313e-05\n",
      "Layer 12: Confidence Difference = 3.1590556318406016e-05\n",
      "Layer 14: Confidence Difference = 8.555287786293775e-05\n",
      "Layer 15: Confidence Difference = 0.00021523074246942997\n",
      "Layer 16: Confidence Difference = 0.0002880477113649249\n",
      "Layer 17: Confidence Difference = 0.0017956780502572656\n",
      "Layer 25: Confidence Difference = 0.002627432346343994\n",
      "Layer 23: Confidence Difference = 0.0047553181648254395\n",
      "Layer 18: Confidence Difference = 0.0062693769577890635\n",
      "Layer 22: Confidence Difference = 0.015832722187042236\n",
      "Layer 21: Confidence Difference = 0.042887330055236816\n",
      "Layer 19: Confidence Difference = 0.07287785038352013\n",
      "Layer 29: Confidence Difference = 0.3960084915161133\n",
      "Layer 20: Confidence Difference = 0.8513924404978752\n",
      "Pruned layers: {24, 26, 27, 28, 30}\n",
      "Pruned 5 layers (sparsity: 15.62%)\n"
     ]
    },
    {
     "name": "stderr",
     "output_type": "stream",
     "text": [
      "Processing: 100%|██████████| 17/17 [06:38<00:00, 23.45s/it]"
     ]
    },
    {
     "name": "stdout",
     "output_type": "stream",
     "text": [
      "Perplexity: 13.558064460754395, Latency: 398.6007730960846 seconds\n"
     ]
    },
    {
     "name": "stderr",
     "output_type": "stream",
     "text": [
      "\n"
     ]
    }
   ],
   "source": [
    "dataset = load_dataset(\"wikitext\", \"wikitext-2-raw-v1\", split=\"test[:5%]\")  # 데이터셋의 5%만 사용\n",
    "max_length = model.config.max_position_embeddings\n",
    "stride = 32\n",
    "max_sample_length = 1024  # 설정 가능한 최대 샘플 길이\n",
    "\n",
    "# 데이터 전처리: 일정 크기가 넘는 샘플은 잘라서 처리\n",
    "texts = \"\\n\\n\".join(dataset[\"text\"])\n",
    "tokens = tokenizer(texts, return_tensors=\"pt\")\n",
    "input_ids = tokens.input_ids[0]\n",
    "\n",
    "split_input_ids = split_long_text(input_ids, max_sample_length)\n",
    "\n",
    "results_clw = []\n",
    "\n",
    "# 초기 엔트로피 계산\n",
    "input_ids_sample = split_input_ids[0][:32].unsqueeze(0).to('cuda')  # 첫 번째 문장의 일부 사용\n",
    "model.calculate_confidences(input_ids_sample)\n",
    "\n",
    "for num_pruned_layers in range(1, 6):  # 1에서 5까지\n",
    "    model.prune_layers_by_confidence(num_pruned_layers)\n",
    "    sparsity = num_pruned_layers / len(model.model.layers)\n",
    "    print(f\"Pruned {num_pruned_layers} layers (sparsity: {sparsity*100:.2f}%)\")\n",
    "    \n",
    "    ppl, latency = calculate_perplexity_and_latency(model, split_input_ids, max_sample_length, stride)\n",
    "    results_clw.append((num_pruned_layers, sparsity, ppl, latency))\n",
    "    print(f\"Perplexity: {ppl}, Latency: {latency} seconds\")\n",
    "    \n",
    "    # Reset the model to unpruned state\n",
    "    model.pruned_layers = set()"
   ]
  },
  {
   "cell_type": "code",
   "execution_count": 3,
   "id": "61f52f8c-3dad-4163-8571-e69d1c54b6e0",
   "metadata": {},
   "outputs": [
    {
     "data": {
      "text/plain": [
       "[(1, 0.03125, 21.972270965576172, 454.26698565483093),\n",
       " (2, 0.0625, 23.231170654296875, 443.6237030029297),\n",
       " (3, 0.09375, 25.440210342407227, 430.69585371017456),\n",
       " (4, 0.125, 36.3902702331543, 417.228351354599),\n",
       " (5, 0.15625, 24279.306640625, 403.2637720108032)]"
      ]
     },
     "execution_count": 3,
     "metadata": {},
     "output_type": "execute_result"
    }
   ],
   "source": [
    "results_clp"
   ]
  },
  {
   "cell_type": "code",
   "execution_count": 4,
   "id": "1525aa5d-ca0b-4f7e-b1a7-4db2269ae93e",
   "metadata": {},
   "outputs": [
    {
     "data": {
      "text/plain": [
       "[(1, 0.03125, 6.276174545288086, 454.70400404930115),\n",
       " (2, 0.0625, 6.827230453491211, 442.13317704200745),\n",
       " (3, 0.09375, 9.135659217834473, 428.5693485736847),\n",
       " (4, 0.125, 11.471914291381836, 415.3347804546356),\n",
       " (5, 0.15625, 13.558064460754395, 398.6007730960846)]"
      ]
     },
     "execution_count": 4,
     "metadata": {},
     "output_type": "execute_result"
    }
   ],
   "source": [
    "results_clw"
   ]
  },
  {
   "cell_type": "code",
   "execution_count": 8,
   "id": "a7b6dccc-39e4-44dd-a7b5-a173df0af1c3",
   "metadata": {},
   "outputs": [
    {
     "data": {
      "image/png": "[encoded data removed]",
      "text/plain": [
       "<Figure size 700x400 with 2 Axes>"
      ]
     },
     "metadata": {},
     "output_type": "display_data"
    }
   ],
   "source": [
    "# PTB 데이터셋 결과\n",
    "num_pruned_layers_ptb = [r[0] for r in results_clp]\n",
    "sparsities_ptb = [r[1] for r in results_clp]\n",
    "ppls_ptb = [r[2] for r in results_clp]\n",
    "latencies_ptb = [r[3] for r in results_clp]\n",
    "\n",
    "# Wikitext2 데이터셋 결과\n",
    "num_pruned_layers_wikitext = [r[0] for r in results_clw]\n",
    "sparsities_wikitext = [r[1] for r in results_clw]\n",
    "ppls_wikitext = [r[2] for r in results_clw]\n",
    "latencies_wikitext = [r[3] for r in results_clw]\n",
    "\n",
    "plt.figure(figsize=(7, 4))\n",
    "\n",
    "plt.subplot(1, 2, 1)\n",
    "plt.plot(num_pruned_layers_wikitext, ppls_wikitext, marker='o', label=\"Wikitext2\", color='orange')\n",
    "plt.plot(num_pruned_layers_ptb, ppls_ptb, marker='o', label=\"PTB\", color='b')\n",
    "plt.xlabel(\"Number of Pruned Layers\")\n",
    "plt.ylabel(\"PTB Perplexity\")\n",
    "plt.ylim(0, 50)\n",
    "plt.title(\"Perplexity vs. # of Pruned Layers\")\n",
    "plt.legend()\n",
    "\n",
    "# Latency\n",
    "plt.subplot(1, 2, 2)\n",
    "plt.plot(num_pruned_layers_ptb, latencies_ptb, marker='o', label=\"PTB\", color='b')\n",
    "plt.plot(num_pruned_layers_wikitext, latencies_wikitext, marker='o', label=\"Wikitext2\", color='orange')\n",
    "plt.xlabel(\"Number of Pruned Layers\")\n",
    "plt.ylabel(\"Latency (seconds)\")\n",
    "plt.title(\"Latency vs. # of Pruned Layers\")\n",
    "plt.legend()\n",
    "\n",
    "plt.tight_layout()\n",
    "plt.show()\n"
   ]
  }
 ],
 "metadata": {
  "kernelspec": {
   "display_name": "Python 3.9 (myenv)",
   "language": "python",
   "name": "myenv"
  },
  "language_info": {
   "codemirror_mode": {
    "name": "ipython",
    "version": 3
   },
   "file_extension": ".py",
   "mimetype": "text/x-python",
   "name": "python",
   "nbconvert_exporter": "python",
   "pygments_lexer": "ipython3",
   "version": "3.9.0"
  },
  "widgets": {
   "application/vnd.jupyter.widget-state+json": {
    "state": {},
    "version_major": 2,
    "version_minor": 0
   }
  }
 },
 "nbformat": 4,
 "nbformat_minor": 5
}
